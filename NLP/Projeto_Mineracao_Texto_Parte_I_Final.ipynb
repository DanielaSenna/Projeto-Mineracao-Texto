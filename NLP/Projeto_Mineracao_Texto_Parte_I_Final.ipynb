{
 "cells": [
  {
   "cell_type": "markdown",
   "id": "f5df8366",
   "metadata": {},
   "source": [
    "## Classificação e Monitoramento de Reviews do leitor digital Kindle"
   ]
  },
  {
   "cell_type": "code",
   "execution_count": 167,
   "id": "7bca3d2c",
   "metadata": {},
   "outputs": [
    {
     "name": "stdout",
     "output_type": "stream",
     "text": [
      "Requirement already satisfied: clean-text in c:\\users\\mcacs\\anaconda3\\envs\\sidi\\lib\\site-packages (0.4.0)\n",
      "Requirement already satisfied: ftfy<7.0,>=6.0 in c:\\users\\mcacs\\anaconda3\\envs\\sidi\\lib\\site-packages (from clean-text) (6.1.1)\n",
      "Requirement already satisfied: emoji in c:\\users\\mcacs\\anaconda3\\envs\\sidi\\lib\\site-packages (from clean-text) (1.6.1)\n",
      "Requirement already satisfied: wcwidth>=0.2.5 in c:\\users\\mcacs\\anaconda3\\envs\\sidi\\lib\\site-packages (from ftfy<7.0,>=6.0->clean-text) (0.2.5)\n",
      "Note: you may need to restart the kernel to use updated packages.\n"
     ]
    }
   ],
   "source": [
    "pip install clean-text"
   ]
  },
  {
   "cell_type": "code",
   "execution_count": 168,
   "id": "1efe8f9a",
   "metadata": {},
   "outputs": [
    {
     "name": "stderr",
     "output_type": "stream",
     "text": [
      "[nltk_data] Downloading package stopwords to\n",
      "[nltk_data]     C:\\Users\\mcacs\\AppData\\Roaming\\nltk_data...\n",
      "[nltk_data]   Package stopwords is already up-to-date!\n",
      "[nltk_data] Downloading package rslp to\n",
      "[nltk_data]     C:\\Users\\mcacs\\AppData\\Roaming\\nltk_data...\n",
      "[nltk_data]   Package rslp is already up-to-date!\n",
      "[nltk_data] Downloading package punkt to\n",
      "[nltk_data]     C:\\Users\\mcacs\\AppData\\Roaming\\nltk_data...\n",
      "[nltk_data]   Package punkt is already up-to-date!\n"
     ]
    }
   ],
   "source": [
    "import pandas as pd\n",
    "import seaborn as sn\n",
    "import matplotlib.pyplot as plt\n",
    "import numpy as np\n",
    "\n",
    "import nltk \n",
    "from nltk.stem import RSLPStemmer\n",
    "from nltk.tokenize import word_tokenize\n",
    "from string import punctuation\n",
    "from cleantext import clean\n",
    "import re\n",
    "\n",
    "from sklearn.model_selection import train_test_split\n",
    "from sklearn.feature_extraction.text import CountVectorizer\n",
    "from sklearn.feature_extraction.text import TfidfVectorizer\n",
    "from sklearn.ensemble import RandomForestClassifier\n",
    "from sklearn.model_selection import cross_val_score\n",
    "from sklearn.model_selection import KFold, StratifiedKFold\n",
    "from sklearn.metrics import classification_report, confusion_matrix, accuracy_score, f1_score, recall_score, precision_score\n",
    "from sklearn.model_selection import RandomizedSearchCV\n",
    "from sklearn.model_selection import GridSearchCV\n",
    "\n",
    "import tensorflow as tf\n",
    "from tensorflow import keras\n",
    "from tensorflow.keras.preprocessing.text import Tokenizer\n",
    "from tensorflow.keras.preprocessing.sequence import pad_sequences\n",
    "from numpy import array\n",
    "from numpy import asarray\n",
    "\n",
    "nltk.download('stopwords')\n",
    "nltk.download('rslp')\n",
    "nltk.download('punkt')\n",
    "\n",
    "import warnings\n",
    "warnings.filterwarnings(\"ignore\")"
   ]
  },
  {
   "cell_type": "code",
   "execution_count": 169,
   "id": "f34dc0e2",
   "metadata": {},
   "outputs": [
    {
     "data": {
      "text/html": [
       "<div>\n",
       "<style scoped>\n",
       "    .dataframe tbody tr th:only-of-type {\n",
       "        vertical-align: middle;\n",
       "    }\n",
       "\n",
       "    .dataframe tbody tr th {\n",
       "        vertical-align: top;\n",
       "    }\n",
       "\n",
       "    .dataframe thead th {\n",
       "        text-align: right;\n",
       "    }\n",
       "</style>\n",
       "<table border=\"1\" class=\"dataframe\">\n",
       "  <thead>\n",
       "    <tr style=\"text-align: right;\">\n",
       "      <th></th>\n",
       "      <th>Nome</th>\n",
       "      <th>Titulo</th>\n",
       "      <th>Texto</th>\n",
       "      <th>Data</th>\n",
       "      <th>Review</th>\n",
       "    </tr>\n",
       "  </thead>\n",
       "  <tbody>\n",
       "    <tr>\n",
       "      <th>0</th>\n",
       "      <td>Anne Naus</td>\n",
       "      <td>Mais barato, bom e bonito. Amei minha escolha.</td>\n",
       "      <td>Apesar de oferecer 4GB, só com sistema ele con...</td>\n",
       "      <td>Avaliado no Brasil em 27 de maio de 2019</td>\n",
       "      <td>5,0 de 5 estrelas</td>\n",
       "    </tr>\n",
       "    <tr>\n",
       "      <th>1</th>\n",
       "      <td>SoldaCosta</td>\n",
       "      <td>Onde está meus 90 dias de leitura grátis?</td>\n",
       "      <td>Adorei. Só não ganhei os 90 dias de leitura gr...</td>\n",
       "      <td>Avaliado no Brasil em 30 de abril de 2019</td>\n",
       "      <td>4,0 de 5 estrelas</td>\n",
       "    </tr>\n",
       "    <tr>\n",
       "      <th>2</th>\n",
       "      <td>Amanda s</td>\n",
       "      <td>Bom produto</td>\n",
       "      <td>Maravilhoso!Mas ainda estou procurando os 4gb ...</td>\n",
       "      <td>Avaliado no Brasil em 3 de maio de 2019</td>\n",
       "      <td>4,0 de 5 estrelas</td>\n",
       "    </tr>\n",
       "    <tr>\n",
       "      <th>3</th>\n",
       "      <td>Allison Silva Resende</td>\n",
       "      <td>Triste compra uma coisa que se diz 4gb e so vi...</td>\n",
       "      <td>Produto é o que é, gostei da experiencia é a p...</td>\n",
       "      <td>Avaliado no Brasil em 6 de maio de 2019</td>\n",
       "      <td>1,0 de 5 estrelas</td>\n",
       "    </tr>\n",
       "    <tr>\n",
       "      <th>4</th>\n",
       "      <td>Laura Marodin De Bacco</td>\n",
       "      <td>Maravilhoso</td>\n",
       "      <td>Não posso comparar com as outras geração pois ...</td>\n",
       "      <td>Avaliado no Brasil em 4 de maio de 2019</td>\n",
       "      <td>5,0 de 5 estrelas</td>\n",
       "    </tr>\n",
       "  </tbody>\n",
       "</table>\n",
       "</div>"
      ],
      "text/plain": [
       "                     Nome                                             Titulo  \\\n",
       "0               Anne Naus     Mais barato, bom e bonito. Amei minha escolha.   \n",
       "1              SoldaCosta          Onde está meus 90 dias de leitura grátis?   \n",
       "2                Amanda s                                        Bom produto   \n",
       "3   Allison Silva Resende  Triste compra uma coisa que se diz 4gb e so vi...   \n",
       "4  Laura Marodin De Bacco                                        Maravilhoso   \n",
       "\n",
       "                                               Texto  \\\n",
       "0  Apesar de oferecer 4GB, só com sistema ele con...   \n",
       "1  Adorei. Só não ganhei os 90 dias de leitura gr...   \n",
       "2  Maravilhoso!Mas ainda estou procurando os 4gb ...   \n",
       "3  Produto é o que é, gostei da experiencia é a p...   \n",
       "4  Não posso comparar com as outras geração pois ...   \n",
       "\n",
       "                                        Data             Review  \n",
       "0   Avaliado no Brasil em 27 de maio de 2019  5,0 de 5 estrelas  \n",
       "1  Avaliado no Brasil em 30 de abril de 2019  4,0 de 5 estrelas  \n",
       "2    Avaliado no Brasil em 3 de maio de 2019  4,0 de 5 estrelas  \n",
       "3    Avaliado no Brasil em 6 de maio de 2019  1,0 de 5 estrelas  \n",
       "4    Avaliado no Brasil em 4 de maio de 2019  5,0 de 5 estrelas  "
      ]
     },
     "execution_count": 169,
     "metadata": {},
     "output_type": "execute_result"
    }
   ],
   "source": [
    "df = pd.read_csv('reviews_kindle.csv')\n",
    "df.head()"
   ]
  },
  {
   "cell_type": "code",
   "execution_count": 170,
   "id": "34bb76e4",
   "metadata": {},
   "outputs": [
    {
     "data": {
      "text/plain": [
       "(5000, 5)"
      ]
     },
     "execution_count": 170,
     "metadata": {},
     "output_type": "execute_result"
    }
   ],
   "source": [
    "df.shape"
   ]
  },
  {
   "cell_type": "code",
   "execution_count": 171,
   "id": "ab6514c9",
   "metadata": {},
   "outputs": [
    {
     "name": "stdout",
     "output_type": "stream",
     "text": [
      "<class 'pandas.core.frame.DataFrame'>\n",
      "RangeIndex: 5000 entries, 0 to 4999\n",
      "Data columns (total 5 columns):\n",
      " #   Column  Non-Null Count  Dtype \n",
      "---  ------  --------------  ----- \n",
      " 0   Nome    5000 non-null   object\n",
      " 1   Titulo  5000 non-null   object\n",
      " 2   Texto   4999 non-null   object\n",
      " 3   Data    5000 non-null   object\n",
      " 4   Review  5000 non-null   object\n",
      "dtypes: object(5)\n",
      "memory usage: 195.4+ KB\n"
     ]
    }
   ],
   "source": [
    "df.info()"
   ]
  },
  {
   "cell_type": "code",
   "execution_count": 172,
   "id": "c12222e7",
   "metadata": {},
   "outputs": [],
   "source": [
    "df['Review'] = df['Review'].str.replace('de 5 estrelas', '').str.replace(',0', '')\n",
    "\n",
    "df[\"Texto\"] = df[\"Texto\"].astype(str)\n",
    "df[\"Review\"] = df[\"Review\"].astype(int)"
   ]
  },
  {
   "cell_type": "code",
   "execution_count": 173,
   "id": "ee2e2b7e",
   "metadata": {},
   "outputs": [
    {
     "data": {
      "text/html": [
       "<div>\n",
       "<style scoped>\n",
       "    .dataframe tbody tr th:only-of-type {\n",
       "        vertical-align: middle;\n",
       "    }\n",
       "\n",
       "    .dataframe tbody tr th {\n",
       "        vertical-align: top;\n",
       "    }\n",
       "\n",
       "    .dataframe thead th {\n",
       "        text-align: right;\n",
       "    }\n",
       "</style>\n",
       "<table border=\"1\" class=\"dataframe\">\n",
       "  <thead>\n",
       "    <tr style=\"text-align: right;\">\n",
       "      <th></th>\n",
       "      <th>Nome</th>\n",
       "      <th>Titulo</th>\n",
       "      <th>Texto</th>\n",
       "      <th>Data</th>\n",
       "      <th>Review</th>\n",
       "    </tr>\n",
       "  </thead>\n",
       "  <tbody>\n",
       "    <tr>\n",
       "      <th>0</th>\n",
       "      <td>Anne Naus</td>\n",
       "      <td>Mais barato, bom e bonito. Amei minha escolha.</td>\n",
       "      <td>Apesar de oferecer 4GB, só com sistema ele con...</td>\n",
       "      <td>Avaliado no Brasil em 27 de maio de 2019</td>\n",
       "      <td>5</td>\n",
       "    </tr>\n",
       "    <tr>\n",
       "      <th>1</th>\n",
       "      <td>SoldaCosta</td>\n",
       "      <td>Onde está meus 90 dias de leitura grátis?</td>\n",
       "      <td>Adorei. Só não ganhei os 90 dias de leitura gr...</td>\n",
       "      <td>Avaliado no Brasil em 30 de abril de 2019</td>\n",
       "      <td>4</td>\n",
       "    </tr>\n",
       "    <tr>\n",
       "      <th>2</th>\n",
       "      <td>Amanda s</td>\n",
       "      <td>Bom produto</td>\n",
       "      <td>Maravilhoso!Mas ainda estou procurando os 4gb ...</td>\n",
       "      <td>Avaliado no Brasil em 3 de maio de 2019</td>\n",
       "      <td>4</td>\n",
       "    </tr>\n",
       "    <tr>\n",
       "      <th>3</th>\n",
       "      <td>Allison Silva Resende</td>\n",
       "      <td>Triste compra uma coisa que se diz 4gb e so vi...</td>\n",
       "      <td>Produto é o que é, gostei da experiencia é a p...</td>\n",
       "      <td>Avaliado no Brasil em 6 de maio de 2019</td>\n",
       "      <td>1</td>\n",
       "    </tr>\n",
       "    <tr>\n",
       "      <th>4</th>\n",
       "      <td>Laura Marodin De Bacco</td>\n",
       "      <td>Maravilhoso</td>\n",
       "      <td>Não posso comparar com as outras geração pois ...</td>\n",
       "      <td>Avaliado no Brasil em 4 de maio de 2019</td>\n",
       "      <td>5</td>\n",
       "    </tr>\n",
       "  </tbody>\n",
       "</table>\n",
       "</div>"
      ],
      "text/plain": [
       "                     Nome                                             Titulo  \\\n",
       "0               Anne Naus     Mais barato, bom e bonito. Amei minha escolha.   \n",
       "1              SoldaCosta          Onde está meus 90 dias de leitura grátis?   \n",
       "2                Amanda s                                        Bom produto   \n",
       "3   Allison Silva Resende  Triste compra uma coisa que se diz 4gb e so vi...   \n",
       "4  Laura Marodin De Bacco                                        Maravilhoso   \n",
       "\n",
       "                                               Texto  \\\n",
       "0  Apesar de oferecer 4GB, só com sistema ele con...   \n",
       "1  Adorei. Só não ganhei os 90 dias de leitura gr...   \n",
       "2  Maravilhoso!Mas ainda estou procurando os 4gb ...   \n",
       "3  Produto é o que é, gostei da experiencia é a p...   \n",
       "4  Não posso comparar com as outras geração pois ...   \n",
       "\n",
       "                                        Data  Review  \n",
       "0   Avaliado no Brasil em 27 de maio de 2019       5  \n",
       "1  Avaliado no Brasil em 30 de abril de 2019       4  \n",
       "2    Avaliado no Brasil em 3 de maio de 2019       4  \n",
       "3    Avaliado no Brasil em 6 de maio de 2019       1  \n",
       "4    Avaliado no Brasil em 4 de maio de 2019       5  "
      ]
     },
     "execution_count": 173,
     "metadata": {},
     "output_type": "execute_result"
    }
   ],
   "source": [
    "df.head()"
   ]
  },
  {
   "cell_type": "markdown",
   "id": "484723ad",
   "metadata": {},
   "source": [
    "## Distribuição das Reviews:"
   ]
  },
  {
   "cell_type": "code",
   "execution_count": 174,
   "id": "d19330c3",
   "metadata": {},
   "outputs": [
    {
     "data": {
      "image/png": "[encoded data removed]",
      "text/plain": [
       "<Figure size 720x360 with 1 Axes>"
      ]
     },
     "metadata": {
      "needs_background": "light"
     },
     "output_type": "display_data"
    }
   ],
   "source": [
    "sn.catplot(x='Review', kind='count', data=df, aspect=2)\n",
    "plt.show()"
   ]
  },
  {
   "cell_type": "markdown",
   "id": "9089e5bb",
   "metadata": {},
   "source": [
    "## Divisão das Reviews entre Negativo (0) e Positivo (1):"
   ]
  },
  {
   "cell_type": "code",
   "execution_count": 175,
   "id": "0f15383b",
   "metadata": {},
   "outputs": [],
   "source": [
    "df['Review'] = df['Review'].replace([1,2,3,4], 0)\n",
    "df['Review'] = df['Review'].replace([5], 1)"
   ]
  },
  {
   "cell_type": "code",
   "execution_count": 176,
   "id": "8f525232",
   "metadata": {},
   "outputs": [
    {
     "data": {
      "text/html": [
       "<div>\n",
       "<style scoped>\n",
       "    .dataframe tbody tr th:only-of-type {\n",
       "        vertical-align: middle;\n",
       "    }\n",
       "\n",
       "    .dataframe tbody tr th {\n",
       "        vertical-align: top;\n",
       "    }\n",
       "\n",
       "    .dataframe thead th {\n",
       "        text-align: right;\n",
       "    }\n",
       "</style>\n",
       "<table border=\"1\" class=\"dataframe\">\n",
       "  <thead>\n",
       "    <tr style=\"text-align: right;\">\n",
       "      <th></th>\n",
       "      <th>Nome</th>\n",
       "      <th>Titulo</th>\n",
       "      <th>Texto</th>\n",
       "      <th>Data</th>\n",
       "      <th>Review</th>\n",
       "    </tr>\n",
       "  </thead>\n",
       "  <tbody>\n",
       "    <tr>\n",
       "      <th>0</th>\n",
       "      <td>Anne Naus</td>\n",
       "      <td>Mais barato, bom e bonito. Amei minha escolha.</td>\n",
       "      <td>Apesar de oferecer 4GB, só com sistema ele con...</td>\n",
       "      <td>Avaliado no Brasil em 27 de maio de 2019</td>\n",
       "      <td>1</td>\n",
       "    </tr>\n",
       "    <tr>\n",
       "      <th>1</th>\n",
       "      <td>SoldaCosta</td>\n",
       "      <td>Onde está meus 90 dias de leitura grátis?</td>\n",
       "      <td>Adorei. Só não ganhei os 90 dias de leitura gr...</td>\n",
       "      <td>Avaliado no Brasil em 30 de abril de 2019</td>\n",
       "      <td>0</td>\n",
       "    </tr>\n",
       "    <tr>\n",
       "      <th>2</th>\n",
       "      <td>Amanda s</td>\n",
       "      <td>Bom produto</td>\n",
       "      <td>Maravilhoso!Mas ainda estou procurando os 4gb ...</td>\n",
       "      <td>Avaliado no Brasil em 3 de maio de 2019</td>\n",
       "      <td>0</td>\n",
       "    </tr>\n",
       "    <tr>\n",
       "      <th>3</th>\n",
       "      <td>Allison Silva Resende</td>\n",
       "      <td>Triste compra uma coisa que se diz 4gb e so vi...</td>\n",
       "      <td>Produto é o que é, gostei da experiencia é a p...</td>\n",
       "      <td>Avaliado no Brasil em 6 de maio de 2019</td>\n",
       "      <td>0</td>\n",
       "    </tr>\n",
       "    <tr>\n",
       "      <th>4</th>\n",
       "      <td>Laura Marodin De Bacco</td>\n",
       "      <td>Maravilhoso</td>\n",
       "      <td>Não posso comparar com as outras geração pois ...</td>\n",
       "      <td>Avaliado no Brasil em 4 de maio de 2019</td>\n",
       "      <td>1</td>\n",
       "    </tr>\n",
       "  </tbody>\n",
       "</table>\n",
       "</div>"
      ],
      "text/plain": [
       "                     Nome                                             Titulo  \\\n",
       "0               Anne Naus     Mais barato, bom e bonito. Amei minha escolha.   \n",
       "1              SoldaCosta          Onde está meus 90 dias de leitura grátis?   \n",
       "2                Amanda s                                        Bom produto   \n",
       "3   Allison Silva Resende  Triste compra uma coisa que se diz 4gb e so vi...   \n",
       "4  Laura Marodin De Bacco                                        Maravilhoso   \n",
       "\n",
       "                                               Texto  \\\n",
       "0  Apesar de oferecer 4GB, só com sistema ele con...   \n",
       "1  Adorei. Só não ganhei os 90 dias de leitura gr...   \n",
       "2  Maravilhoso!Mas ainda estou procurando os 4gb ...   \n",
       "3  Produto é o que é, gostei da experiencia é a p...   \n",
       "4  Não posso comparar com as outras geração pois ...   \n",
       "\n",
       "                                        Data  Review  \n",
       "0   Avaliado no Brasil em 27 de maio de 2019       1  \n",
       "1  Avaliado no Brasil em 30 de abril de 2019       0  \n",
       "2    Avaliado no Brasil em 3 de maio de 2019       0  \n",
       "3    Avaliado no Brasil em 6 de maio de 2019       0  \n",
       "4    Avaliado no Brasil em 4 de maio de 2019       1  "
      ]
     },
     "execution_count": 176,
     "metadata": {},
     "output_type": "execute_result"
    }
   ],
   "source": [
    "df.head()"
   ]
  },
  {
   "cell_type": "code",
   "execution_count": 177,
   "id": "d30f9de9",
   "metadata": {},
   "outputs": [
    {
     "data": {
      "image/png": "[encoded data removed]",
      "text/plain": [
       "<Figure size 720x360 with 1 Axes>"
      ]
     },
     "metadata": {
      "needs_background": "light"
     },
     "output_type": "display_data"
    }
   ],
   "source": [
    "sn.catplot(x='Review', kind='count', data=df, aspect=2)\n",
    "plt.show()"
   ]
  },
  {
   "cell_type": "code",
   "execution_count": 178,
   "id": "adc86a1c",
   "metadata": {},
   "outputs": [
    {
     "data": {
      "text/plain": [
       "1    3880\n",
       "0    1120\n",
       "Name: Review, dtype: int64"
      ]
     },
     "execution_count": 178,
     "metadata": {},
     "output_type": "execute_result"
    }
   ],
   "source": [
    "df[\"Review\"].value_counts()"
   ]
  },
  {
   "cell_type": "markdown",
   "id": "321b6023",
   "metadata": {},
   "source": [
    "Percebe-se que o dataset é formado principalmente por avaliações positivas. Mais precisamente, 77,6% das avaliações \n",
    "são positivas e 22,4% são negativas.\n",
    "O agrupamento dos reviews foi feito de modo a tentar diminuir ao máximo o desbalanceamento entre as classes."
   ]
  },
  {
   "cell_type": "markdown",
   "id": "a96a06ba",
   "metadata": {},
   "source": [
    "## Limpeza, Tokenização e Stemming:"
   ]
  },
  {
   "cell_type": "code",
   "execution_count": 179,
   "id": "8fc544c6",
   "metadata": {},
   "outputs": [],
   "source": [
    "df[\"Tokens\"] = df[\"Texto\"]\n",
    "df[\"Stemmer\"] = df[\"Texto\"]"
   ]
  },
  {
   "cell_type": "code",
   "execution_count": 180,
   "id": "8142a0ab",
   "metadata": {},
   "outputs": [],
   "source": [
    "def remove_emoji(string):\n",
    "    emoji_pattern = re.compile(\"[\"\n",
    "                               u\"\\U0001F600-\\U0001F64F\"  # emoticons\n",
    "                               u\"\\U0001F300-\\U0001F5FF\"  # symbols & pictographs\n",
    "                               u\"\\U0001F680-\\U0001F6FF\"  # transport & map symbols\n",
    "                               u\"\\U0001F1E0-\\U0001F1FF\"  # flags (iOS)\n",
    "                               u\"\\U00002500-\\U00002BEF\"  # chinese char\n",
    "                               u\"\\U00002702-\\U000027B0\"\n",
    "                               u\"\\U00002702-\\U000027B0\"\n",
    "                               u\"\\U000024C2-\\U0001F251\"\n",
    "                               u\"\\U0001f926-\\U0001f937\"\n",
    "                               u\"\\U00010000-\\U0010ffff\"\n",
    "                               u\"\\u2640-\\u2642\"\n",
    "                               u\"\\u2600-\\u2B55\"\n",
    "                               u\"\\u200d\"\n",
    "                               u\"\\u23cf\"\n",
    "                               u\"\\u23e9\"\n",
    "                               u\"\\u231a\"\n",
    "                               u\"\\ufe0f\"  # dingbats\n",
    "                               u\"\\u3030\"\n",
    "                               \"]+\", flags=re.UNICODE)\n",
    "    return emoji_pattern.sub(r'', string)\n"
   ]
  },
  {
   "cell_type": "code",
   "execution_count": 181,
   "id": "c2cc1775",
   "metadata": {},
   "outputs": [
    {
     "name": "stdout",
     "output_type": "stream",
     "text": [
      "Collecting pt-core-news-sm==3.2.0\n",
      "  Downloading https://github.com/explosion/spacy-models/releases/download/pt_core_news_sm-3.2.0/pt_core_news_sm-3.2.0-py3-none-any.whl (22.2 MB)\n",
      "Requirement already satisfied: spacy<3.3.0,>=3.2.0 in c:\\users\\mcacs\\anaconda3\\envs\\sidi\\lib\\site-packages (from pt-core-news-sm==3.2.0) (3.2.1)\n",
      "Requirement already satisfied: murmurhash<1.1.0,>=0.28.0 in c:\\users\\mcacs\\anaconda3\\envs\\sidi\\lib\\site-packages (from spacy<3.3.0,>=3.2.0->pt-core-news-sm==3.2.0) (1.0.6)\n",
      "Requirement already satisfied: typer<0.5.0,>=0.3.0 in c:\\users\\mcacs\\anaconda3\\envs\\sidi\\lib\\site-packages (from spacy<3.3.0,>=3.2.0->pt-core-news-sm==3.2.0) (0.4.0)\n",
      "Requirement already satisfied: jinja2 in c:\\users\\mcacs\\anaconda3\\envs\\sidi\\lib\\site-packages (from spacy<3.3.0,>=3.2.0->pt-core-news-sm==3.2.0) (3.0.3)\n",
      "Requirement already satisfied: spacy-legacy<3.1.0,>=3.0.8 in c:\\users\\mcacs\\anaconda3\\envs\\sidi\\lib\\site-packages (from spacy<3.3.0,>=3.2.0->pt-core-news-sm==3.2.0) (3.0.8)\n",
      "Requirement already satisfied: preshed<3.1.0,>=3.0.2 in c:\\users\\mcacs\\anaconda3\\envs\\sidi\\lib\\site-packages (from spacy<3.3.0,>=3.2.0->pt-core-news-sm==3.2.0) (3.0.6)\n",
      "Requirement already satisfied: thinc<8.1.0,>=8.0.12 in c:\\users\\mcacs\\anaconda3\\envs\\sidi\\lib\\site-packages (from spacy<3.3.0,>=3.2.0->pt-core-news-sm==3.2.0) (8.0.13)\n",
      "Requirement already satisfied: numpy>=1.15.0 in c:\\users\\mcacs\\anaconda3\\envs\\sidi\\lib\\site-packages (from spacy<3.3.0,>=3.2.0->pt-core-news-sm==3.2.0) (1.21.2)\n",
      "Requirement already satisfied: srsly<3.0.0,>=2.4.1 in c:\\users\\mcacs\\anaconda3\\envs\\sidi\\lib\\site-packages (from spacy<3.3.0,>=3.2.0->pt-core-news-sm==3.2.0) (2.4.2)\n",
      "Requirement already satisfied: requests<3.0.0,>=2.13.0 in c:\\users\\mcacs\\anaconda3\\envs\\sidi\\lib\\site-packages (from spacy<3.3.0,>=3.2.0->pt-core-news-sm==3.2.0) (2.27.1)\n",
      "Requirement already satisfied: packaging>=20.0 in c:\\users\\mcacs\\anaconda3\\envs\\sidi\\lib\\site-packages (from spacy<3.3.0,>=3.2.0->pt-core-news-sm==3.2.0) (21.3)\n",
      "Requirement already satisfied: spacy-loggers<2.0.0,>=1.0.0 in c:\\users\\mcacs\\anaconda3\\envs\\sidi\\lib\\site-packages (from spacy<3.3.0,>=3.2.0->pt-core-news-sm==3.2.0) (1.0.1)\n",
      "Requirement already satisfied: blis<0.8.0,>=0.4.0 in c:\\users\\mcacs\\anaconda3\\envs\\sidi\\lib\\site-packages (from spacy<3.3.0,>=3.2.0->pt-core-news-sm==3.2.0) (0.7.5)\n",
      "Requirement already satisfied: setuptools in c:\\users\\mcacs\\anaconda3\\envs\\sidi\\lib\\site-packages (from spacy<3.3.0,>=3.2.0->pt-core-news-sm==3.2.0) (58.0.4)\n",
      "Requirement already satisfied: wasabi<1.1.0,>=0.8.1 in c:\\users\\mcacs\\anaconda3\\envs\\sidi\\lib\\site-packages (from spacy<3.3.0,>=3.2.0->pt-core-news-sm==3.2.0) (0.9.0)\n",
      "Requirement already satisfied: pydantic!=1.8,!=1.8.1,<1.9.0,>=1.7.4 in c:\\users\\mcacs\\anaconda3\\envs\\sidi\\lib\\site-packages (from spacy<3.3.0,>=3.2.0->pt-core-news-sm==3.2.0) (1.8.2)\n",
      "Requirement already satisfied: cymem<2.1.0,>=2.0.2 in c:\\users\\mcacs\\anaconda3\\envs\\sidi\\lib\\site-packages (from spacy<3.3.0,>=3.2.0->pt-core-news-sm==3.2.0) (2.0.6)\n",
      "Requirement already satisfied: tqdm<5.0.0,>=4.38.0 in c:\\users\\mcacs\\anaconda3\\envs\\sidi\\lib\\site-packages (from spacy<3.3.0,>=3.2.0->pt-core-news-sm==3.2.0) (4.62.3)\n",
      "Requirement already satisfied: catalogue<2.1.0,>=2.0.6 in c:\\users\\mcacs\\anaconda3\\envs\\sidi\\lib\\site-packages (from spacy<3.3.0,>=3.2.0->pt-core-news-sm==3.2.0) (2.0.6)\n",
      "Requirement already satisfied: langcodes<4.0.0,>=3.2.0 in c:\\users\\mcacs\\anaconda3\\envs\\sidi\\lib\\site-packages (from spacy<3.3.0,>=3.2.0->pt-core-news-sm==3.2.0) (3.3.0)\n",
      "Requirement already satisfied: pathy>=0.3.5 in c:\\users\\mcacs\\anaconda3\\envs\\sidi\\lib\\site-packages (from spacy<3.3.0,>=3.2.0->pt-core-news-sm==3.2.0) (0.6.1)\n",
      "Requirement already satisfied: pyparsing!=3.0.5,>=2.0.2 in c:\\users\\mcacs\\anaconda3\\envs\\sidi\\lib\\site-packages (from packaging>=20.0->spacy<3.3.0,>=3.2.0->pt-core-news-sm==3.2.0) (3.0.4)\n",
      "Requirement already satisfied: smart-open<6.0.0,>=5.0.0 in c:\\users\\mcacs\\anaconda3\\envs\\sidi\\lib\\site-packages (from pathy>=0.3.5->spacy<3.3.0,>=3.2.0->pt-core-news-sm==3.2.0) (5.2.1)\n",
      "Requirement already satisfied: typing-extensions>=3.7.4.3 in c:\\users\\mcacs\\anaconda3\\envs\\sidi\\lib\\site-packages (from pydantic!=1.8,!=1.8.1,<1.9.0,>=1.7.4->spacy<3.3.0,>=3.2.0->pt-core-news-sm==3.2.0) (4.0.1)\n",
      "Requirement already satisfied: urllib3<1.27,>=1.21.1 in c:\\users\\mcacs\\anaconda3\\envs\\sidi\\lib\\site-packages (from requests<3.0.0,>=2.13.0->spacy<3.3.0,>=3.2.0->pt-core-news-sm==3.2.0) (1.26.8)\n",
      "Requirement already satisfied: charset-normalizer~=2.0.0 in c:\\users\\mcacs\\anaconda3\\envs\\sidi\\lib\\site-packages (from requests<3.0.0,>=2.13.0->spacy<3.3.0,>=3.2.0->pt-core-news-sm==3.2.0) (2.0.10)\n",
      "Requirement already satisfied: certifi>=2017.4.17 in c:\\users\\mcacs\\anaconda3\\envs\\sidi\\lib\\site-packages (from requests<3.0.0,>=2.13.0->spacy<3.3.0,>=3.2.0->pt-core-news-sm==3.2.0) (2021.10.8)\n",
      "Requirement already satisfied: idna<4,>=2.5 in c:\\users\\mcacs\\anaconda3\\envs\\sidi\\lib\\site-packages (from requests<3.0.0,>=2.13.0->spacy<3.3.0,>=3.2.0->pt-core-news-sm==3.2.0) (3.3)\n",
      "Requirement already satisfied: colorama in c:\\users\\mcacs\\anaconda3\\envs\\sidi\\lib\\site-packages (from tqdm<5.0.0,>=4.38.0->spacy<3.3.0,>=3.2.0->pt-core-news-sm==3.2.0) (0.4.4)\n",
      "Requirement already satisfied: click<9.0.0,>=7.1.1 in c:\\users\\mcacs\\anaconda3\\envs\\sidi\\lib\\site-packages (from typer<0.5.0,>=0.3.0->spacy<3.3.0,>=3.2.0->pt-core-news-sm==3.2.0) (8.0.3)\n",
      "Requirement already satisfied: MarkupSafe>=2.0 in c:\\users\\mcacs\\anaconda3\\envs\\sidi\\lib\\site-packages (from jinja2->spacy<3.3.0,>=3.2.0->pt-core-news-sm==3.2.0) (2.0.1)\n",
      "[+] Download and installation successful\n",
      "You can now load the package via spacy.load('pt_core_news_sm')\n"
     ]
    },
    {
     "name": "stderr",
     "output_type": "stream",
     "text": [
      "2022-04-04 22:22:04.102105: W tensorflow/stream_executor/platform/default/dso_loader.cc:64] Could not load dynamic library 'cudart64_110.dll'; dlerror: cudart64_110.dll not found\n",
      "2022-04-04 22:22:04.102150: I tensorflow/stream_executor/cuda/cudart_stub.cc:29] Ignore above cudart dlerror if you do not have a GPU set up on your machine.\n"
     ]
    }
   ],
   "source": [
    "!python -m spacy download pt_core_news_sm"
   ]
  },
  {
   "cell_type": "code",
   "execution_count": 182,
   "id": "b90bbcd3",
   "metadata": {},
   "outputs": [],
   "source": [
    "import string\n",
    "import spacy\n",
    "import pt_core_news_sm\n",
    "\n",
    "nlp = pt_core_news_sm.load()\n",
    "\n",
    "stopwors_spacy = spacy.lang.pt.stop_words.STOP_WORDS\n",
    "stopwors_nltk = nltk.corpus.stopwords.words('portuguese')\n",
    "alfabeto = ['a', 'b', 'c', 'd', 'e', 'f', 'g', 'h', 'i', 'j', 'k', 'l', 'm', 'n', 'o', 'p', 'q', 'r', 's', 't', 'u', 'v', 'x', 'w', 'y', 'z']\n",
    "\n",
    "\n",
    "tokens = []\n",
    "for i in range(df.shape[0]):\n",
    "    s = df.loc[i, \"Texto\"]\n",
    "\n",
    "    s = s.lower()\n",
    "\n",
    "    s = remove_emoji(s)\n",
    "\n",
    "    s = re.sub('kkk*', '', s, flags=re.IGNORECASE)\n",
    "    s = re.sub('rsr*', '', s, flags=re.IGNORECASE)\n",
    "    s = re.sub('haha*', '', s, flags=re.IGNORECASE)\n",
    "\n",
    "    s = s.replace('’', '').replace('‘', '').replace('’’', '').replace('“', '').replace('”', '')\n",
    "    s = s.replace(\"'\", '').replace('\"', '').replace(',', '.')\n",
    "    \n",
    "    s = s.replace('!', ' ').replace(':', ' ').replace(';', ' ')\n",
    "    s = s.replace(')', ' ').replace('(', ' ').replace('±', ' ')\n",
    "    s = s.replace('/', ' ').replace('\\\\', ' ').replace('//', ' ')\n",
    "\n",
    "    s = s.replace('–', ' ').replace('—', ' ').replace('•', ' ')\n",
    "    s = s.replace('…', ' ').replace('}', ' ').replace('±', ' ')\n",
    "\n",
    "    s = s.replace('*', ' ').replace('%', ' ').replace('$', ' ')\n",
    "    s = s.replace('#', ' ').replace('–', ' ').replace('—', ' ')\n",
    "    s = s.replace('@', ' ').replace('&', ' ')\n",
    "\n",
    "    s = s.replace('{', ' ').replace('––', ' ').replace('--', ' ')\n",
    "    \n",
    "    s = s.replace('<', ' ').replace('?', ' ').replace('`', ' ')\n",
    "    \n",
    "    s = s.replace(' gb', 'gb').replace('wiffi', 'wi-fi').replace('wifi', 'wi-fi').replace('w-ifi', 'wi-fi')\n",
    "    \n",
    "    s = s.replace('ésuper', 'é super').replace('éé', 'é').replace('è', 'é')\n",
    "    s = s.replace('ñ', 'não').replace('òtimo', 'ótimo')\n",
    "    s = s.replace('ótimaaa', 'ótima').replace('ótimasperfeito', 'ótimas perfeito')\n",
    "    s = s.replace('ótimoo', 'ótimo').replace('ė', 'é').replace('vaaaarios', 'vários')\n",
    "    s = s.replace('vaaarias', 'várias') .replace('valeeeus', 'valeus').replace('varias', 'várias')\n",
    "    s = s.replace('varios', 'vários').replace('vc', 'você').replace('vcs', 'vocês').replace('vdd', 'verdade')\n",
    "\n",
    "    s = s.replace('viagensresolvi', 'viagens resolvi').replace('vidaaa', 'vida').replace('vistaa', 'vista')\n",
    "    s = s.replace('vocabuláriostradução', 'vocabulários tradução').replace('voce', 'você')\n",
    "    s = s.replace('voces', 'vocês').replace('vontadesuper', 'vontade super').replace('váaaarios', 'vários')\n",
    "\n",
    "    s = s.replace('àqueles', 'aqueles').replace('àquilo', 'aquilo').replace('whatssap', 'whatsapp')\n",
    "    s = s.replace('whhite', 'white').replace('taaanto', 'tanto').replace('tanra', 'tanta').replace('tantoo', 'tanto')\n",
    "    s = s.replace('tblet', 'tablet').replace('tbm', 'também').replace('td', 'tudo').replace('tdo', 'tudo')\n",
    "    s = s.replace('tds', 'todos').replace('tecidosuas', 'tecido suas').replace('teconlogia', 'tecnologia')\n",
    "    s = s.replace('telaenvio', 'tela envio').replace('telapor', 'tela por').replace('telaum', 'tela um')\n",
    "    s = s.replace('telegran', 'telegram').replace('tenjo', 'tenho').replace('titulos', 'títulos')\n",
    "    s = s.replace('titulo', 'título').replace('tambem', 'também').replace('tochscreen', 'touchscreen')\n",
    "    s = s.replace('touch-screen', 'touchscreen').replace('touchscreen', 'touchscreen').replace('touché', 'touch')\n",
    "    s = s.replace('toucshscreen', 'touchscreen').replace('toutch', 'touch')\n",
    "\n",
    "    s = s.replace('traqnuilamente', 'tranquilamente').replace('tristeos', 'triste os').replace('tristetem', 'triste tem')\n",
    "    s = s.replace('tudooo', 'tudo').replace('uahuashusah', '').replace('ulimited', 'unlimited')\n",
    "    s = s.replace('táctil', 'tátil').replace('ulinmited', 'unlimited').replace('ullimited', 'unlimited')\n",
    "    s = s.replace('umaleitura', 'uma eitura').replace('ume', 'um e').replace('umlimited', 'unlimited')\n",
    "    s = s.replace('ummês', 'um mês').replace('umsmartphone', 'um smartphone').replace('univeidade', 'universidade')\n",
    "    s = s.replace('univeitário', 'universitário').replace('univeitários', 'universitários').replace('unilimed', 'unlimited')\n",
    "    s = s.replace('unilimites', 'unlimiteds').replace('unimited', 'unlimited').replace('unlimeted', 'unlimited')\n",
    "    s = s.replace('unlimitade', 'unlimited').replace('unlmited', 'unlimited').replace('up-grade', 'upgrade')\n",
    "    s = s.replace('usar-ló', 'usá-lo').replace('usuario', 'usuário').replace('usuárioo', 'usuário')\n",
    "    s = s.replace('usá-lousei', 'usá-lo usei').replace('utilizaçãodesign', 'utilização design')\n",
    "    s = s.replace('utilizalo', 'utiliza-lo').replace('utilizacao', 'utilização').replace('utlização', 'utilização')\n",
    "    s = s.replace('seguintr', 'seguinte').replace('segunndo', 'segundo').replace('semanas-de', 'semanas de')\n",
    "    s = s.replace('siiiiim', 'sim').replace('siteque', 'site que').replace('sitesno', 'sites no')\n",
    "    s = s.replace('skdksksks', '').replace('smartfone', 'smartphone').replace('smartfones', 'smartphone')\n",
    "    s = s.replace('smarthphone', 'smartphone').replace('smartphones', 'smartphone').replace('smatfone', 'smartphone')\n",
    "    s = s.replace('sminha', 's minha').replace('sensivel', 'sensível')\n",
    "    s = s.replace('squando', 'quando').replace('ssim', 'assim')\n",
    "    s = s.replace('ssmas', 'mas').replace('sso', 'so').replace('sss', '')\n",
    "    s = s.replace('ssó', 'só').replace('substituiçãonão', 'substituição não')\n",
    "    s = s.replace('suficientepontos', 'suficiente pontos').replace('superficie', 'superfície')\n",
    "    s = s.replace('suuuper', 'super').replace('suuuuper', 'super').replace('sabado', 'sábado')\n",
    "    s = s.replace('sábadomas', 'sábado mas').replace('sérioo', 'sério')\n",
    "    s = s.replace('ramazon', 'amazon').replace('rapido', 'rápido').replace('reaaais', 'reais')\n",
    "    s = s.replace('realmene', 'realmente').replace('recebee', 'recebe')\n",
    "    s = s.replace('recomendadiimo', 'recomendadíssimo').replace('recomendadíimo', 'recomendadíssimo')\n",
    "    s = s.replace('recomendosó', 'recomendo só').replace('referencia', 'referência')\n",
    "    s = s.replace('referencias', 'referências').replace('refleteconsigo', 'reflete consigo')\n",
    "    s = s.replace('removee', 'remove').replace('residencia', 'residência').replace('resistencia', 'resistência')\n",
    "    s = s.replace('resumopontos', 'resumo pontos').replace('resvistas', 'revistas').replace('roteae', 'rotear')\n",
    "    s = s.replace('rsr', '').replace('ruafavor', 'rua favor').replace('ruimproceamento', 'ruim proceamento')\n",
    "    s = s.replace('rápidoque', 'rápido que').replace('rápidoé', 'rápido é')\n",
    "    s = s.replace('aaah', ' ').replace('aaim', ' ').replace('aalimentando', 'alimentando')\n",
    "    s = s.replace('absurdonão', 'absurdo não').replace('acabeibde', 'acabei de').replace('academico', 'acadêmico')\n",
    "    s = s.replace('acontecee', 'acontece').replace('acstumados', 'acostumados').replace('adapatar', 'adaptar')\n",
    "    s = s.replace('adaptr', 'adaptar').replace('adoreiiiii', 'adorei').replace('adquiridocomo', 'adquirido como')\n",
    "    s = s.replace('agorq', 'agora').replace('aguardomaria', 'aguardo maria').replace('aimda', 'ainda')\n",
    "    s = s.replace('acesíveis', 'acessíveis').replace('acessibiilidade', 'acessibilidade')\n",
    "\n",
    "    \n",
    "    s = s.replace('ajudawww', 'ajuda').replace('ajustavel', 'ajustável').replace('ajustavél', 'ajustável')\n",
    "    s = s.replace('aleatorias', 'aleatórias').replace('alguem', 'alguém').replace('aliásvale', 'aliás vale')\n",
    "    s = s.replace('amandoooooo', 'amando').replace('amanha', 'amanhã').replace('amarzenamento', 'armazenamento')\n",
    "    s = s.replace('amazom', 'amazon').replace('ameiiiiiiiii', 'amei').replace('ameiiiiiii', 'amei')\n",
    "    s = s.replace('ameiiii', 'amei').replace('ameiii', 'amei').replace('ameii', 'amei').replace('ameeeeei', 'amei')\n",
    "\n",
    "    s = s.replace('ameeei', 'amei').replace('amgs', 'amigos').replace('amoooooo', 'amo').replace('amouuu', 'amou')\n",
    "    s = s.replace('amem', 'amém').replace('analise', 'análise').replace('androi', 'android')\n",
    "    s = s.replace('aniveario','aniversário').replace('aniveário','aniversário').replace('apaptável', 'adaptável')\n",
    "    s = s.replace('aparaceu', 'apareceu').replace('apararelho', 'aparelho').replace('aparelhofica', 'aparelho fica')\n",
    "    s = s.replace('aparelhoo', 'aparelho').replace('aparelhoquando', 'aparelho quando').replace('apemas', 'apenas')\n",
    "    s = s.replace('apena', 'apenas').replace('aprovadíassimo', 'aprovadíssimo').replace('aprovietar', 'aproveitar')\n",
    "    s = s.replace('aproximandamente', 'aproximadamente').replace('aquivos', 'arquivos').replace('aranha', 'arranha')\n",
    "    s = s.replace('armanezamento', 'armazenamento').replace('armazenento', 'armazenamento').replace('arquvivos', 'arquivos')\n",
    "    s = s.replace('asletras', 'asociado').replace('assistencia','assistência')\n",
    "    s = s.replace('atenciosamentemarilia', 'atenciosamente marilia').replace('atençâo', 'atenção')\n",
    "    s = s.replace('atraves', 'atráves').replace('atualizaçao', 'atualização')\n",
    "    s = s.replace('auxilio', 'auxílio').replace('av4u6bf9k', '').replace('aveão', 'avião').replace('aviao', 'avião')\n",
    "    s = s.replace('avrias', 'a várias').replace('avárias', 'a várias').replace('aínda', 'ainda')\n",
    "    s = s.replace('dagua', 'dágua').replace('agua', 'água').replace('wikipedia', 'wikipédia')\n",
    "\n",
    "    s = s.replace('baixiassima', 'baixíassima').replace('baratodesvantagens', 'barato desvantagens').replace('baratofora', 'barato fora')\n",
    "    s = s.replace('bateriacoloquei', 'bateria coloquei').replace('batistasalvador', 'batista salvador').replace('beeeeem', 'bem')\n",
    "    s = s.replace('beeem', 'bem').replace('beem', 'bem').replace('bemmm', 'bem').replace('bemrecomendo', 'bem recomendo')\n",
    "    s = s.replace('beneficio', 'benefício').replace('beneficios', 'benefícios') .replace('benefícos', 'benefícios') \n",
    "    s = s.replace('biblia', 'bíblia').replace('bolsaaaaaaa', 'bolsa').replace('bomiluminação', 'bom iluminação')\n",
    "    s = s.replace('bomntes', 'bom antes').replace('bompode', 'bom pode').replace('bomvaleu', 'bom valeu')\n",
    "    s = s.replace('brancoademais', 'branco a demais').replace('brancoum', 'branco um').replace('capas', 'capaz')\n",
    "    s = s.replace('capinhamas','capinha mas').replace('carreagdor', 'carregador').replace('cenasliterarias', 'cenas literarias')\n",
    "    s = s.replace('chatiinho', 'chatinho').replace('chatopois', 'chato pois').replace('chegouu', 'chegou')\n",
    "\n",
    "    s = s.replace('complento', 'complemento').replace('compleramente', 'completamente').replace('completamete', 'completamente')\n",
    "    s = s.replace('complicacoes','complicações').replace('conaegui', 'consegui').replace('confiavél', 'confiável')\n",
    "\n",
    "    s = s.replace('configuracao', 'configuração').replace('confortavel', 'confortável').replace('confortáel', 'confortável')\n",
    "    s = s.replace('confortáve', 'confortável') .replace('confortávelpoderia', 'confortável poderia').replace('conforável', 'confortável')\n",
    "\n",
    "    s = s.replace('conprei', 'comprei').replace('conservarprós', 'conservar prós').replace('consideravemente', 'consideravelmente')\n",
    "    s = s.replace('custo-beneficio', 'custo-benefício').replace('amazoz', 'amazon').replace('antireflexo', 'anti-reflexo')\n",
    "    s = s.replace('antirreflexo', 'anti-reflexo').replace('daamazon', 'da amazon')\n",
    "    s = s.replace('dedosmas', 'dedos mas').replace('defeitotoda', 'defeito toda').replace('deitoem', 'deito em')\n",
    "    s = s.replace('dele-não', 'dele não').replace('demaaaaais', 'demais').replace('demaisleveamo', 'demais leve amo')\n",
    "    s = s.replace('demaisme', 'demais me').replace('desagravel', 'desagradável').replace('desconfortávell', 'desconfortável')\n",
    "    s = s.replace('designe', 'design').replace('designer', 'design').replace('desing', 'design')\n",
    "    s = s.replace('despositivo', 'dispositivo').replace('diapositivo', 'dispositivo').replace('dicionario', 'dicionário')\n",
    "    s = s.replace('dicionarios', 'dicionários').replace('dificil', 'difícil').replace('dificulade', 'dificuldade')\n",
    "    s = s.replace('difixil', 'difícil').replace('digoalgo', 'digo algo').replace('dipositivo', 'dispositivo')\n",
    "    s = s.replace('diretomais', 'direto mais').replace('disign', 'design').replace('disigner', 'design')\n",
    "    s = s.replace('dispoaitivo', 'dispositivo').replace('disponivel', 'disponível').replace('disponível5', 'disponível')\n",
    "    s = s.replace('disponíves', 'disponíveis').replace('dispositivoedit', 'dispositivo edit').replace('dispositvo', 'dispositivo')\n",
    "    s = s.replace('dispositvos', 'dispositivos').replace('distracoes', 'distrações').replace('dmaaais', 'demais')\n",
    "    s = s.replace('dmais', 'demais').replace('dms', 'demais').replace('dnv', 'de novo')\n",
    "    s = s.replace('dowload', 'download').replace('e-mail3', 'e-mail').replace('ebooksgratuitoss', 'ebooks gratuitos')\n",
    "    s = s.replace('eexcelente', 'excelente').replace('eletronicos', 'eletrônicos').replace('emails', 'e-mails')\n",
    "    s = s.replace('emais', 'e-mails').replace('email', 'e-mail').replace('emcontato','em contato')\n",
    "    s = s.replace('enconomia', 'economia').replace('enconomiza', 'economiza').replace('entao', 'então')\n",
    "    s = s.replace('entaoatendeu', 'então atendeu').replace('ernome', 'enorme').replace('espaçocoisas', 'espaço coisas')\n",
    "    s = s.replace('especifico', 'específico').replace('espectativa', 'expectativa').replace('espectativas', 'expectativas')\n",
    "    s = s.replace('esperiecia', 'experiência').replace('essaa', 'essa').replace('estoucontando', 'estou contando')\n",
    "    s = s.replace('estremamente', 'extremamente').replace('estáigual', 'está igual').replace('etctambém', 'etc também')\n",
    "    s = s.replace('eternaexcelente', 'eterna excelente').replace('exatamenre', 'exatamente').replace('excelentemuito', 'excelente muito')\n",
    "    s = s.replace('excelenteo', 'excelente o').replace('exclente', 'excelente').replace('execelente', 'excelente')\n",
    "    s = s.replace('exelente', 'excelente').replace('expectatias', 'expectativas').replace('expectativasdá', 'expectativas dá')\n",
    "    s = s.replace('experiencia', 'experiência')\n",
    "    \n",
    "    s = s.replace('familia', 'família').replace('fantastica', 'fantástica').replace('fantastico', 'fantástico')\n",
    "    s = s.replace('ficaadica', 'fica a dica').replace('finalproduto', 'final produto').replace('fluidas', 'fluídas')\n",
    "    s = s.replace('fluido', 'fluído').replace('flúida', 'fluída').replace('funcao', 'função')\n",
    "    s = s.replace('funcionalidadea', 'funcionalidade').replace('funcionalidadessempre', 'funcionalidades sempre')\n",
    "    s = s.replace('funcoes', 'funções').replace('funvoes', 'funções').replace('fabrica', 'fábrica').replace('geracao', 'geração')\n",
    "    s = s.replace('geração10', 'geração 10').replace('gigantee', 'gigante').replace('gratuitous', 'gratuitos')\n",
    "    s = s.replace('gratuítos', 'gratuitos').replace('haalém', 'ha além').replace('hardwarea', 'hardware a')\n",
    "    s = s.replace('heheachei', 'achei').replace('hehehehe', '').replace('hehehe', '').replace('hehe', '').replace('hihi', 'hihihihi') \n",
    "    s = s.replace('hj', 'hoje').replace('horrivel', 'horrível').replace('horáriosinclusive', 'horários inclusive')\n",
    "    s = s.replace('http', '').replace('www', '').replace('hábitonão', 'hábito não').replace('hórario', 'horário')\n",
    "    s = s.replace('idealtava', 'ideal tava').replace('idéia', 'ideia').replace('igualrecebi', 'igual recebi')\n",
    "    s = s.replace('iiuminação', 'iluminação').replace('iluminacao', 'iluminação').replace('iluminaçõa', 'iluminação')\n",
    "    s = s.replace('iluminção', 'iluminação').replace('ilumição', 'iluminação').replace('impecavel', 'impecável')\n",
    "    s = s.replace('imperceptivel', 'imperceptível').replace('impressao', 'impressão').replace('inadimissível', 'inadmissível') \n",
    "    s = s.replace('inagem', 'imagem').replace('inclivel', 'incrível').replace('inclível', 'incrível').replace('incomada', 'incomoda')\n",
    "    s = s.replace('incompativel', 'incompatível').replace('incrivel', 'incrível').replace('incrével', 'incrível')\n",
    "    s = s.replace('incomodo', 'incômodo').replace('informções', 'informações').replace('inglêsgostaria', 'inglês gostaria')\n",
    "    s = s.replace('inicialpara', 'inicial para').replace('invesmento', 'investimento').replace('irao', 'irão')\n",
    "    s = s.replace('irritadomais', 'irritado mais').replace('jurooooootipo', 'juro tipo').replace('kakaka', '')\n",
    "    s = s.replace('kidle', 'kindle').replace('kidles', 'kindles').replace('kinde', 'kindle')\n",
    "    s = s.replace('kindel', 'kindle').replace('kindke', 'kindle').replace('kindle-10', 'kindle')\n",
    "    s = s.replace('kindleai', 'kindle').replace('kindlemas', 'kindle mas').replace('kindlepaperwhite', 'kindle paperwhite')\n",
    "    s = s.replace('kindler', 'kindle').replace('kindleunided', 'kindle unlimited').replace('kindleunlimited', 'kindle unlimited')\n",
    "    s = s.replace('kindlle', 'kindle').replace('kindlo', 'kindle').replace('kindlwos', 'kindle').replace('kindlé', 'kindle')\n",
    "    s = s.replace('kinkdle', 'kindle').replace('kinkle', 'kindle').replace('kinlde', 'kindle').replace('kinldle', 'kindle')\n",
    "\n",
    "    s = s.replace('leitua', 'leitura').replace('leituas', 'leituras').replace('leituraa', 'leitura')\n",
    "    s = s.replace('leituraaaa', 'leitura').replace('leiturano', 'leitura no').replace('leituraobs', 'leitura obs')\n",
    "    s = s.replace('lentonão', 'lento não').replace('lerchegou', 'ler chegou').replace('lernesse', 'ler nesse')\n",
    "    s = s.replace('leveeeeeeeee', 'leve').replace('leviassimo', 'levíassimo').replace('levvíassimo', 'levíassimo')\n",
    "    s = s.replace('lindooo', 'lindo').replace('lindooveio', 'lindo o veio').replace('linhaplumas', 'linha plumas')\n",
    "    s = s.replace('literarias', 'literárias').replace('livrodigitaldebolso', 'livro digital de bolso')\n",
    "    s = ss = s.replace('looonnngggaaaa', 'longa').replace('loucaaa', 'louca').replace('lugartem', 'lugar tem')\n",
    "    s = s.replace('luzdecepcionado', 'luz decepcionado').replace('logica', 'lógica').replace('lúgar', 'lugar')\n",
    "    s = s.replace('m-a-r-a-v-i-l-h-o-s-o', 'maravilhoso').replace('maaaaass', 'mas').replace('maaaaas', 'mas')\n",
    "    s = s.replace('maaas', 'mas').replace('maisamei', 'mais amei').replace('maisgb', 'mais gb')\n",
    "    s = s.replace('manhas', 'manhãs').replace('mantem', 'mantém').replace('manuseavel', 'manuseável')\n",
    "    s = s.replace('maravilhaaa', 'maravilha').replace('maravilhosaeu', 'maravilhosa eu')\n",
    "    s = s.replace('maravilhosomelhor', 'maravilhoso melhor').replace('maravilhosooo', 'maravilhoso')\n",
    "    s = s.replace('maravilhosoooo', 'maravilhoso').replace('memoria', 'memória').replace('mes', 'mês')\n",
    "    s = s.replace('mesmk', 'mesmo').replace('mesmogb', 'mesmo gb').replace('mesmops', 'mesmo ps')\n",
    "    s = s.replace('meucarrego', 'meu carrego').replace('mmmmuuiiitoo', 'muito').replace('muiiiiiiiitoooo', 'muito')\n",
    "    s = s.replace('muiiiiiito', 'muito').replace('muiiiito', 'muito').replace('muiiito', 'muito').replace('muiiitoooooooo', 'muito')\n",
    "    s = s.replace('muio', 'muito').replace('muitaaa', 'muita').replace('muitoooooo', 'muito').replace('muitooooo', 'muito')\n",
    "    s = s.replace('muitoooo', 'muito').replace('muitooo','muito').replace('muitooos', 'muitos').replace('muitoos', 'muitos')\n",
    "    s = s.replace('muitoo', 'muito').replace('muitãoooo', 'muitão').replace('muuuuuuiiiittttoooo', 'muito')\n",
    "    s = s.replace('muuuuuuiiiitooooo', 'muito')\n",
    "    s = s.replace('muuuuuito', 'muito').replace('muuuuuitos', 'muitos').replace('muuuuiiito', 'muito')\n",
    "    s = s.replace('muuuuuuuitos', 'muitos').replace('muuuuiiito', 'muito').replace('muuuuitos', 'muitos')\n",
    "    s = s.replace('muuuuito', 'muito').replace('muuuitos', 'muitos').replace('muuuito', 'muito')\n",
    "    s = s.replace('muuitos', 'muitos').replace('muuuita', 'muita').replace('muuito', 'muito').replace('muuto', 'muito')\n",
    "    s = s.replace('muuuitoagilidade', 'muito agilidade').replace('mémoria', 'memória').replace('naaada', 'nada')\n",
    "    s = s.replace('nadameu', 'nada meu').replace('nao', 'não').replace('naoeumtablet', 'não e um tablet' )\n",
    "    s = s.replace('navegacao', 'navegação').replace('necessario', 'necessário').replace('nescessidade', 'necessidade')\n",
    "    s = s.replace('ninguem', 'ninguém').replace('nitida', 'nitída').replace('nivel', 'nível').replace('noticia', 'notícia')\n",
    "    s = s.replace('noticias', 'notícias').replace('nâo', 'não').replace('não-amazon', 'não amazon').replace('nãohoje', 'não hoje')\n",
    "    s = s.replace('nítidaa', 'nítida').replace('nítidopoderia', 'nítido poderia').replace('off-line', 'offline')\n",
    "    s = s.replace('ola', 'olá').replace('on-line', 'online').replace('onão', 'o não').replace('opcao', 'opção')\n",
    "    s = s.replace('opnião', 'opinião').replace('opçõesde', 'opções de').replace('oque', 'o que')\n",
    "    s = s.replace('outroooooooooooooooo', 'outro').replace('paciênciaavaliação', 'paciência avaliação').replace('padroes', 'padrões')\n",
    "    s = s.replace('pafamento', 'pagamento').replace('palavrascriação', 'palavras criação')\n",
    "    s = s.replace('palavrasdicionárioajuda', 'palavras dicionário ajuda').replace('papaewhite', 'paperwhite')\n",
    "    s = s.replace('paperwaith', 'paperwhite').replace('paperwater', 'paperwhite').replace('paperwath', 'paperwhite')\n",
    "    s = s.replace('paperwhate', 'paperwhite').replace('paperwhiteresolução', 'paperwhite').replace('paperwhrite', 'paperwhite')\n",
    "    s = s.replace('paperwite', 'paperwhite').replace('paperwithe', 'paperwhite').replace('paperwrite', 'paperwhite')\n",
    "    s = s.replace('papperwhite', 'paperwhite').replace('papperwite', 'paperwhite').replace('papperwrite', 'paperwhite')\n",
    "    s = s.replace('papwerwhite', 'paperwhite').replace('parabens', 'parabéns').replace('paralevar', 'para levar')\n",
    "    s = s.replace('pedidaa', 'pedida').replace('pelicula', 'película').replace('peliculas', 'películas')\n",
    "    s = s.replace('penaaaa', 'pena').replace('penacomprei', 'pena comprei').replace('pepectiva', 'perspectiva')\n",
    "    s = s.replace('peperwhite', 'paperwhite').replace('pepperwhite', 'paperwhite').replace('per-fei-to', 'perfeito')\n",
    "    s = s.replace('perceptivel', 'perceptível').replace('perdao', 'perdão').replace('perfeitobateria', 'perfeito bateria')\n",
    "    s = s.replace('perfeitooooo', 'perfeito').replace('perfeitoooo', 'perfeito').replace('perfeitooo', 'perfeito')\n",
    "    s = s.replace('pesoais', 'pessoais').replace('pesoal', 'pessoal').replace('pesoas', 'pessoa').replace('pesoa', 'pessoa')\n",
    "    s = s.replace('porem', 'pórem').replace('portabiidade', 'portabilidade').replace('portatil', 'portátil')\n",
    "    s = s.replace('portugues', 'português').replace('positivoslevepráticofácil', 'positivos leve prático fácil')\n",
    "    s = s.replace('possibilidadefe', 'possibilidade fe').replace('possiblidade', 'possibilidade')\n",
    "    s = s.replace('possivel', 'possível').replace('potencia', 'potência').replace('poucooooo', 'pouco')\n",
    "    s = s.replace('pprwhite', 'paperwhite').replace('praqueumkindle', 'pra que um kindle').replace('preçoo','preço')\n",
    "    s = s.replace('principio', 'princípio').replace('probemas', 'problemas').replace('probleminhaa', 'probleminha')\n",
    "    s = s.replace('problrma', 'problema').replace('produtoachei', 'produto achei').replace('produtofora', 'produto fora')\n",
    "    s = s.replace('produtro', 'produto').replace('proprio', 'próprio').replace('própio', 'próprio').replace('publico', 'público')\n",
    "    s = s.replace('quecusta', 'que custa')\n",
    "    \n",
    "    s = s.replace('0.5a', '0.5 a').replace('06chegou', '06 chegou').replace('1.99.ler', '1.99 ler')\n",
    "    s = s.replace('1.99.é', '1.99 é').replace('1.99r', '1.99 r').replace('1.°', '1°').replace('10.a', '10 a')\n",
    "    s = s.replace('10.compacto', '10 compacto').replace('10.°', '10°').replace('10a', '10 a').replace('10geração', '10 geração')\n",
    "    s = s.replace('10sobre', '10 sobre').replace('10°g', '10° g').replace('10°gen', '10°g').replace('10°geração', '10° geração')\n",
    "    s = s.replace('11.a', '11 a').replace('1a', '1 a').replace('2.5gb.resumindo', '2.5gb resumindo') \n",
    "    s = s.replace('2.75gb.impossível', '2.75gb impossível').replace('2.75gbé', '2.75gb é').replace('2.estou', '2 estou')\n",
    "    s = s.replace('2.°', '2°').replace('2019.resumo', '2019 resumo').replace('21-quase', '21 quase')\n",
    "    s = s.replace('255.é', '255 é').replace('289.00recomendo', '289.00 recomendo').replace('30h.não', '30h não')\n",
    "    s = s.replace('30minutos', '30 minutos').replace('3era', '3 era').replace('3indico', '3 indico') \n",
    "    s = s.replace('4gbreal', '4gb real').replace('4gigas', '4 gigas').replace('6gb.a', '6gb a') \n",
    "    s = s.replace('6gb.mas', '6gb mas').replace('6gb.se', '6gb se').replace('6gb.tirando', '6gb tirando')\n",
    "    s = s.replace('6gbhá', '6gb há').replace('701-5828988-9904255.entretanto', 'entretanto')\n",
    "    s = s.replace('70a', '70 a').replace('8a.ele', '8 a ele').replace('8gen', '8 gen')\n",
    "    s = s.replace('8giga', '8 giga').replace('8gigas', '8 gigas').replace('8ªgeração', '8ª geração')\n",
    "    s = s.replace('8°ger', '8°').replace('8°geração', '8° geração')\n",
    "    s = s.replace('androidd', 'android').replace('logistica', 'logística').replace('logico', 'lógico').replace('maravilhosoo', 'maravilhoso')\n",
    "    \n",
    "    s = s.replace('aassimilar', 'assimilar').replace('aassimilação', 'assimilação').replace('aassimé', 'assim é')\n",
    "    s = s.replace('90.quanto', '90 quanto').replace('aaassim', 'assim').replace('aassim', 'assim')\n",
    "    s = s.replace('acessivel','acessível').replace('video', 'vídeo').replace('videos', 'vídeos').replace('vicio', 'vício')\n",
    "\n",
    "    s = s.split()\n",
    "\n",
    "    text = []\n",
    "    for word in s:\n",
    "        if word not in string.punctuation:\n",
    "            word = word.strip()\n",
    "            word = word.strip('!\"#$%&\\'()*+,-./:;<=>?@[\\\\]^_`{|}~–//—')\n",
    "            word = word.strip()\n",
    "            \n",
    "            if len(word) > 0:\n",
    "                if not word[0].isdigit():\n",
    "                    word = word.replace('.', ' ')\n",
    "\n",
    "                    for w in word.split():\n",
    "                        wd = w.strip()\n",
    "                        wd = wd.strip('!\"#$%&\\'()*+,-./:;<=>?@[\\\\]^_`{|}~–//—')\n",
    "                        wd = wd.strip()\n",
    "                        if wd not in stopwors_nltk:\n",
    "                            if wd not in alfabeto:\n",
    "                                text.append(wd)\n",
    "                                tokens.append(wd)\n",
    "                else:\n",
    "                    if word not in stopwors_nltk:\n",
    "                        if word not in alfabeto:\n",
    "                            text.append(word)\n",
    "                            tokens.append(word)\n",
    "                    \n",
    "\n",
    "\n",
    "    s = \" \".join(text)\n",
    "    df.loc[i, \"Tokens\"] = s\n",
    "\n",
    "\n",
    "#print(sorted(list(set(todos))), \"\\n\")\n",
    "#print(len(list(set(tokens))))"
   ]
  },
  {
   "cell_type": "code",
   "execution_count": 183,
   "id": "d2072842",
   "metadata": {},
   "outputs": [],
   "source": [
    "stemmer = RSLPStemmer()\n",
    "\n",
    "tokens = []\n",
    "for i in range(df.shape[0]):\n",
    "    s = df.loc[i, \"Tokens\"]\n",
    "    \n",
    "    words = []\n",
    "    steming = []\n",
    "    \n",
    "    doc = word_tokenize(s)\n",
    "    for word in doc:\n",
    "        tokens.append(word)\n",
    "        words.append(word)\n",
    "        steming.append(stemmer.stem(word))\n",
    "\n",
    "                   \n",
    "    s = ' '.join(words)\n",
    "    df.loc[i, \"Tokens\"] = s\n",
    "\n",
    "    s = ' '.join(steming)\n",
    "    df.loc[i, \"Stemmer\"] = s\n",
    "    \n",
    "#print(len(list(set(tokens))))\n",
    "#print(sorted(list(set(tokens)))) "
   ]
  },
  {
   "cell_type": "code",
   "execution_count": 184,
   "id": "4f33ec24",
   "metadata": {},
   "outputs": [
    {
     "name": "stdout",
     "output_type": "stream",
     "text": [
      "kindle 4152\n",
      "ler 2771\n",
      "bateria 2436\n",
      "leitura 2375\n",
      "livros 2315\n",
      "tela 1696\n",
      "produto 1584\n",
      "luz 1540\n",
      "pra 1540\n",
      "bem 1449\n",
      "livro 1093\n",
      "dura 1087\n",
      "leve 1012\n",
      "mêsmo 985\n",
      "ter 943\n",
      "ser 923\n",
      "aparelho 917\n",
      "iluminação 877\n",
      "bom 861\n",
      "melhor 859\n",
      "recomendo 845\n",
      "pouco 839\n",
      "comprar 809\n",
      "iso 808\n",
      "ainda 793\n",
      "embutida 769\n",
      "comprei 764\n",
      "super 749\n",
      "pois 734\n",
      "ótimo 733\n",
      "amazon 720\n",
      "bastante 705\n",
      "dias 695\n",
      "excelente 695\n",
      "dia 671\n",
      "tempo 662\n",
      "uso 649\n",
      "qualidade 640\n",
      "boa 639\n",
      "compra 619\n",
      "achei 576\n",
      "qualquer 561\n",
      "geração 557\n",
      "chegou 557\n",
      "antes 547\n",
      "celular 540\n",
      "fácil 540\n",
      "tamanho 540\n",
      "gostei 530\n",
      "sempre 523\n"
     ]
    }
   ],
   "source": [
    "#Determinação dos 50 tokens mais frequentes para o Word Cloud:\n",
    "from nltk.probability import FreqDist\n",
    "frequencia = nltk.FreqDist(tokens)\n",
    "lista = frequencia.most_common()\n",
    "for i in lista[0:50]:\n",
    "    print(i[0], i[1])"
   ]
  },
  {
   "cell_type": "code",
   "execution_count": 185,
   "id": "4d2cd235",
   "metadata": {},
   "outputs": [
    {
     "data": {
      "text/html": [
       "<div>\n",
       "<style scoped>\n",
       "    .dataframe tbody tr th:only-of-type {\n",
       "        vertical-align: middle;\n",
       "    }\n",
       "\n",
       "    .dataframe tbody tr th {\n",
       "        vertical-align: top;\n",
       "    }\n",
       "\n",
       "    .dataframe thead th {\n",
       "        text-align: right;\n",
       "    }\n",
       "</style>\n",
       "<table border=\"1\" class=\"dataframe\">\n",
       "  <thead>\n",
       "    <tr style=\"text-align: right;\">\n",
       "      <th></th>\n",
       "      <th>Nome</th>\n",
       "      <th>Titulo</th>\n",
       "      <th>Texto</th>\n",
       "      <th>Data</th>\n",
       "      <th>Review</th>\n",
       "      <th>Tokens</th>\n",
       "      <th>Stemmer</th>\n",
       "    </tr>\n",
       "  </thead>\n",
       "  <tbody>\n",
       "    <tr>\n",
       "      <th>0</th>\n",
       "      <td>Anne Naus</td>\n",
       "      <td>Mais barato, bom e bonito. Amei minha escolha.</td>\n",
       "      <td>Apesar de oferecer 4GB, só com sistema ele con...</td>\n",
       "      <td>Avaliado no Brasil em 27 de maio de 2019</td>\n",
       "      <td>1</td>\n",
       "      <td>apesar oferecer 4gb sistema consome quase 2gb ...</td>\n",
       "      <td>apes oferec 4gb sistem consom quas 2gb aind as...</td>\n",
       "    </tr>\n",
       "    <tr>\n",
       "      <th>1</th>\n",
       "      <td>SoldaCosta</td>\n",
       "      <td>Onde está meus 90 dias de leitura grátis?</td>\n",
       "      <td>Adorei. Só não ganhei os 90 dias de leitura gr...</td>\n",
       "      <td>Avaliado no Brasil em 30 de abril de 2019</td>\n",
       "      <td>0</td>\n",
       "      <td>adorei ganhei 90 dias leitura grátis fica apar...</td>\n",
       "      <td>ador ganh 90 dia leit grátil fic aparec 30 dia</td>\n",
       "    </tr>\n",
       "    <tr>\n",
       "      <th>2</th>\n",
       "      <td>Amanda s</td>\n",
       "      <td>Bom produto</td>\n",
       "      <td>Maravilhoso!Mas ainda estou procurando os 4gb ...</td>\n",
       "      <td>Avaliado no Brasil em 3 de maio de 2019</td>\n",
       "      <td>0</td>\n",
       "      <td>maravilhoso ainda procurando 4gb memória</td>\n",
       "      <td>maravilh aind procur 4gb memór</td>\n",
       "    </tr>\n",
       "    <tr>\n",
       "      <th>3</th>\n",
       "      <td>Allison Silva Resende</td>\n",
       "      <td>Triste compra uma coisa que se diz 4gb e so vi...</td>\n",
       "      <td>Produto é o que é, gostei da experiencia é a p...</td>\n",
       "      <td>Avaliado no Brasil em 6 de maio de 2019</td>\n",
       "      <td>0</td>\n",
       "      <td>produto gostei experiência primeira vez uso ki...</td>\n",
       "      <td>produt gost experi prim vez uso kindl ach saca...</td>\n",
       "    </tr>\n",
       "    <tr>\n",
       "      <th>4</th>\n",
       "      <td>Laura Marodin De Bacco</td>\n",
       "      <td>Maravilhoso</td>\n",
       "      <td>Não posso comparar com as outras geração pois ...</td>\n",
       "      <td>Avaliado no Brasil em 4 de maio de 2019</td>\n",
       "      <td>1</td>\n",
       "      <td>poso comparar outras geração pois primeiro kin...</td>\n",
       "      <td>pos compar outr ger poi prim kindl pesso gost ...</td>\n",
       "    </tr>\n",
       "  </tbody>\n",
       "</table>\n",
       "</div>"
      ],
      "text/plain": [
       "                     Nome                                             Titulo  \\\n",
       "0               Anne Naus     Mais barato, bom e bonito. Amei minha escolha.   \n",
       "1              SoldaCosta          Onde está meus 90 dias de leitura grátis?   \n",
       "2                Amanda s                                        Bom produto   \n",
       "3   Allison Silva Resende  Triste compra uma coisa que se diz 4gb e so vi...   \n",
       "4  Laura Marodin De Bacco                                        Maravilhoso   \n",
       "\n",
       "                                               Texto  \\\n",
       "0  Apesar de oferecer 4GB, só com sistema ele con...   \n",
       "1  Adorei. Só não ganhei os 90 dias de leitura gr...   \n",
       "2  Maravilhoso!Mas ainda estou procurando os 4gb ...   \n",
       "3  Produto é o que é, gostei da experiencia é a p...   \n",
       "4  Não posso comparar com as outras geração pois ...   \n",
       "\n",
       "                                        Data  Review  \\\n",
       "0   Avaliado no Brasil em 27 de maio de 2019       1   \n",
       "1  Avaliado no Brasil em 30 de abril de 2019       0   \n",
       "2    Avaliado no Brasil em 3 de maio de 2019       0   \n",
       "3    Avaliado no Brasil em 6 de maio de 2019       0   \n",
       "4    Avaliado no Brasil em 4 de maio de 2019       1   \n",
       "\n",
       "                                              Tokens  \\\n",
       "0  apesar oferecer 4gb sistema consome quase 2gb ...   \n",
       "1  adorei ganhei 90 dias leitura grátis fica apar...   \n",
       "2           maravilhoso ainda procurando 4gb memória   \n",
       "3  produto gostei experiência primeira vez uso ki...   \n",
       "4  poso comparar outras geração pois primeiro kin...   \n",
       "\n",
       "                                             Stemmer  \n",
       "0  apes oferec 4gb sistem consom quas 2gb aind as...  \n",
       "1     ador ganh 90 dia leit grátil fic aparec 30 dia  \n",
       "2                     maravilh aind procur 4gb memór  \n",
       "3  produt gost experi prim vez uso kindl ach saca...  \n",
       "4  pos compar outr ger poi prim kindl pesso gost ...  "
      ]
     },
     "execution_count": 185,
     "metadata": {},
     "output_type": "execute_result"
    }
   ],
   "source": [
    "df.head()"
   ]
  },
  {
   "cell_type": "markdown",
   "id": "5d99bd78",
   "metadata": {},
   "source": [
    "## Aplicação do Random Forest com Bag of Words:"
   ]
  },
  {
   "cell_type": "markdown",
   "id": "eace07e7",
   "metadata": {},
   "source": [
    "#### Random Forest sem Stemming:"
   ]
  },
  {
   "cell_type": "code",
   "execution_count": 186,
   "id": "014d559b",
   "metadata": {},
   "outputs": [],
   "source": [
    "X = df[\"Tokens\"].values\n",
    "y = df[\"Review\"].values"
   ]
  },
  {
   "cell_type": "code",
   "execution_count": 187,
   "id": "29618e67",
   "metadata": {},
   "outputs": [],
   "source": [
    "X_train, X_test, y_train, y_test = train_test_split(X, y, test_size = 0.30, random_state = 42, stratify=y)"
   ]
  },
  {
   "cell_type": "markdown",
   "id": "32e42121",
   "metadata": {},
   "source": [
    "##### Bag of Words:"
   ]
  },
  {
   "cell_type": "code",
   "execution_count": 188,
   "id": "ee4d900b",
   "metadata": {},
   "outputs": [],
   "source": [
    "vectorizer = CountVectorizer()\n",
    "\n",
    "X_train_ = vectorizer.fit_transform(X_train)\n",
    "X_test_ = vectorizer.transform(X_test)"
   ]
  },
  {
   "cell_type": "markdown",
   "id": "e5775d60",
   "metadata": {},
   "source": [
    "### Avaliação do Modelo com os parâmetros padrões:"
   ]
  },
  {
   "cell_type": "code",
   "execution_count": 189,
   "id": "0cb51049",
   "metadata": {},
   "outputs": [
    {
     "name": "stdout",
     "output_type": "stream",
     "text": [
      "0.8865104655671565\n"
     ]
    },
    {
     "data": {
      "text/plain": [
       "RandomForestClassifier(random_state=42)"
      ]
     },
     "execution_count": 189,
     "metadata": {},
     "output_type": "execute_result"
    }
   ],
   "source": [
    "kf = StratifiedKFold(n_splits=5)\n",
    "\n",
    "classifier = RandomForestClassifier(random_state=42)\n",
    "scores = cross_val_score(classifier, X_train_, y_train, cv=kf, scoring='f1', n_jobs=-1)   \n",
    "print(scores.mean())\n",
    "\n",
    "classifier.fit(X_train_, y_train)"
   ]
  },
  {
   "cell_type": "code",
   "execution_count": 190,
   "id": "e03963c0",
   "metadata": {},
   "outputs": [
    {
     "name": "stdout",
     "output_type": "stream",
     "text": [
      "Treino:  1.0\n",
      "Teste:  0.81\n"
     ]
    }
   ],
   "source": [
    "print(\"Treino: \", round(accuracy_score(y_train, classifier.predict(X_train_)), 2))\n",
    "print(\"Teste: \", round(accuracy_score(y_test, classifier.predict(X_test_)), 2))"
   ]
  },
  {
   "cell_type": "code",
   "execution_count": 191,
   "id": "bec8f1c4",
   "metadata": {},
   "outputs": [
    {
     "name": "stdout",
     "output_type": "stream",
     "text": [
      "              precision    recall  f1-score   support\n",
      "\n",
      "           0       0.87      0.15      0.26       336\n",
      "           1       0.80      0.99      0.89      1164\n",
      "\n",
      "    accuracy                           0.81      1500\n",
      "   macro avg       0.83      0.57      0.58      1500\n",
      "weighted avg       0.82      0.81      0.75      1500\n",
      "\n"
     ]
    }
   ],
   "source": [
    "y_pred = classifier.predict(X_test_)\n",
    "\n",
    "#print(confusion_matrix(y_test,y_pred))\n",
    "print(classification_report(y_test,y_pred))"
   ]
  },
  {
   "cell_type": "code",
   "execution_count": 192,
   "id": "6befb1a2",
   "metadata": {},
   "outputs": [
    {
     "name": "stdout",
     "output_type": "stream",
     "text": [
      "Precisão:  0.8\n",
      "F1-score:  0.89\n",
      "Recall:  0.99\n"
     ]
    }
   ],
   "source": [
    "print(\"Precisão: \", round(precision_score(y_test, y_pred), 2))\n",
    "print(\"F1-score: \", round(f1_score(y_test, y_pred), 2))\n",
    "print(\"Recall: \", round(recall_score(y_test, y_pred), 2))"
   ]
  },
  {
   "cell_type": "markdown",
   "id": "a420b303",
   "metadata": {},
   "source": [
    "### Ajuste de Parâmetros:"
   ]
  },
  {
   "cell_type": "code",
   "execution_count": 193,
   "id": "f5c4bf45",
   "metadata": {},
   "outputs": [
    {
     "name": "stdout",
     "output_type": "stream",
     "text": [
      "Fitting 5 folds for each of 192 candidates, totalling 960 fits\n",
      "=========Resultados da Busca para a Decision Tree==========\n",
      "Best Score: 0.8783866689509979\n",
      "Best Hyperparameters: {'criterion': 'entropy', 'max_depth': 40, 'n_estimators': 100}\n",
      "Best Estimator: RandomForestClassifier(criterion='entropy', max_depth=40, random_state=42)\n"
     ]
    }
   ],
   "source": [
    "cv = StratifiedKFold(n_splits=5)\n",
    "\n",
    "parameters = {\n",
    "    \"criterion\": [\"gini\", \"entropy\"],\n",
    "    \"n_estimators\": list(range(100, 351, 50)),\n",
    "    \"max_depth\": range(25, 41)\n",
    "}\n",
    "\n",
    "rf = RandomForestClassifier(random_state=42)\n",
    "grid_search = GridSearchCV(rf, parameters, scoring=\"f1\", n_jobs= -1, verbose=5,cv=cv)\n",
    "grid_search.fit(X_train_, y_train)\n",
    "\n",
    "print('=========Resultados da Busca para a Decision Tree==========')\n",
    "print('Best Score: %s' % grid_search.best_score_)\n",
    "print('Best Hyperparameters: %s' % grid_search.best_params_)\n",
    "print('Best Estimator: %s' % grid_search.best_estimator_)"
   ]
  },
  {
   "cell_type": "markdown",
   "id": "654d80fc",
   "metadata": {},
   "source": [
    "### Aplicação do modelo com os melhores parâmetros:"
   ]
  },
  {
   "cell_type": "code",
   "execution_count": 194,
   "id": "2e44ebb5",
   "metadata": {},
   "outputs": [
    {
     "name": "stdout",
     "output_type": "stream",
     "text": [
      "Média: 0.88 \n",
      "Desvio Padrão: 0.0\n",
      "\n",
      "Acurácia Treino: 0.92\n",
      "Acurácia Teste: 0.79\n",
      "Precisão Treino: 0.91\n",
      "Precisão Teste: 0.79\n",
      "F1-score Treino: 0.95\n",
      "F1-score Teste: 0.88\n",
      "Recall Treino: 1.0\n",
      "Recall Teste: 1.0\n"
     ]
    }
   ],
   "source": [
    "cv = StratifiedKFold(n_splits=5)\n",
    "\n",
    "best_params = grid_search.best_params_\n",
    "\n",
    "rf = RandomForestClassifier(**best_params)\n",
    "\n",
    "scores = cross_val_score(rf, X_train_, y_train, scoring=\"f1\", cv=cv, n_jobs= -1)\n",
    "print(\"Média: {} \\nDesvio Padrão: {}\\n\".format(round(scores.mean(), 2), round(scores.std(),2)))\n",
    "\n",
    "rf.fit(X_train_, y_train) \n",
    "accuracy_train = accuracy_score(y_train, rf.predict(X_train_)).round(2)\n",
    "accuracy_test = accuracy_score(y_test, rf.predict(X_test_)).round(2)\n",
    "\n",
    "f1_train = f1_score(y_train, rf.predict(X_train_)).round(2)\n",
    "f1_test = f1_score(y_test, rf.predict(X_test_)).round(2)\n",
    "\n",
    "pre_train = precision_score(y_train, rf.predict(X_train_)).round(2)\n",
    "pre_test = precision_score(y_test, rf.predict(X_test_)).round(2)\n",
    "\n",
    "rec_train = recall_score(y_train, rf.predict(X_train_)).round(2)\n",
    "rec_test = recall_score(y_test, rf.predict(X_test_)).round(2)\n",
    "\n",
    "print(\"Acurácia Treino: {}\". format(accuracy_train))\n",
    "print(\"Acurácia Teste: {}\". format(accuracy_test))\n",
    "\n",
    "print(\"Precisão Treino: {}\".format(pre_train))\n",
    "print(\"Precisão Teste: {}\".format(pre_test))\n",
    "\n",
    "print(\"F1-score Treino: {}\".format(f1_train))\n",
    "print(\"F1-score Teste: {}\".format(f1_test))\n",
    "\n",
    "print(\"Recall Treino: {}\".format(rec_train))\n",
    "print(\"Recall Teste: {}\".format(rec_test))"
   ]
  },
  {
   "cell_type": "markdown",
   "id": "df3a0f66",
   "metadata": {},
   "source": [
    "#### Random Forest com Stemming:"
   ]
  },
  {
   "cell_type": "code",
   "execution_count": 195,
   "id": "de43aee9",
   "metadata": {},
   "outputs": [],
   "source": [
    "X = df[\"Stemmer\"].values\n",
    "y = df[\"Review\"].values"
   ]
  },
  {
   "cell_type": "code",
   "execution_count": 196,
   "id": "2d77eed4",
   "metadata": {},
   "outputs": [],
   "source": [
    "X_train, X_test, y_train, y_test = train_test_split(X, y, test_size = 0.30, random_state = 42, stratify=y)"
   ]
  },
  {
   "cell_type": "markdown",
   "id": "95cd2f86",
   "metadata": {},
   "source": [
    "##### Bag of Words:"
   ]
  },
  {
   "cell_type": "code",
   "execution_count": 197,
   "id": "e70cdd1b",
   "metadata": {},
   "outputs": [],
   "source": [
    "vectorizer = CountVectorizer()\n",
    "\n",
    "X_train_ = vectorizer.fit_transform(X_train)\n",
    "X_test_ = vectorizer.transform(X_test)"
   ]
  },
  {
   "cell_type": "markdown",
   "id": "25a4296d",
   "metadata": {},
   "source": [
    "### Avaliação do Modelo com os parâmetros padrões:"
   ]
  },
  {
   "cell_type": "code",
   "execution_count": 198,
   "id": "78e72ca0",
   "metadata": {},
   "outputs": [
    {
     "name": "stdout",
     "output_type": "stream",
     "text": [
      "0.8889783724200973\n"
     ]
    },
    {
     "data": {
      "text/plain": [
       "RandomForestClassifier(random_state=42)"
      ]
     },
     "execution_count": 198,
     "metadata": {},
     "output_type": "execute_result"
    }
   ],
   "source": [
    "kf = StratifiedKFold(n_splits=5)\n",
    "\n",
    "classifier = RandomForestClassifier(random_state=42)\n",
    "scores = cross_val_score(classifier, X_train_, y_train, cv=kf, scoring='f1', n_jobs=-1)   \n",
    "print(scores.mean())\n",
    "\n",
    "classifier.fit(X_train_, y_train) "
   ]
  },
  {
   "cell_type": "code",
   "execution_count": 199,
   "id": "70872940",
   "metadata": {},
   "outputs": [
    {
     "name": "stdout",
     "output_type": "stream",
     "text": [
      "Treino:  1.0\n",
      "Teste:  0.82\n"
     ]
    }
   ],
   "source": [
    "print(\"Treino: \", round(accuracy_score(y_train, classifier.predict(X_train_)), 2))\n",
    "print(\"Teste: \", round(accuracy_score(y_test, classifier.predict(X_test_)), 2))"
   ]
  },
  {
   "cell_type": "code",
   "execution_count": 200,
   "id": "b9f033d7",
   "metadata": {},
   "outputs": [
    {
     "name": "stdout",
     "output_type": "stream",
     "text": [
      "              precision    recall  f1-score   support\n",
      "\n",
      "           0       0.87      0.23      0.36       336\n",
      "           1       0.82      0.99      0.89      1164\n",
      "\n",
      "    accuracy                           0.82      1500\n",
      "   macro avg       0.84      0.61      0.63      1500\n",
      "weighted avg       0.83      0.82      0.78      1500\n",
      "\n"
     ]
    }
   ],
   "source": [
    "y_pred = classifier.predict(X_test_)\n",
    "\n",
    "#print(confusion_matrix(y_test,y_pred))\n",
    "print(classification_report(y_test,y_pred))"
   ]
  },
  {
   "cell_type": "code",
   "execution_count": 201,
   "id": "4d1ed7e5",
   "metadata": {},
   "outputs": [
    {
     "name": "stdout",
     "output_type": "stream",
     "text": [
      "Precisão:  0.82\n",
      "F1-score:  0.89\n",
      "Recall:  0.99\n"
     ]
    }
   ],
   "source": [
    "print(\"Precisão: \", round(precision_score(y_test, y_pred), 2))\n",
    "print(\"F1-score: \", round(f1_score(y_test, y_pred), 2))\n",
    "print(\"Recall: \", round(recall_score(y_test, y_pred), 2))"
   ]
  },
  {
   "cell_type": "markdown",
   "id": "4568b1e7",
   "metadata": {},
   "source": [
    "### Ajuste de parâmetros:"
   ]
  },
  {
   "cell_type": "code",
   "execution_count": 202,
   "id": "fde0ecda",
   "metadata": {},
   "outputs": [
    {
     "name": "stdout",
     "output_type": "stream",
     "text": [
      "Fitting 5 folds for each of 192 candidates, totalling 960 fits\n",
      "=========Resultados da Busca para a Decision Tree==========\n",
      "Best Score: 0.8857822242991912\n",
      "Best Hyperparameters: {'criterion': 'gini', 'max_depth': 40, 'n_estimators': 200}\n",
      "Best Estimator: RandomForestClassifier(max_depth=40, n_estimators=200, random_state=42)\n"
     ]
    }
   ],
   "source": [
    "cv = StratifiedKFold(n_splits=5)\n",
    "\n",
    "parameters = {\n",
    "    \"criterion\": [\"gini\", \"entropy\"],\n",
    "    \"n_estimators\": list(range(100, 351, 50)),\n",
    "    \"max_depth\": range(25, 41)\n",
    "}\n",
    "\n",
    "rf = RandomForestClassifier(random_state=42)\n",
    "grid_search = GridSearchCV(rf, parameters, scoring=\"f1\", n_jobs= -1, verbose=1, cv=cv)\n",
    "grid_search.fit(X_train_, y_train)\n",
    "\n",
    "print('=========Resultados da Busca para a Decision Tree==========')\n",
    "print('Best Score: %s' % grid_search.best_score_)\n",
    "print('Best Hyperparameters: %s' % grid_search.best_params_)\n",
    "print('Best Estimator: %s' % grid_search.best_estimator_)"
   ]
  },
  {
   "cell_type": "markdown",
   "id": "635c1ff4",
   "metadata": {},
   "source": [
    "### Aplicação do modelo com os melhores parâmetros:"
   ]
  },
  {
   "cell_type": "code",
   "execution_count": 203,
   "id": "5916dc50",
   "metadata": {},
   "outputs": [
    {
     "name": "stdout",
     "output_type": "stream",
     "text": [
      "Média: 0.88 \n",
      "Desvio Padrão: 0.0\n",
      "\n",
      "Acurácia Treino: 0.95\n",
      "Acurácia Teste: 0.81\n",
      "Precisão Treino: 0.94\n",
      "Precisão Teste: 0.8\n",
      "F1-score Treino: 0.97\n",
      "F1-score Teste: 0.89\n",
      "Recall Treino: 1.0\n",
      "Recall Teste: 1.0\n"
     ]
    }
   ],
   "source": [
    "cv = StratifiedKFold(n_splits=5)\n",
    "\n",
    "best_params = grid_search.best_params_\n",
    "\n",
    "rf = RandomForestClassifier(**best_params)\n",
    "\n",
    "scores = cross_val_score(rf, X_train_, y_train, scoring=\"f1\", cv=cv, n_jobs= -1)\n",
    "print(\"Média: {} \\nDesvio Padrão: {}\\n\".format(round(scores.mean(), 2), round(scores.std(),2)))\n",
    "\n",
    "rf.fit(X_train_, y_train)\n",
    "\n",
    "accuracy_train = accuracy_score(y_train, rf.predict(X_train_)).round(2)\n",
    "accuracy_test = accuracy_score(y_test, rf.predict(X_test_)).round(2)\n",
    "\n",
    "f1_train = f1_score(y_train, rf.predict(X_train_)).round(2)\n",
    "f1_test = f1_score(y_test, rf.predict(X_test_)).round(2)\n",
    "\n",
    "pre_train = precision_score(y_train, rf.predict(X_train_)).round(2)\n",
    "pre_test = precision_score(y_test, rf.predict(X_test_)).round(2)\n",
    "\n",
    "rec_train = recall_score(y_train, rf.predict(X_train_)).round(2)\n",
    "rec_test = recall_score(y_test, rf.predict(X_test_)).round(2)\n",
    "\n",
    "print(\"Acurácia Treino: {}\". format(accuracy_train))\n",
    "print(\"Acurácia Teste: {}\". format(accuracy_test))\n",
    "\n",
    "print(\"Precisão Treino: {}\".format(pre_train))\n",
    "print(\"Precisão Teste: {}\".format(pre_test))\n",
    "\n",
    "print(\"F1-score Treino: {}\".format(f1_train))\n",
    "print(\"F1-score Teste: {}\".format(f1_test))\n",
    "\n",
    "print(\"Recall Treino: {}\".format(rec_train))\n",
    "print(\"Recall Teste: {}\".format(rec_test))"
   ]
  },
  {
   "cell_type": "markdown",
   "id": "57c3d0f5",
   "metadata": {},
   "source": [
    "Percebe-se que, com o stemming obtém-se uma acurácia de teste levemente maior do que o caso sem stemming, de 0.79 para 0.81.\n",
    "No caso do f1-score, quase não há diferença entre os dois casos, de 0.88 para 0.89.\n",
    "Para a precisão, ocorre o mesmo que no f1-score, com os valores de 0.79 sem stemming e 0.80 com stemming."
   ]
  },
  {
   "cell_type": "code",
   "execution_count": 39,
   "id": "ebb0f2a9",
   "metadata": {},
   "outputs": [
    {
     "name": "stdout",
     "output_type": "stream",
     "text": [
      "Requirement already satisfied: tensorflow in c:\\users\\mcacs\\anaconda3\\envs\\sidi\\lib\\site-packages (2.8.0)\n",
      "Requirement already satisfied: google-pasta>=0.1.1 in c:\\users\\mcacs\\anaconda3\\envs\\sidi\\lib\\site-packages (from tensorflow) (0.2.0)\n",
      "Requirement already satisfied: tensorflow-io-gcs-filesystem>=0.23.1 in c:\\users\\mcacs\\anaconda3\\envs\\sidi\\lib\\site-packages (from tensorflow) (0.24.0)\n",
      "Requirement already satisfied: absl-py>=0.4.0 in c:\\users\\mcacs\\anaconda3\\envs\\sidi\\lib\\site-packages (from tensorflow) (1.0.0)\n",
      "Requirement already satisfied: tensorboard<2.9,>=2.8 in c:\\users\\mcacs\\anaconda3\\envs\\sidi\\lib\\site-packages (from tensorflow) (2.8.0)\n",
      "Requirement already satisfied: six>=1.12.0 in c:\\users\\mcacs\\anaconda3\\envs\\sidi\\lib\\site-packages (from tensorflow) (1.16.0)\n",
      "Requirement already satisfied: keras-preprocessing>=1.1.1 in c:\\users\\mcacs\\anaconda3\\envs\\sidi\\lib\\site-packages (from tensorflow) (1.1.2)\n",
      "Requirement already satisfied: h5py>=2.9.0 in c:\\users\\mcacs\\anaconda3\\envs\\sidi\\lib\\site-packages (from tensorflow) (3.6.0)\n",
      "Requirement already satisfied: setuptools in c:\\users\\mcacs\\anaconda3\\envs\\sidi\\lib\\site-packages (from tensorflow) (58.0.4)\n",
      "Requirement already satisfied: astunparse>=1.6.0 in c:\\users\\mcacs\\anaconda3\\envs\\sidi\\lib\\site-packages (from tensorflow) (1.6.3)\n",
      "Requirement already satisfied: wrapt>=1.11.0 in c:\\users\\mcacs\\anaconda3\\envs\\sidi\\lib\\site-packages (from tensorflow) (1.14.0)\n",
      "Requirement already satisfied: grpcio<2.0,>=1.24.3 in c:\\users\\mcacs\\anaconda3\\envs\\sidi\\lib\\site-packages (from tensorflow) (1.44.0)\n",
      "Requirement already satisfied: flatbuffers>=1.12 in c:\\users\\mcacs\\anaconda3\\envs\\sidi\\lib\\site-packages (from tensorflow) (2.0)\n",
      "Requirement already satisfied: keras<2.9,>=2.8.0rc0 in c:\\users\\mcacs\\anaconda3\\envs\\sidi\\lib\\site-packages (from tensorflow) (2.8.0)\n",
      "Requirement already satisfied: tf-estimator-nightly==2.8.0.dev2021122109 in c:\\users\\mcacs\\anaconda3\\envs\\sidi\\lib\\site-packages (from tensorflow) (2.8.0.dev2021122109)\n",
      "Requirement already satisfied: libclang>=9.0.1 in c:\\users\\mcacs\\anaconda3\\envs\\sidi\\lib\\site-packages (from tensorflow) (13.0.0)\n",
      "Requirement already satisfied: numpy>=1.20 in c:\\users\\mcacs\\anaconda3\\envs\\sidi\\lib\\site-packages (from tensorflow) (1.21.2)\n",
      "Requirement already satisfied: opt-einsum>=2.3.2 in c:\\users\\mcacs\\anaconda3\\envs\\sidi\\lib\\site-packages (from tensorflow) (3.3.0)\n",
      "Requirement already satisfied: termcolor>=1.1.0 in c:\\users\\mcacs\\anaconda3\\envs\\sidi\\lib\\site-packages (from tensorflow) (1.1.0)\n",
      "Requirement already satisfied: gast>=0.2.1 in c:\\users\\mcacs\\anaconda3\\envs\\sidi\\lib\\site-packages (from tensorflow) (0.5.3)\n",
      "Requirement already satisfied: protobuf>=3.9.2 in c:\\users\\mcacs\\anaconda3\\envs\\sidi\\lib\\site-packages (from tensorflow) (3.19.4)\n",
      "Requirement already satisfied: typing-extensions>=3.6.6 in c:\\users\\mcacs\\anaconda3\\envs\\sidi\\lib\\site-packages (from tensorflow) (4.0.1)\n",
      "Requirement already satisfied: wheel<1.0,>=0.23.0 in c:\\users\\mcacs\\anaconda3\\envs\\sidi\\lib\\site-packages (from astunparse>=1.6.0->tensorflow) (0.37.0)\n",
      "Requirement already satisfied: google-auth-oauthlib<0.5,>=0.4.1 in c:\\users\\mcacs\\anaconda3\\envs\\sidi\\lib\\site-packages (from tensorboard<2.9,>=2.8->tensorflow) (0.4.6)\n",
      "Requirement already satisfied: tensorboard-data-server<0.7.0,>=0.6.0 in c:\\users\\mcacs\\anaconda3\\envs\\sidi\\lib\\site-packages (from tensorboard<2.9,>=2.8->tensorflow) (0.6.1)\n",
      "Requirement already satisfied: tensorboard-plugin-wit>=1.6.0 in c:\\users\\mcacs\\anaconda3\\envs\\sidi\\lib\\site-packages (from tensorboard<2.9,>=2.8->tensorflow) (1.8.1)\n",
      "Requirement already satisfied: werkzeug>=0.11.15 in c:\\users\\mcacs\\anaconda3\\envs\\sidi\\lib\\site-packages (from tensorboard<2.9,>=2.8->tensorflow) (2.1.0)\n",
      "Requirement already satisfied: markdown>=2.6.8 in c:\\users\\mcacs\\anaconda3\\envs\\sidi\\lib\\site-packages (from tensorboard<2.9,>=2.8->tensorflow) (3.3.6)\n",
      "Requirement already satisfied: requests<3,>=2.21.0 in c:\\users\\mcacs\\anaconda3\\envs\\sidi\\lib\\site-packages (from tensorboard<2.9,>=2.8->tensorflow) (2.27.1)\n",
      "Requirement already satisfied: google-auth<3,>=1.6.3 in c:\\users\\mcacs\\anaconda3\\envs\\sidi\\lib\\site-packages (from tensorboard<2.9,>=2.8->tensorflow) (2.6.2)\n",
      "Requirement already satisfied: cachetools<6.0,>=2.0.0 in c:\\users\\mcacs\\anaconda3\\envs\\sidi\\lib\\site-packages (from google-auth<3,>=1.6.3->tensorboard<2.9,>=2.8->tensorflow) (5.0.0)\n",
      "Requirement already satisfied: pyasn1-modules>=0.2.1 in c:\\users\\mcacs\\anaconda3\\envs\\sidi\\lib\\site-packages (from google-auth<3,>=1.6.3->tensorboard<2.9,>=2.8->tensorflow) (0.2.8)\n",
      "Requirement already satisfied: rsa<5,>=3.1.4 in c:\\users\\mcacs\\anaconda3\\envs\\sidi\\lib\\site-packages (from google-auth<3,>=1.6.3->tensorboard<2.9,>=2.8->tensorflow) (4.8)\n",
      "Requirement already satisfied: requests-oauthlib>=0.7.0 in c:\\users\\mcacs\\anaconda3\\envs\\sidi\\lib\\site-packages (from google-auth-oauthlib<0.5,>=0.4.1->tensorboard<2.9,>=2.8->tensorflow) (1.3.1)\n",
      "Requirement already satisfied: importlib-metadata>=4.4 in c:\\users\\mcacs\\anaconda3\\envs\\sidi\\lib\\site-packages (from markdown>=2.6.8->tensorboard<2.9,>=2.8->tensorflow) (4.11.3)\n",
      "Requirement already satisfied: zipp>=0.5 in c:\\users\\mcacs\\anaconda3\\envs\\sidi\\lib\\site-packages (from importlib-metadata>=4.4->markdown>=2.6.8->tensorboard<2.9,>=2.8->tensorflow) (3.7.0)\n",
      "Requirement already satisfied: pyasn1<0.5.0,>=0.4.6 in c:\\users\\mcacs\\anaconda3\\envs\\sidi\\lib\\site-packages (from pyasn1-modules>=0.2.1->google-auth<3,>=1.6.3->tensorboard<2.9,>=2.8->tensorflow) (0.4.8)\n",
      "Requirement already satisfied: charset-normalizer~=2.0.0 in c:\\users\\mcacs\\anaconda3\\envs\\sidi\\lib\\site-packages (from requests<3,>=2.21.0->tensorboard<2.9,>=2.8->tensorflow) (2.0.10)\n",
      "Requirement already satisfied: idna<4,>=2.5 in c:\\users\\mcacs\\anaconda3\\envs\\sidi\\lib\\site-packages (from requests<3,>=2.21.0->tensorboard<2.9,>=2.8->tensorflow) (3.3)\n",
      "Requirement already satisfied: urllib3<1.27,>=1.21.1 in c:\\users\\mcacs\\anaconda3\\envs\\sidi\\lib\\site-packages (from requests<3,>=2.21.0->tensorboard<2.9,>=2.8->tensorflow) (1.26.8)\n",
      "Requirement already satisfied: certifi>=2017.4.17 in c:\\users\\mcacs\\anaconda3\\envs\\sidi\\lib\\site-packages (from requests<3,>=2.21.0->tensorboard<2.9,>=2.8->tensorflow) (2021.10.8)\n",
      "Requirement already satisfied: oauthlib>=3.0.0 in c:\\users\\mcacs\\anaconda3\\envs\\sidi\\lib\\site-packages (from requests-oauthlib>=0.7.0->google-auth-oauthlib<0.5,>=0.4.1->tensorboard<2.9,>=2.8->tensorflow) (3.2.0)\n"
     ]
    }
   ],
   "source": [
    "!pip install tensorflow"
   ]
  },
  {
   "cell_type": "markdown",
   "id": "a0797a69",
   "metadata": {},
   "source": [
    "## Aplicação da CNN:"
   ]
  },
  {
   "cell_type": "markdown",
   "id": "998724ab",
   "metadata": {},
   "source": [
    "## Sem Stemming:"
   ]
  },
  {
   "cell_type": "code",
   "execution_count": 53,
   "id": "79e44555",
   "metadata": {},
   "outputs": [
    {
     "name": "stdout",
     "output_type": "stream",
     "text": [
      "(3500, 7) (1500, 7)\n"
     ]
    }
   ],
   "source": [
    "df_train, df_test = train_test_split(df, test_size = 0.30, random_state = 42, stratify=df[\"Review\"])\n",
    "\n",
    "print(df_train.shape, df_test.shape)"
   ]
  },
  {
   "cell_type": "code",
   "execution_count": 54,
   "id": "f4774e2b",
   "metadata": {
    "scrolled": true
   },
   "outputs": [
    {
     "name": "stdout",
     "output_type": "stream",
     "text": [
      "Tamanho do Vocabulário:  9095\n",
      "Comprimento da maior sequência:  462\n"
     ]
    }
   ],
   "source": [
    "X_train = df_train[\"Tokens\"]\n",
    "y_train = df_train[\"Review\"]\n",
    "\n",
    "X_test = df_test[\"Tokens\"]\n",
    "y_test = df_test[\"Review\"]\n",
    "\n",
    "\n",
    "tokenizer = Tokenizer(oov_token=\"<OOV>\")\n",
    "tokenizer.fit_on_texts(X_train)\n",
    "\n",
    "# Determina o tamanho do vocabulário\n",
    "word_index = tokenizer.word_index\n",
    "vocab = len(word_index) + 1\n",
    "print(\"Tamanho do Vocabulário: \", vocab)\n",
    "\n",
    "sequences_train = tokenizer.texts_to_sequences(X_train)\n",
    "\n",
    "# Identificando o comprimento da maior sequência do conjunto de treinamento\n",
    "names = [len(n) for n in sequences_train]\n",
    "print(\"Comprimento da maior sequência: \", max(names))"
   ]
  },
  {
   "cell_type": "markdown",
   "id": "52ae758d",
   "metadata": {},
   "source": [
    "Como as mensagens (texto) no conjunto de dados são de tamanho variável, usaremos o preenchimento para fazer \n",
    "com que todas as mensagens tenham o mesmo tamanho. Podemos usar o comprimento máximo da sequência para preencher as mensagens. \n",
    "No entanto, também podemos dar uma olhada na distribuição \n",
    "dos comprimentos de sequência no conjunto de treino para encontrar o comprimento de preenchimento correto."
   ]
  },
  {
   "cell_type": "code",
   "execution_count": 55,
   "id": "e7344051",
   "metadata": {},
   "outputs": [
    {
     "data": {
      "image/png": "[encoded data removed]",
      "text/plain": [
       "<Figure size 1296x432 with 1 Axes>"
      ]
     },
     "metadata": {
      "needs_background": "light"
     },
     "output_type": "display_data"
    }
   ],
   "source": [
    "# Identificando a frêquencia dos comprimentos das sequência de treinamento\n",
    "plt.figure(figsize=(18,6))\n",
    "plt.hist(names, bins = 100)\n",
    "x_ticks = np.arange(0, 500, 20)\n",
    "plt.xticks(x_ticks)\n",
    "plt.show()"
   ]
  },
  {
   "cell_type": "markdown",
   "id": "ecc2cc56",
   "metadata": {},
   "source": [
    "Podemos ver claramente que a maioria das mensagens tem um comprimento de 60 palavras ou menos. \n",
    "Considerando que o comprimento máximo é 480. Portanto, se selecionarmos 480 como o comprimento de preenchimento, \n",
    "todas as sequências de entrada terão comprimento 480 e a maioria dos tokens nessas sequências serão tokens de preenchimento que \n",
    "não ajudarão o modelo a aprender nada útil e além disso, tornará o treinamento mais lento.\n",
    "\n",
    "Portanto, definiremos 60 como o comprimento do preenchimento."
   ]
  },
  {
   "cell_type": "markdown",
   "id": "d3384f18",
   "metadata": {},
   "source": [
    "## Padding:"
   ]
  },
  {
   "cell_type": "code",
   "execution_count": 56,
   "id": "af288690",
   "metadata": {},
   "outputs": [],
   "source": [
    "max_length = 60\n",
    "\n",
    "padded_train = pad_sequences(sequences_train, maxlen=max_length, padding='post', truncating='post')\n",
    "\n",
    "sequences_test = tokenizer.texts_to_sequences(X_test)\n",
    "padded_test = pad_sequences(sequences_test, maxlen=max_length, padding='post', truncating='post')"
   ]
  },
  {
   "cell_type": "markdown",
   "id": "8f5c8fbf",
   "metadata": {},
   "source": [
    "### Sem Word Embeddings Pré-treinado:"
   ]
  },
  {
   "cell_type": "code",
   "execution_count": 57,
   "id": "e55abbd5",
   "metadata": {},
   "outputs": [
    {
     "name": "stdout",
     "output_type": "stream",
     "text": [
      "Model: \"sequential_3\"\n",
      "_________________________________________________________________\n",
      " Layer (type)                Output Shape              Param #   \n",
      "=================================================================\n",
      " embedding_3 (Embedding)     (None, 60, 16)            145520    \n",
      "                                                                 \n",
      " dropout_3 (Dropout)         (None, 60, 16)            0         \n",
      "                                                                 \n",
      " lstm_3 (LSTM)               (None, 128)               74240     \n",
      "                                                                 \n",
      " dense_3 (Dense)             (None, 1)                 129       \n",
      "                                                                 \n",
      "=================================================================\n",
      "Total params: 219,889\n",
      "Trainable params: 219,889\n",
      "Non-trainable params: 0\n",
      "_________________________________________________________________\n"
     ]
    }
   ],
   "source": [
    "embedding = 16\n",
    "\n",
    "model = keras.Sequential()\n",
    "model.add(keras.layers.Embedding(vocab, embedding, input_length=max_length))\n",
    "model.add(keras.layers.Dropout(0.5))\n",
    "model.add(keras.layers.LSTM(128))\n",
    "model.add(keras.layers.Dense(1, activation='sigmoid'))\n",
    "\n",
    "model.summary()\n",
    "\n"
   ]
  },
  {
   "cell_type": "code",
   "execution_count": 58,
   "id": "7597fd57",
   "metadata": {},
   "outputs": [],
   "source": [
    "METRICS = [\n",
    "    tf.keras.metrics.BinaryAccuracy(name='accuracy'),\n",
    "    tf.keras.metrics.Precision(name='precision'),\n",
    "    tf.keras.metrics.Recall(name='recall'),\n",
    "]\n",
    "\n",
    "model.compile(optimizer='adam', loss='binary_crossentropy', metrics=[METRICS])"
   ]
  },
  {
   "cell_type": "code",
   "execution_count": 60,
   "id": "578629f4",
   "metadata": {},
   "outputs": [
    {
     "name": "stdout",
     "output_type": "stream",
     "text": [
      "Epoch 1/10\n",
      "110/110 [==============================] - 7s 43ms/step - loss: 0.5448 - accuracy: 0.7740 - precision: 0.7762 - recall: 0.9959 - val_loss: 0.5313 - val_accuracy: 0.7760 - val_precision: 0.7760 - val_recall: 1.0000\n",
      "Epoch 2/10\n",
      "110/110 [==============================] - 4s 38ms/step - loss: 0.5296 - accuracy: 0.7760 - precision: 0.7760 - recall: 1.0000 - val_loss: 0.5290 - val_accuracy: 0.7760 - val_precision: 0.7760 - val_recall: 1.0000\n",
      "Epoch 3/10\n",
      "110/110 [==============================] - 4s 40ms/step - loss: 0.4353 - accuracy: 0.8111 - precision: 0.8176 - recall: 0.9739 - val_loss: 0.4198 - val_accuracy: 0.8353 - val_precision: 0.8837 - val_recall: 0.9072\n",
      "Epoch 4/10\n",
      "110/110 [==============================] - 6s 51ms/step - loss: 0.3289 - accuracy: 0.8700 - precision: 0.8927 - recall: 0.9462 - val_loss: 0.4027 - val_accuracy: 0.8447 - val_precision: 0.8674 - val_recall: 0.9442\n",
      "Epoch 5/10\n",
      "110/110 [==============================] - 5s 50ms/step - loss: 0.2581 - accuracy: 0.9074 - precision: 0.9170 - recall: 0.9683 - val_loss: 0.3827 - val_accuracy: 0.8360 - val_precision: 0.8649 - val_recall: 0.9347\n",
      "Epoch 6/10\n",
      "110/110 [==============================] - 6s 51ms/step - loss: 0.2132 - accuracy: 0.9306 - precision: 0.9343 - recall: 0.9794 - val_loss: 0.4486 - val_accuracy: 0.8293 - val_precision: 0.8679 - val_recall: 0.9201\n",
      "Epoch 7/10\n",
      "110/110 [==============================] - 6s 50ms/step - loss: 0.1716 - accuracy: 0.9460 - precision: 0.9537 - recall: 0.9779 - val_loss: 0.4873 - val_accuracy: 0.8207 - val_precision: 0.8440 - val_recall: 0.9433\n",
      "Epoch 8/10\n",
      "110/110 [==============================] - 6s 51ms/step - loss: 0.1538 - accuracy: 0.9526 - precision: 0.9567 - recall: 0.9834 - val_loss: 0.5894 - val_accuracy: 0.8220 - val_precision: 0.8545 - val_recall: 0.9287\n",
      "Epoch 9/10\n",
      "110/110 [==============================] - 6s 51ms/step - loss: 0.1559 - accuracy: 0.9531 - precision: 0.9600 - recall: 0.9805 - val_loss: 0.4730 - val_accuracy: 0.8300 - val_precision: 0.8692 - val_recall: 0.9192\n",
      "Epoch 10/10\n",
      "110/110 [==============================] - 6s 51ms/step - loss: 0.1114 - accuracy: 0.9697 - precision: 0.9718 - recall: 0.9897 - val_loss: 0.6492 - val_accuracy: 0.8227 - val_precision: 0.8581 - val_recall: 0.9244\n"
     ]
    }
   ],
   "source": [
    "history = model.fit(padded_train,\n",
    "          y_train,\n",
    "          epochs=10,\n",
    "          batch_size=32,\n",
    "          validation_data=(padded_test, y_test))"
   ]
  },
  {
   "cell_type": "code",
   "execution_count": 61,
   "id": "5c1fe168",
   "metadata": {},
   "outputs": [
    {
     "name": "stdout",
     "output_type": "stream",
     "text": [
      "47/47 [==============================] - 1s 18ms/step - loss: 0.6492 - accuracy: 0.8227 - precision: 0.8581 - recall: 0.9244\n",
      "Acurácia:  0.8226666450500488\n",
      "Precisão:  0.8580542206764221\n",
      "F1-Score:  0.8899917142852704\n",
      "Recall:  0.9243986010551453\n"
     ]
    }
   ],
   "source": [
    "loss, accuracy, precision, recall = model.evaluate(padded_test, y_test)\n",
    "\n",
    "f1 = 2 * (precision * recall) / (precision + recall)\n",
    "\n",
    "print(\"Acurácia: \", accuracy)\n",
    "\n",
    "print(\"Precisão: \", precision)\n",
    "print(\"F1-Score: \", f1)\n",
    "print(\"Recall: \", recall)"
   ]
  },
  {
   "cell_type": "markdown",
   "id": "0e1cbbb2",
   "metadata": {},
   "source": [
    "## Criação dos Word Embeddings:"
   ]
  },
  {
   "cell_type": "code",
   "execution_count": 205,
   "id": "29fffa17",
   "metadata": {},
   "outputs": [
    {
     "name": "stdout",
     "output_type": "stream",
     "text": [
      "Foram encontrados 929594 vetores de palavras.\n"
     ]
    }
   ],
   "source": [
    "def is_float(s):\n",
    "    try:\n",
    "        float(s)\n",
    "        return True\n",
    "    except ValueError:\n",
    "        return False\n",
    "\n",
    "\n",
    "embeddings_index = {}\n",
    "\n",
    "f = open('glove_s100.txt', encoding=\"utf8\")\n",
    "for line in f:\n",
    "    values = line.split()\n",
    "    word = values[0]\n",
    "    \n",
    "    coefs = []\n",
    "    for coef in values[1:]:\n",
    "        if (is_float(coef)):\n",
    "            coefs.append(coef)\n",
    "    \n",
    "    coefs = np.asarray(coefs, dtype='float32')\n",
    "    embeddings_index[word] = coefs\n",
    "f.close()\n",
    "\n",
    "print('Foram encontrados %s vetores de palavras.' % len(embeddings_index))"
   ]
  },
  {
   "cell_type": "code",
   "execution_count": 206,
   "id": "f0183252",
   "metadata": {},
   "outputs": [],
   "source": [
    "# criação da matriz de embeddings\n",
    "embedding_matrix = np.zeros((vocab, 100))\n",
    "\n",
    "\n",
    "for word, i in word_index.items():\n",
    "    embedding_vector = embeddings_index.get(word)\n",
    "    if embedding_vector is not None:\n",
    "        # words not found in embedding index will be all-zeros.\n",
    "        embedding_matrix[i] = embedding_vector[:100]"
   ]
  },
  {
   "cell_type": "code",
   "execution_count": 207,
   "id": "8327fdb4",
   "metadata": {},
   "outputs": [
    {
     "data": {
      "text/plain": [
       "array([[0., 0., 0., ..., 0., 0., 0.],\n",
       "       [0., 0., 0., ..., 0., 0., 0.],\n",
       "       [0., 0., 0., ..., 0., 0., 0.],\n",
       "       ...,\n",
       "       [0., 0., 0., ..., 0., 0., 0.],\n",
       "       [0., 0., 0., ..., 0., 0., 0.],\n",
       "       [0., 0., 0., ..., 0., 0., 0.]])"
      ]
     },
     "execution_count": 207,
     "metadata": {},
     "output_type": "execute_result"
    }
   ],
   "source": [
    "embedding_matrix"
   ]
  },
  {
   "cell_type": "markdown",
   "id": "234cf60a",
   "metadata": {},
   "source": [
    "## Criando a Camada de Embbeding:"
   ]
  },
  {
   "cell_type": "code",
   "execution_count": 208,
   "id": "2eaf8db2",
   "metadata": {},
   "outputs": [],
   "source": [
    "#Camada responsável para interpretar cada palavra para um embbeding:\n",
    "import tensorflow\n",
    "from tensorflow.keras.layers import Embedding\n",
    "\n",
    "embedding_layer = Embedding(input_dim=vocab,\n",
    "                            output_dim=100,\n",
    "                            weights=[embedding_matrix],\n",
    "                            input_length=max_length,\n",
    "                            trainable=False) "
   ]
  },
  {
   "cell_type": "code",
   "execution_count": 209,
   "id": "04dfeff6",
   "metadata": {},
   "outputs": [],
   "source": [
    "from tensorflow.keras import *\n",
    "from tensorflow.keras.layers import *\n",
    "\n",
    "model = Sequential([\n",
    "    embedding_layer,\n",
    "    Conv1D(128, 5, activation='relu'),\n",
    "    GlobalMaxPooling1D(),\n",
    "    Dense(10, activation='relu'),\n",
    "    Dense(1, activation='sigmoid')\n",
    "])"
   ]
  },
  {
   "cell_type": "code",
   "execution_count": 210,
   "id": "84bb3d03",
   "metadata": {},
   "outputs": [],
   "source": [
    "METRICS = [\n",
    "    tf.keras.metrics.BinaryAccuracy(name='accuracy'),\n",
    "    tf.keras.metrics.Precision(name='precision'),\n",
    "    tf.keras.metrics.Recall(name='recall'),\n",
    "]\n",
    "\n",
    "model.compile(optimizer='adam', loss='binary_crossentropy', metrics=[METRICS])"
   ]
  },
  {
   "cell_type": "code",
   "execution_count": 211,
   "id": "6d53c86e",
   "metadata": {},
   "outputs": [
    {
     "name": "stdout",
     "output_type": "stream",
     "text": [
      "Epoch 1/10\n",
      "110/110 [==============================] - 4s 33ms/step - loss: 0.5148 - accuracy: 0.7757 - precision: 0.7761 - recall: 0.9993 - val_loss: 0.4748 - val_accuracy: 0.7753 - val_precision: 0.7759 - val_recall: 0.9991\n",
      "Epoch 2/10\n",
      "110/110 [==============================] - 3s 31ms/step - loss: 0.4248 - accuracy: 0.7900 - precision: 0.7914 - recall: 0.9904 - val_loss: 0.4470 - val_accuracy: 0.7940 - val_precision: 0.8008 - val_recall: 0.9777\n",
      "Epoch 3/10\n",
      "110/110 [==============================] - 3s 32ms/step - loss: 0.3381 - accuracy: 0.8417 - precision: 0.8458 - recall: 0.9735 - val_loss: 0.4413 - val_accuracy: 0.8040 - val_precision: 0.8103 - val_recall: 0.9759\n",
      "Epoch 4/10\n",
      "110/110 [==============================] - 3s 31ms/step - loss: 0.2249 - accuracy: 0.9300 - precision: 0.9306 - recall: 0.9831 - val_loss: 0.4909 - val_accuracy: 0.7627 - val_precision: 0.8755 - val_recall: 0.8093\n",
      "Epoch 5/10\n",
      "110/110 [==============================] - 3s 31ms/step - loss: 0.1347 - accuracy: 0.9723 - precision: 0.9729 - recall: 0.9919 - val_loss: 0.4684 - val_accuracy: 0.8093 - val_precision: 0.8387 - val_recall: 0.9338\n",
      "Epoch 6/10\n",
      "110/110 [==============================] - 3s 31ms/step - loss: 0.0641 - accuracy: 0.9963 - precision: 0.9971 - recall: 0.9982 - val_loss: 0.4907 - val_accuracy: 0.8060 - val_precision: 0.8462 - val_recall: 0.9167\n",
      "Epoch 7/10\n",
      "110/110 [==============================] - 3s 30ms/step - loss: 0.0284 - accuracy: 0.9994 - precision: 0.9996 - recall: 0.9996 - val_loss: 0.5505 - val_accuracy: 0.8113 - val_precision: 0.8402 - val_recall: 0.9347\n",
      "Epoch 8/10\n",
      "110/110 [==============================] - 3s 30ms/step - loss: 0.0131 - accuracy: 1.0000 - precision: 1.0000 - recall: 1.0000 - val_loss: 0.6017 - val_accuracy: 0.8120 - val_precision: 0.8387 - val_recall: 0.9381\n",
      "Epoch 9/10\n",
      "110/110 [==============================] - 3s 32ms/step - loss: 0.0070 - accuracy: 1.0000 - precision: 1.0000 - recall: 1.0000 - val_loss: 0.6749 - val_accuracy: 0.8087 - val_precision: 0.8280 - val_recall: 0.9510\n",
      "Epoch 10/10\n",
      "110/110 [==============================] - 4s 32ms/step - loss: 0.0041 - accuracy: 1.0000 - precision: 1.0000 - recall: 1.0000 - val_loss: 0.6760 - val_accuracy: 0.8100 - val_precision: 0.8373 - val_recall: 0.9373\n"
     ]
    }
   ],
   "source": [
    "history = model.fit(padded_train,\n",
    "          y_train,\n",
    "          batch_size = 32,\n",
    "          epochs=10,\n",
    "          validation_data=(padded_test, y_test))"
   ]
  },
  {
   "cell_type": "code",
   "execution_count": 212,
   "id": "a1ef4f8d",
   "metadata": {},
   "outputs": [
    {
     "name": "stdout",
     "output_type": "stream",
     "text": [
      "47/47 [==============================] - 1s 11ms/step - loss: 0.6760 - accuracy: 0.8100 - precision: 0.8373 - recall: 0.9373\n",
      "Acurácia:  0.8100000023841858\n",
      "Precisão:  0.8372985124588013\n",
      "F1-Score:  0.8844750639445604\n",
      "Recall:  0.9372852444648743\n"
     ]
    }
   ],
   "source": [
    "loss, accuracy, precision, recall = model.evaluate(padded_test, y_test)\n",
    "\n",
    "f1 = 2 * (precision * recall) / (precision + recall)\n",
    "\n",
    "print(\"Acurácia: \", accuracy)\n",
    "\n",
    "print(\"Precisão: \", precision)\n",
    "print(\"F1-Score: \", f1)\n",
    "print(\"Recall: \", recall)"
   ]
  },
  {
   "cell_type": "markdown",
   "id": "5644553f",
   "metadata": {},
   "source": [
    "## Ajuste de Paramêtros sem Word Embeddings Pré-treinado:"
   ]
  },
  {
   "cell_type": "code",
   "execution_count": 220,
   "id": "525e2b67",
   "metadata": {},
   "outputs": [],
   "source": [
    "def model_to_optimize(num_filters, kernel_size):\n",
    "    model = Sequential([\n",
    "      Embedding(vocab, embedding, input_length=max_length),\n",
    "      Conv1D(num_filters, kernel_size, activation='relu'),\n",
    "      GlobalMaxPooling1D(),\n",
    "      Dense(10, activation='relu'),\n",
    "      Dense(1, activation='sigmoid')])\n",
    "    \n",
    "    METRICS = [\n",
    "        tf.keras.metrics.BinaryAccuracy(name='accuracy'),\n",
    "        tf.keras.metrics.Precision(name='precision'),\n",
    "        tf.keras.metrics.Recall(name='recall'),\n",
    "    ]\n",
    "\n",
    "    model.compile(optimizer='adam', loss='binary_crossentropy', metrics=[METRICS])\n",
    "\n",
    "    return model"
   ]
  },
  {
   "cell_type": "code",
   "execution_count": 221,
   "id": "554761f0",
   "metadata": {},
   "outputs": [],
   "source": [
    "num_filters = [32, 64, 128]\n",
    "kernel_size = [3, 5, 7]\n",
    "\n",
    "params = {\n",
    "    \"num_filters\": num_filters,\n",
    "    \"kernel_size\": kernel_size,\n",
    "}\n"
   ]
  },
  {
   "cell_type": "code",
   "execution_count": 222,
   "id": "c8e45aa7",
   "metadata": {},
   "outputs": [],
   "source": [
    "from tensorflow.keras.wrappers.scikit_learn import KerasClassifier\n",
    "model = KerasClassifier(build_fn=model_to_optimize,\n",
    "                        epochs=10,\n",
    "                        batch_size=10,\n",
    "                        verbose=False\n",
    ")"
   ]
  },
  {
   "cell_type": "code",
   "execution_count": 223,
   "id": "be46fd89",
   "metadata": {},
   "outputs": [
    {
     "name": "stdout",
     "output_type": "stream",
     "text": [
      "Fitting 5 folds for each of 9 candidates, totalling 45 fits\n"
     ]
    }
   ],
   "source": [
    "#Realizando o GridSearch:\n",
    "from sklearn.model_selection import GridSearchCV\n",
    "gridSearch = GridSearchCV(estimator=model, param_grid=params,\n",
    "                              cv=5, verbose=1)\n",
    "search_result = gridSearch.fit(padded_train, y_train)"
   ]
  },
  {
   "cell_type": "code",
   "execution_count": 224,
   "id": "a88b7f34",
   "metadata": {},
   "outputs": [
    {
     "name": "stdout",
     "output_type": "stream",
     "text": [
      "0.8140000104904175\n"
     ]
    },
    {
     "data": {
      "text/plain": [
       "{'kernel_size': 3, 'num_filters': 32}"
      ]
     },
     "execution_count": 224,
     "metadata": {},
     "output_type": "execute_result"
    }
   ],
   "source": [
    "#Descobrindo a acurácia de teste:\n",
    "test_accuracy = gridSearch.score(padded_test, y_test)\n",
    "print(test_accuracy)\n",
    "#Melhores parâmetros\n",
    "gridSearch.best_params_"
   ]
  },
  {
   "cell_type": "code",
   "execution_count": 225,
   "id": "7c71fb39",
   "metadata": {},
   "outputs": [],
   "source": [
    "model = Sequential([\n",
    "    Embedding(vocab, embedding, input_length=max_length),\n",
    "    Conv1D(gridSearch.best_params_['num_filters'], gridSearch.best_params_['kernel_size'], activation='relu'),\n",
    "    GlobalMaxPooling1D(),\n",
    "    Dense(10, activation='relu'),\n",
    "    Dense(1, activation='sigmoid')])\n",
    "\n",
    "\n",
    "METRICS = [\n",
    "    tf.keras.metrics.BinaryAccuracy(name='accuracy'),\n",
    "    tf.keras.metrics.Precision(name='precision'),\n",
    "    tf.keras.metrics.Recall(name='recall'),\n",
    "]\n",
    "\n",
    "model.compile(optimizer='adam', loss='binary_crossentropy', metrics=[METRICS])"
   ]
  },
  {
   "cell_type": "code",
   "execution_count": 226,
   "id": "778dca84",
   "metadata": {},
   "outputs": [
    {
     "name": "stdout",
     "output_type": "stream",
     "text": [
      "Epoch 1/10\n",
      "110/110 [==============================] - 2s 8ms/step - loss: 0.5939 - accuracy: 0.7220 - precision: 0.7729 - recall: 0.9087 - val_loss: 0.5268 - val_accuracy: 0.7760 - val_precision: 0.7760 - val_recall: 1.0000\n",
      "Epoch 2/10\n",
      "110/110 [==============================] - 1s 6ms/step - loss: 0.5086 - accuracy: 0.7760 - precision: 0.7760 - recall: 1.0000 - val_loss: 0.4878 - val_accuracy: 0.7760 - val_precision: 0.7760 - val_recall: 1.0000\n",
      "Epoch 3/10\n",
      "110/110 [==============================] - 1s 6ms/step - loss: 0.4294 - accuracy: 0.8006 - precision: 0.7996 - recall: 0.9915 - val_loss: 0.4058 - val_accuracy: 0.8173 - val_precision: 0.8248 - val_recall: 0.9708\n",
      "Epoch 4/10\n",
      "110/110 [==============================] - 1s 6ms/step - loss: 0.3303 - accuracy: 0.8586 - precision: 0.8688 - recall: 0.9632 - val_loss: 0.3881 - val_accuracy: 0.8200 - val_precision: 0.8341 - val_recall: 0.9588\n",
      "Epoch 5/10\n",
      "110/110 [==============================] - 1s 6ms/step - loss: 0.2553 - accuracy: 0.9031 - precision: 0.9108 - recall: 0.9702 - val_loss: 0.3895 - val_accuracy: 0.8300 - val_precision: 0.8610 - val_recall: 0.9313\n",
      "Epoch 6/10\n",
      "110/110 [==============================] - 1s 6ms/step - loss: 0.1892 - accuracy: 0.9340 - precision: 0.9420 - recall: 0.9750 - val_loss: 0.4082 - val_accuracy: 0.8293 - val_precision: 0.8715 - val_recall: 0.9149\n",
      "Epoch 7/10\n",
      "110/110 [==============================] - 1s 6ms/step - loss: 0.1304 - accuracy: 0.9640 - precision: 0.9672 - recall: 0.9871 - val_loss: 0.4465 - val_accuracy: 0.8240 - val_precision: 0.8695 - val_recall: 0.9098\n",
      "Epoch 8/10\n",
      "110/110 [==============================] - 1s 6ms/step - loss: 0.0861 - accuracy: 0.9797 - precision: 0.9807 - recall: 0.9934 - val_loss: 0.4893 - val_accuracy: 0.8220 - val_precision: 0.8655 - val_recall: 0.9124\n",
      "Epoch 9/10\n",
      "110/110 [==============================] - 1s 6ms/step - loss: 0.0546 - accuracy: 0.9897 - precision: 0.9887 - recall: 0.9982 - val_loss: 0.5385 - val_accuracy: 0.8193 - val_precision: 0.8615 - val_recall: 0.9141\n",
      "Epoch 10/10\n",
      "110/110 [==============================] - 1s 6ms/step - loss: 0.0331 - accuracy: 0.9943 - precision: 0.9934 - recall: 0.9993 - val_loss: 0.5867 - val_accuracy: 0.8147 - val_precision: 0.8686 - val_recall: 0.8969\n"
     ]
    }
   ],
   "source": [
    "history = model.fit(padded_train,\n",
    "          y_train,\n",
    "          batch_size=32,\n",
    "          epochs=10,\n",
    "          validation_data=(padded_test, y_test))"
   ]
  },
  {
   "cell_type": "code",
   "execution_count": 227,
   "id": "60dfcfc2",
   "metadata": {},
   "outputs": [
    {
     "name": "stdout",
     "output_type": "stream",
     "text": [
      "47/47 [==============================] - 0s 2ms/step - loss: 0.5867 - accuracy: 0.8147 - precision: 0.8686 - recall: 0.8969\n",
      "Acurácia:  0.8146666884422302\n",
      "Precisão:  0.8685523867607117\n",
      "F1-Score:  0.8825020969353264\n",
      "Recall:  0.8969072103500366\n"
     ]
    }
   ],
   "source": [
    "loss, accuracy, precision, recall = model.evaluate(padded_test, y_test)\n",
    "\n",
    "f1 = 2 * (precision * recall) / (precision + recall)\n",
    "\n",
    "print(\"Acurácia: \", accuracy)\n",
    "\n",
    "print(\"Precisão: \", precision)\n",
    "print(\"F1-Score: \", f1)\n",
    "print(\"Recall: \", recall)"
   ]
  },
  {
   "cell_type": "markdown",
   "id": "c9719bea",
   "metadata": {},
   "source": [
    "## Ajuste de Paramêtros com Word Embeddings Pré-treinado:"
   ]
  },
  {
   "cell_type": "code",
   "execution_count": 228,
   "id": "26a677bd",
   "metadata": {},
   "outputs": [],
   "source": [
    "def model_to_optimize(num_filters, kernel_size):\n",
    "    model = Sequential([\n",
    "      embedding_layer,\n",
    "      Conv1D(num_filters, kernel_size, activation='relu'),\n",
    "      GlobalMaxPooling1D(),\n",
    "      Dense(10, activation='relu'),\n",
    "      Dense(1, activation='sigmoid')])\n",
    "    \n",
    "    METRICS = [\n",
    "        tf.keras.metrics.BinaryAccuracy(name='accuracy'),\n",
    "        tf.keras.metrics.Precision(name='precision'),\n",
    "        tf.keras.metrics.Recall(name='recall'),\n",
    "    ]\n",
    "\n",
    "    model.compile(optimizer='adam', loss='binary_crossentropy', metrics=[METRICS])\n",
    "\n",
    "    return model"
   ]
  },
  {
   "cell_type": "code",
   "execution_count": 229,
   "id": "55c93349",
   "metadata": {},
   "outputs": [],
   "source": [
    "num_filters = [32, 64, 128]\n",
    "kernel_size = [3, 5, 7]\n",
    "\n",
    "params = {\n",
    "    \"num_filters\": num_filters,\n",
    "    \"kernel_size\": kernel_size,\n",
    "}"
   ]
  },
  {
   "cell_type": "code",
   "execution_count": 230,
   "id": "e04eeb1d",
   "metadata": {},
   "outputs": [],
   "source": [
    "from tensorflow.keras.wrappers.scikit_learn import KerasClassifier\n",
    "model = KerasClassifier(build_fn=model_to_optimize,\n",
    "                        epochs=10,\n",
    "                        batch_size=10,\n",
    "                        verbose=False\n",
    ")"
   ]
  },
  {
   "cell_type": "code",
   "execution_count": 231,
   "id": "ba3ae3eb",
   "metadata": {},
   "outputs": [
    {
     "name": "stdout",
     "output_type": "stream",
     "text": [
      "Fitting 5 folds for each of 9 candidates, totalling 45 fits\n"
     ]
    }
   ],
   "source": [
    "#Realizando o GridSearch:\n",
    "from sklearn.model_selection import GridSearchCV\n",
    "gridSearch = GridSearchCV(estimator=model, param_grid=params,\n",
    "                              cv=5, verbose=1)\n",
    "search_result = gridSearch.fit(padded_train, y_train)"
   ]
  },
  {
   "cell_type": "code",
   "execution_count": 232,
   "id": "c045b671",
   "metadata": {},
   "outputs": [
    {
     "name": "stdout",
     "output_type": "stream",
     "text": [
      "0.8153333067893982\n"
     ]
    },
    {
     "data": {
      "text/plain": [
       "{'kernel_size': 5, 'num_filters': 128}"
      ]
     },
     "execution_count": 232,
     "metadata": {},
     "output_type": "execute_result"
    }
   ],
   "source": [
    "#Descobrindo a acurácia de teste:\n",
    "test_accuracy = gridSearch.score(padded_test, y_test)\n",
    "print(test_accuracy)\n",
    "#Melhores parâmetros\n",
    "gridSearch.best_params_"
   ]
  },
  {
   "cell_type": "code",
   "execution_count": 83,
   "id": "84364f4b",
   "metadata": {},
   "outputs": [
    {
     "data": {
      "text/html": [
       "<div>\n",
       "<style scoped>\n",
       "    .dataframe tbody tr th:only-of-type {\n",
       "        vertical-align: middle;\n",
       "    }\n",
       "\n",
       "    .dataframe tbody tr th {\n",
       "        vertical-align: top;\n",
       "    }\n",
       "\n",
       "    .dataframe thead th {\n",
       "        text-align: right;\n",
       "    }\n",
       "</style>\n",
       "<table border=\"1\" class=\"dataframe\">\n",
       "  <thead>\n",
       "    <tr style=\"text-align: right;\">\n",
       "      <th></th>\n",
       "      <th>mean_fit_time</th>\n",
       "      <th>std_fit_time</th>\n",
       "      <th>mean_score_time</th>\n",
       "      <th>std_score_time</th>\n",
       "      <th>param_kernel_size</th>\n",
       "      <th>param_num_filters</th>\n",
       "      <th>params</th>\n",
       "      <th>split0_test_score</th>\n",
       "      <th>split1_test_score</th>\n",
       "      <th>split2_test_score</th>\n",
       "      <th>split3_test_score</th>\n",
       "      <th>split4_test_score</th>\n",
       "      <th>mean_test_score</th>\n",
       "      <th>std_test_score</th>\n",
       "      <th>rank_test_score</th>\n",
       "    </tr>\n",
       "  </thead>\n",
       "  <tbody>\n",
       "    <tr>\n",
       "      <th>0</th>\n",
       "      <td>8.399064</td>\n",
       "      <td>0.892032</td>\n",
       "      <td>0.536600</td>\n",
       "      <td>0.045889</td>\n",
       "      <td>3</td>\n",
       "      <td>32</td>\n",
       "      <td>{'kernel_size': 3, 'num_filters': 32}</td>\n",
       "      <td>0.825714</td>\n",
       "      <td>0.784286</td>\n",
       "      <td>0.790000</td>\n",
       "      <td>0.804286</td>\n",
       "      <td>0.782857</td>\n",
       "      <td>0.797429</td>\n",
       "      <td>0.016046</td>\n",
       "      <td>9</td>\n",
       "    </tr>\n",
       "    <tr>\n",
       "      <th>1</th>\n",
       "      <td>10.565395</td>\n",
       "      <td>1.732574</td>\n",
       "      <td>0.528603</td>\n",
       "      <td>0.055957</td>\n",
       "      <td>3</td>\n",
       "      <td>64</td>\n",
       "      <td>{'kernel_size': 3, 'num_filters': 64}</td>\n",
       "      <td>0.812857</td>\n",
       "      <td>0.814286</td>\n",
       "      <td>0.804286</td>\n",
       "      <td>0.822857</td>\n",
       "      <td>0.814286</td>\n",
       "      <td>0.813714</td>\n",
       "      <td>0.005897</td>\n",
       "      <td>3</td>\n",
       "    </tr>\n",
       "    <tr>\n",
       "      <th>2</th>\n",
       "      <td>13.943998</td>\n",
       "      <td>1.966088</td>\n",
       "      <td>0.569402</td>\n",
       "      <td>0.055117</td>\n",
       "      <td>3</td>\n",
       "      <td>128</td>\n",
       "      <td>{'kernel_size': 3, 'num_filters': 128}</td>\n",
       "      <td>0.828571</td>\n",
       "      <td>0.817143</td>\n",
       "      <td>0.802857</td>\n",
       "      <td>0.825714</td>\n",
       "      <td>0.825714</td>\n",
       "      <td>0.820000</td>\n",
       "      <td>0.009390</td>\n",
       "      <td>1</td>\n",
       "    </tr>\n",
       "    <tr>\n",
       "      <th>3</th>\n",
       "      <td>11.107489</td>\n",
       "      <td>0.996155</td>\n",
       "      <td>0.555201</td>\n",
       "      <td>0.057073</td>\n",
       "      <td>5</td>\n",
       "      <td>32</td>\n",
       "      <td>{'kernel_size': 5, 'num_filters': 32}</td>\n",
       "      <td>0.795714</td>\n",
       "      <td>0.797143</td>\n",
       "      <td>0.794286</td>\n",
       "      <td>0.802857</td>\n",
       "      <td>0.800000</td>\n",
       "      <td>0.798000</td>\n",
       "      <td>0.003077</td>\n",
       "      <td>8</td>\n",
       "    </tr>\n",
       "    <tr>\n",
       "      <th>4</th>\n",
       "      <td>13.598105</td>\n",
       "      <td>2.067557</td>\n",
       "      <td>0.546999</td>\n",
       "      <td>0.067733</td>\n",
       "      <td>5</td>\n",
       "      <td>64</td>\n",
       "      <td>{'kernel_size': 5, 'num_filters': 64}</td>\n",
       "      <td>0.807143</td>\n",
       "      <td>0.805714</td>\n",
       "      <td>0.797143</td>\n",
       "      <td>0.801429</td>\n",
       "      <td>0.820000</td>\n",
       "      <td>0.806286</td>\n",
       "      <td>0.007698</td>\n",
       "      <td>6</td>\n",
       "    </tr>\n",
       "    <tr>\n",
       "      <th>5</th>\n",
       "      <td>19.151925</td>\n",
       "      <td>2.910826</td>\n",
       "      <td>0.623937</td>\n",
       "      <td>0.185752</td>\n",
       "      <td>5</td>\n",
       "      <td>128</td>\n",
       "      <td>{'kernel_size': 5, 'num_filters': 128}</td>\n",
       "      <td>0.821429</td>\n",
       "      <td>0.817143</td>\n",
       "      <td>0.812857</td>\n",
       "      <td>0.815714</td>\n",
       "      <td>0.821429</td>\n",
       "      <td>0.817714</td>\n",
       "      <td>0.003332</td>\n",
       "      <td>2</td>\n",
       "    </tr>\n",
       "    <tr>\n",
       "      <th>6</th>\n",
       "      <td>14.254842</td>\n",
       "      <td>1.371457</td>\n",
       "      <td>0.483970</td>\n",
       "      <td>0.119997</td>\n",
       "      <td>7</td>\n",
       "      <td>32</td>\n",
       "      <td>{'kernel_size': 7, 'num_filters': 32}</td>\n",
       "      <td>0.805714</td>\n",
       "      <td>0.807143</td>\n",
       "      <td>0.774286</td>\n",
       "      <td>0.811429</td>\n",
       "      <td>0.795714</td>\n",
       "      <td>0.798857</td>\n",
       "      <td>0.013322</td>\n",
       "      <td>7</td>\n",
       "    </tr>\n",
       "    <tr>\n",
       "      <th>7</th>\n",
       "      <td>21.316492</td>\n",
       "      <td>0.225467</td>\n",
       "      <td>0.483736</td>\n",
       "      <td>0.015529</td>\n",
       "      <td>7</td>\n",
       "      <td>64</td>\n",
       "      <td>{'kernel_size': 7, 'num_filters': 64}</td>\n",
       "      <td>0.818571</td>\n",
       "      <td>0.804286</td>\n",
       "      <td>0.792857</td>\n",
       "      <td>0.822857</td>\n",
       "      <td>0.818571</td>\n",
       "      <td>0.811429</td>\n",
       "      <td>0.011212</td>\n",
       "      <td>5</td>\n",
       "    </tr>\n",
       "    <tr>\n",
       "      <th>8</th>\n",
       "      <td>27.499115</td>\n",
       "      <td>1.104443</td>\n",
       "      <td>0.546988</td>\n",
       "      <td>0.016912</td>\n",
       "      <td>7</td>\n",
       "      <td>128</td>\n",
       "      <td>{'kernel_size': 7, 'num_filters': 128}</td>\n",
       "      <td>0.815714</td>\n",
       "      <td>0.812857</td>\n",
       "      <td>0.808571</td>\n",
       "      <td>0.814286</td>\n",
       "      <td>0.812857</td>\n",
       "      <td>0.812857</td>\n",
       "      <td>0.002390</td>\n",
       "      <td>4</td>\n",
       "    </tr>\n",
       "  </tbody>\n",
       "</table>\n",
       "</div>"
      ],
      "text/plain": [
       "   mean_fit_time  std_fit_time  mean_score_time  std_score_time  \\\n",
       "0       8.399064      0.892032         0.536600        0.045889   \n",
       "1      10.565395      1.732574         0.528603        0.055957   \n",
       "2      13.943998      1.966088         0.569402        0.055117   \n",
       "3      11.107489      0.996155         0.555201        0.057073   \n",
       "4      13.598105      2.067557         0.546999        0.067733   \n",
       "5      19.151925      2.910826         0.623937        0.185752   \n",
       "6      14.254842      1.371457         0.483970        0.119997   \n",
       "7      21.316492      0.225467         0.483736        0.015529   \n",
       "8      27.499115      1.104443         0.546988        0.016912   \n",
       "\n",
       "  param_kernel_size param_num_filters                                  params  \\\n",
       "0                 3                32   {'kernel_size': 3, 'num_filters': 32}   \n",
       "1                 3                64   {'kernel_size': 3, 'num_filters': 64}   \n",
       "2                 3               128  {'kernel_size': 3, 'num_filters': 128}   \n",
       "3                 5                32   {'kernel_size': 5, 'num_filters': 32}   \n",
       "4                 5                64   {'kernel_size': 5, 'num_filters': 64}   \n",
       "5                 5               128  {'kernel_size': 5, 'num_filters': 128}   \n",
       "6                 7                32   {'kernel_size': 7, 'num_filters': 32}   \n",
       "7                 7                64   {'kernel_size': 7, 'num_filters': 64}   \n",
       "8                 7               128  {'kernel_size': 7, 'num_filters': 128}   \n",
       "\n",
       "   split0_test_score  split1_test_score  split2_test_score  split3_test_score  \\\n",
       "0           0.825714           0.784286           0.790000           0.804286   \n",
       "1           0.812857           0.814286           0.804286           0.822857   \n",
       "2           0.828571           0.817143           0.802857           0.825714   \n",
       "3           0.795714           0.797143           0.794286           0.802857   \n",
       "4           0.807143           0.805714           0.797143           0.801429   \n",
       "5           0.821429           0.817143           0.812857           0.815714   \n",
       "6           0.805714           0.807143           0.774286           0.811429   \n",
       "7           0.818571           0.804286           0.792857           0.822857   \n",
       "8           0.815714           0.812857           0.808571           0.814286   \n",
       "\n",
       "   split4_test_score  mean_test_score  std_test_score  rank_test_score  \n",
       "0           0.782857         0.797429        0.016046                9  \n",
       "1           0.814286         0.813714        0.005897                3  \n",
       "2           0.825714         0.820000        0.009390                1  \n",
       "3           0.800000         0.798000        0.003077                8  \n",
       "4           0.820000         0.806286        0.007698                6  \n",
       "5           0.821429         0.817714        0.003332                2  \n",
       "6           0.795714         0.798857        0.013322                7  \n",
       "7           0.818571         0.811429        0.011212                5  \n",
       "8           0.812857         0.812857        0.002390                4  "
      ]
     },
     "execution_count": 83,
     "metadata": {},
     "output_type": "execute_result"
    }
   ],
   "source": [
    "pd.DataFrame(gridSearch.cv_results_)"
   ]
  },
  {
   "cell_type": "code",
   "execution_count": 233,
   "id": "922c0648",
   "metadata": {},
   "outputs": [],
   "source": [
    "model = Sequential([\n",
    "    embedding_layer,\n",
    "    Conv1D(gridSearch.best_params_['num_filters'], gridSearch.best_params_['kernel_size'], activation='relu'),\n",
    "    GlobalMaxPooling1D(),\n",
    "    Dense(10, activation='relu'),\n",
    "    Dense(1, activation='sigmoid')])\n",
    "\n",
    "\n",
    "METRICS = [\n",
    "    tf.keras.metrics.BinaryAccuracy(name='accuracy'),\n",
    "    tf.keras.metrics.Precision(name='precision'),\n",
    "    tf.keras.metrics.Recall(name='recall'),\n",
    "]\n",
    "\n",
    "model.compile(optimizer='adam', loss='binary_crossentropy', metrics=[METRICS])"
   ]
  },
  {
   "cell_type": "code",
   "execution_count": 234,
   "id": "8313f222",
   "metadata": {},
   "outputs": [
    {
     "name": "stdout",
     "output_type": "stream",
     "text": [
      "Epoch 1/10\n",
      "110/110 [==============================] - 4s 28ms/step - loss: 0.5025 - accuracy: 0.7786 - precision: 0.7827 - recall: 0.9893 - val_loss: 0.4559 - val_accuracy: 0.8040 - val_precision: 0.8081 - val_recall: 0.9802\n",
      "Epoch 2/10\n",
      "110/110 [==============================] - 3s 24ms/step - loss: 0.3702 - accuracy: 0.8389 - precision: 0.8377 - recall: 0.9827 - val_loss: 0.4367 - val_accuracy: 0.8127 - val_precision: 0.8254 - val_recall: 0.9622\n",
      "Epoch 3/10\n",
      "110/110 [==============================] - 3s 24ms/step - loss: 0.2732 - accuracy: 0.8983 - precision: 0.9041 - recall: 0.9720 - val_loss: 0.4484 - val_accuracy: 0.8067 - val_precision: 0.8457 - val_recall: 0.9184\n",
      "Epoch 4/10\n",
      "110/110 [==============================] - 3s 25ms/step - loss: 0.1554 - accuracy: 0.9631 - precision: 0.9628 - recall: 0.9908 - val_loss: 0.4910 - val_accuracy: 0.8040 - val_precision: 0.8241 - val_recall: 0.9502\n",
      "Epoch 5/10\n",
      "110/110 [==============================] - 3s 26ms/step - loss: 0.0701 - accuracy: 0.9940 - precision: 0.9930 - recall: 0.9993 - val_loss: 0.5169 - val_accuracy: 0.8013 - val_precision: 0.8404 - val_recall: 0.9184\n",
      "Epoch 6/10\n",
      "110/110 [==============================] - 3s 25ms/step - loss: 0.0263 - accuracy: 0.9991 - precision: 0.9989 - recall: 1.0000 - val_loss: 0.5602 - val_accuracy: 0.7987 - val_precision: 0.8410 - val_recall: 0.9132\n",
      "Epoch 7/10\n",
      "110/110 [==============================] - 3s 27ms/step - loss: 0.0120 - accuracy: 1.0000 - precision: 1.0000 - recall: 1.0000 - val_loss: 0.6009 - val_accuracy: 0.8027 - val_precision: 0.8391 - val_recall: 0.9227\n",
      "Epoch 8/10\n",
      "110/110 [==============================] - 3s 24ms/step - loss: 0.0069 - accuracy: 1.0000 - precision: 1.0000 - recall: 1.0000 - val_loss: 0.6231 - val_accuracy: 0.8013 - val_precision: 0.8426 - val_recall: 0.9149\n",
      "Epoch 9/10\n",
      "110/110 [==============================] - 3s 25ms/step - loss: 0.0047 - accuracy: 1.0000 - precision: 1.0000 - recall: 1.0000 - val_loss: 0.6857 - val_accuracy: 0.8093 - val_precision: 0.8356 - val_recall: 0.9390\n",
      "Epoch 10/10\n",
      "110/110 [==============================] - 3s 26ms/step - loss: 0.0034 - accuracy: 1.0000 - precision: 1.0000 - recall: 1.0000 - val_loss: 0.6710 - val_accuracy: 0.8027 - val_precision: 0.8417 - val_recall: 0.9184\n"
     ]
    }
   ],
   "source": [
    "history = model.fit(padded_train,\n",
    "          y_train,\n",
    "          batch_size = 32,          \n",
    "          epochs=10,\n",
    "          validation_data=(padded_test, y_test))"
   ]
  },
  {
   "cell_type": "code",
   "execution_count": 86,
   "id": "927de391",
   "metadata": {},
   "outputs": [
    {
     "name": "stdout",
     "output_type": "stream",
     "text": [
      "47/47 [==============================] - 0s 5ms/step - loss: 0.3916 - accuracy: 0.8327 - precision: 0.8649 - recall: 0.9296\n",
      "Acurácia:  0.8326666951179504\n",
      "Precisão:  0.8649080991744995\n",
      "F1-Score:  0.8960662690094189\n",
      "Recall:  0.9295532703399658\n"
     ]
    }
   ],
   "source": [
    "loss, accuracy, precision, recall = model.evaluate(padded_test, y_test)\n",
    "\n",
    "f1 = 2 * (precision * recall) / (precision + recall)\n",
    "\n",
    "print(\"Acurácia: \", accuracy)\n",
    "\n",
    "print(\"Precisão: \", precision)\n",
    "print(\"F1-Score: \", f1)\n",
    "print(\"Recall: \", recall)"
   ]
  },
  {
   "cell_type": "markdown",
   "id": "cefe4d7a",
   "metadata": {},
   "source": [
    "## Com Stemming:"
   ]
  },
  {
   "cell_type": "code",
   "execution_count": 87,
   "id": "2fb80a74",
   "metadata": {},
   "outputs": [
    {
     "name": "stdout",
     "output_type": "stream",
     "text": [
      "(3500, 7) (1500, 7)\n"
     ]
    }
   ],
   "source": [
    "df_train, df_test = train_test_split(df, test_size = 0.30, random_state = 42, stratify=df[\"Review\"])\n",
    "\n",
    "print(df_train.shape, df_test.shape)"
   ]
  },
  {
   "cell_type": "code",
   "execution_count": 121,
   "id": "f7f37dcc",
   "metadata": {},
   "outputs": [
    {
     "name": "stdout",
     "output_type": "stream",
     "text": [
      "Tamanho do Vocabulário:  4409\n",
      "Comprimento da maior sequência:  462\n"
     ]
    }
   ],
   "source": [
    "X_train = df_train[\"Stemmer\"]\n",
    "y_train = df_train[\"Review\"]\n",
    "\n",
    "X_test = df_test[\"Stemmer\"]\n",
    "y_test = df_test[\"Review\"]\n",
    "\n",
    "\n",
    "tokenizer = Tokenizer(oov_token=\"<OOV>\")\n",
    "tokenizer.fit_on_texts(X_train)\n",
    "\n",
    "# Determina o tamanho do vocabulário\n",
    "word_index = tokenizer.word_index\n",
    "vocab = len(word_index) + 1\n",
    "print(\"Tamanho do Vocabulário: \", vocab)\n",
    "\n",
    "sequences_train = tokenizer.texts_to_sequences(X_train)\n",
    "\n",
    "# Identificando o comprimento da maior sequência do conjunto de treinamento\n",
    "names = [len(n) for n in sequences_train]\n",
    "print(\"Comprimento da maior sequência: \", max(names))"
   ]
  },
  {
   "cell_type": "markdown",
   "id": "4f1e5816",
   "metadata": {},
   "source": [
    "Como as mensagens (texto) no conjunto de dados são de tamanho variável, usaremos o preenchimento para fazer com que todas as mensagens tenham o mesmo tamanho. Podemos usar o comprimento máximo da sequência para preencher as mensagens. No entanto, também podemos dar uma olhada na distribuição dos comprimentos de sequência no conjunto de treino para encontrar o comprimento de preenchimento correto."
   ]
  },
  {
   "cell_type": "code",
   "execution_count": 89,
   "id": "800c2c03",
   "metadata": {},
   "outputs": [
    {
     "data": {
      "image/png": "[encoded data removed]",
      "text/plain": [
       "<Figure size 1296x432 with 1 Axes>"
      ]
     },
     "metadata": {
      "needs_background": "light"
     },
     "output_type": "display_data"
    }
   ],
   "source": [
    "# Identificando a frêquencia dos comprimentos das sequências de treinamento\n",
    "plt.figure(figsize=(18,6))\n",
    "plt.hist(names, bins = 100)\n",
    "x_ticks = np.arange(0, 500, 20)\n",
    "plt.xticks(x_ticks)\n",
    "plt.show()"
   ]
  },
  {
   "cell_type": "markdown",
   "id": "86b0d458",
   "metadata": {},
   "source": [
    "Podemos ver claramente que a maioria das mensagens tem um comprimento de 60 palavras ou menos. Considerando que o comprimento máximo é 480. Portanto, se selecionarmos 480 como o comprimento de preenchimento, todas as sequências de entrada terão comprimento 480 e a maioria dos tokens nessas sequências serão tokens de preenchimento que não ajudarão o modelo a aprender nada útil e além disso, tornará o treinamento mais lento.\n",
    "\n",
    "Portanto, definiremos 60 como o comprimento do preenchimento."
   ]
  },
  {
   "cell_type": "markdown",
   "id": "f66383da",
   "metadata": {},
   "source": [
    "## Padding:"
   ]
  },
  {
   "cell_type": "code",
   "execution_count": 122,
   "id": "594c29c4",
   "metadata": {},
   "outputs": [],
   "source": [
    "max_length = 60\n",
    "\n",
    "padded_train = pad_sequences(sequences_train, maxlen=max_length, padding='post', truncating='post')\n",
    "\n",
    "sequences_test = tokenizer.texts_to_sequences(X_test)\n",
    "padded_test = pad_sequences(sequences_test, maxlen=max_length, padding='post', truncating='post')"
   ]
  },
  {
   "cell_type": "markdown",
   "id": "48c71b77",
   "metadata": {},
   "source": [
    "### Sem Word Embeddings Pré-Treinado:"
   ]
  },
  {
   "cell_type": "code",
   "execution_count": 123,
   "id": "d5583429",
   "metadata": {},
   "outputs": [
    {
     "name": "stdout",
     "output_type": "stream",
     "text": [
      "Model: \"sequential_195\"\n",
      "_________________________________________________________________\n",
      " Layer (type)                Output Shape              Param #   \n",
      "=================================================================\n",
      " embedding_102 (Embedding)   (None, 60, 16)            70544     \n",
      "                                                                 \n",
      " dropout_5 (Dropout)         (None, 60, 16)            0         \n",
      "                                                                 \n",
      " lstm_5 (LSTM)               (None, 128)               74240     \n",
      "                                                                 \n",
      " dense_385 (Dense)           (None, 1)                 129       \n",
      "                                                                 \n",
      "=================================================================\n",
      "Total params: 144,913\n",
      "Trainable params: 144,913\n",
      "Non-trainable params: 0\n",
      "_________________________________________________________________\n"
     ]
    }
   ],
   "source": [
    "embedding = 16\n",
    "\n",
    "model = keras.Sequential()\n",
    "model.add(keras.layers.Embedding(vocab, embedding, input_length=max_length))\n",
    "model.add(keras.layers.Dropout(0.5))\n",
    "model.add(keras.layers.LSTM(128))\n",
    "model.add(keras.layers.Dense(1, activation='sigmoid'))\n",
    "\n",
    "model.summary()"
   ]
  },
  {
   "cell_type": "code",
   "execution_count": 124,
   "id": "0483e9bc",
   "metadata": {},
   "outputs": [],
   "source": [
    "METRICS = [\n",
    "    tf.keras.metrics.BinaryAccuracy(name='accuracy'),\n",
    "    tf.keras.metrics.Precision(name='precision'),\n",
    "    tf.keras.metrics.Recall(name='recall'),\n",
    "]\n",
    "\n",
    "model.compile(optimizer='adam', loss='binary_crossentropy', metrics=[METRICS])"
   ]
  },
  {
   "cell_type": "code",
   "execution_count": 125,
   "id": "75c8ac50",
   "metadata": {},
   "outputs": [
    {
     "name": "stdout",
     "output_type": "stream",
     "text": [
      "Epoch 1/10\n",
      "110/110 [==============================] - 12s 90ms/step - loss: 0.5456 - accuracy: 0.7757 - precision: 0.7759 - recall: 0.9996 - val_loss: 0.5288 - val_accuracy: 0.7760 - val_precision: 0.7760 - val_recall: 1.0000\n",
      "Epoch 2/10\n",
      "110/110 [==============================] - 9s 84ms/step - loss: 0.4902 - accuracy: 0.7886 - precision: 0.8003 - recall: 0.9694 - val_loss: 0.4106 - val_accuracy: 0.8440 - val_precision: 0.8661 - val_recall: 0.9450\n",
      "Epoch 3/10\n",
      "110/110 [==============================] - 9s 85ms/step - loss: 0.3907 - accuracy: 0.8489 - precision: 0.8728 - recall: 0.9426 - val_loss: 0.3924 - val_accuracy: 0.8413 - val_precision: 0.8640 - val_recall: 0.9442\n",
      "Epoch 4/10\n",
      "110/110 [==============================] - 9s 86ms/step - loss: 0.3234 - accuracy: 0.8806 - precision: 0.8995 - recall: 0.9525 - val_loss: 0.4462 - val_accuracy: 0.8213 - val_precision: 0.8816 - val_recall: 0.8892\n",
      "Epoch 5/10\n",
      "110/110 [==============================] - 9s 85ms/step - loss: 0.2839 - accuracy: 0.8966 - precision: 0.9130 - recall: 0.9580 - val_loss: 0.4129 - val_accuracy: 0.8180 - val_precision: 0.9003 - val_recall: 0.8608\n",
      "Epoch 6/10\n",
      "110/110 [==============================] - 9s 85ms/step - loss: 0.2700 - accuracy: 0.9066 - precision: 0.9240 - recall: 0.9584 - val_loss: 0.4583 - val_accuracy: 0.8320 - val_precision: 0.8562 - val_recall: 0.9416\n",
      "Epoch 7/10\n",
      "110/110 [==============================] - 9s 85ms/step - loss: 0.2294 - accuracy: 0.9209 - precision: 0.9311 - recall: 0.9698 - val_loss: 0.4479 - val_accuracy: 0.8260 - val_precision: 0.8621 - val_recall: 0.9235\n",
      "Epoch 8/10\n",
      "110/110 [==============================] - 9s 85ms/step - loss: 0.2108 - accuracy: 0.9277 - precision: 0.9387 - recall: 0.9702 - val_loss: 0.4766 - val_accuracy: 0.8200 - val_precision: 0.8860 - val_recall: 0.8814\n",
      "Epoch 9/10\n",
      "110/110 [==============================] - 9s 85ms/step - loss: 0.1898 - accuracy: 0.9409 - precision: 0.9498 - recall: 0.9753 - val_loss: 0.5305 - val_accuracy: 0.8153 - val_precision: 0.8462 - val_recall: 0.9313\n",
      "Epoch 10/10\n",
      "110/110 [==============================] - 8s 76ms/step - loss: 0.1857 - accuracy: 0.9440 - precision: 0.9487 - recall: 0.9809 - val_loss: 0.5479 - val_accuracy: 0.8173 - val_precision: 0.8733 - val_recall: 0.8943\n"
     ]
    }
   ],
   "source": [
    "history = model.fit(padded_train,\n",
    "          y_train,\n",
    "          epochs=10,\n",
    "          batch_size=32,\n",
    "          validation_data=(padded_test, y_test))"
   ]
  },
  {
   "cell_type": "code",
   "execution_count": 126,
   "id": "1ffc8e26",
   "metadata": {},
   "outputs": [
    {
     "name": "stdout",
     "output_type": "stream",
     "text": [
      "47/47 [==============================] - 2s 35ms/step - loss: 0.5479 - accuracy: 0.8173 - precision: 0.8733 - recall: 0.8943\n",
      "Acurácia:  0.8173333406448364\n",
      "Precisão:  0.8733221292495728\n",
      "F1-Score:  0.883701183234033\n",
      "Recall:  0.8943299055099487\n"
     ]
    }
   ],
   "source": [
    "loss, accuracy, precision, recall = model.evaluate(padded_test, y_test)\n",
    "\n",
    "f1 = 2 * (precision * recall) / (precision + recall)\n",
    "\n",
    "print(\"Acurácia: \", accuracy)\n",
    "\n",
    "print(\"Precisão: \", precision)\n",
    "print(\"F1-Score: \", f1)\n",
    "print(\"Recall: \", recall)"
   ]
  },
  {
   "cell_type": "markdown",
   "id": "bf614146",
   "metadata": {},
   "source": [
    "## Criação dos Word Embeddings:"
   ]
  },
  {
   "cell_type": "code",
   "execution_count": 127,
   "id": "591a9c94",
   "metadata": {},
   "outputs": [
    {
     "name": "stdout",
     "output_type": "stream",
     "text": [
      "Foram encontrados 929594 vetores de palavras.\n"
     ]
    }
   ],
   "source": [
    "def is_float(s):\n",
    "    try:\n",
    "        float(s)\n",
    "        return True\n",
    "    except ValueError:\n",
    "        return False\n",
    "\n",
    "\n",
    "embeddings_index = {}\n",
    "\n",
    "f = open('glove_s100.txt', encoding=\"utf8\")\n",
    "for line in f:\n",
    "    values = line.split()\n",
    "    word = values[0]\n",
    "    \n",
    "    coefs = []\n",
    "    for coef in values[1:]:\n",
    "        if (is_float(coef)):\n",
    "            coefs.append(coef)\n",
    "    \n",
    "    coefs = np.asarray(coefs, dtype='float32')\n",
    "    embeddings_index[word] = coefs\n",
    "f.close()\n",
    "\n",
    "print('Foram encontrados %s vetores de palavras.' % len(embeddings_index))"
   ]
  },
  {
   "cell_type": "code",
   "execution_count": 128,
   "id": "454cd9c5",
   "metadata": {},
   "outputs": [],
   "source": [
    "# criação da matriz de embeddings\n",
    "embedding_matrix = np.zeros((vocab, 100))\n",
    "\n",
    "\n",
    "for word, i in word_index.items():\n",
    "    embedding_vector = embeddings_index.get(word)\n",
    "    if embedding_vector is not None:\n",
    "        # words not found in embedding index will be all-zeros.\n",
    "        embedding_matrix[i] = embedding_vector[:100]"
   ]
  },
  {
   "cell_type": "code",
   "execution_count": 129,
   "id": "c24c0b56",
   "metadata": {},
   "outputs": [
    {
     "data": {
      "text/plain": [
       "array([[0., 0., 0., ..., 0., 0., 0.],\n",
       "       [0., 0., 0., ..., 0., 0., 0.],\n",
       "       [0., 0., 0., ..., 0., 0., 0.],\n",
       "       ...,\n",
       "       [0., 0., 0., ..., 0., 0., 0.],\n",
       "       [0., 0., 0., ..., 0., 0., 0.],\n",
       "       [0., 0., 0., ..., 0., 0., 0.]])"
      ]
     },
     "execution_count": 129,
     "metadata": {},
     "output_type": "execute_result"
    }
   ],
   "source": [
    "embedding_matrix"
   ]
  },
  {
   "cell_type": "markdown",
   "id": "dcbbd872",
   "metadata": {},
   "source": [
    "## Criando a Camada de Embbeding:"
   ]
  },
  {
   "cell_type": "code",
   "execution_count": 130,
   "id": "49142462",
   "metadata": {},
   "outputs": [],
   "source": [
    "#Camada responsável para interpretar cada palavra para um embbeding:\n",
    "import tensorflow\n",
    "from tensorflow.keras.layers import Embedding\n",
    "\n",
    "embedding_layer = Embedding(input_dim=vocab,\n",
    "                            output_dim=100,\n",
    "                            weights=[embedding_matrix],\n",
    "                            input_length=max_length,\n",
    "                            trainable=False) "
   ]
  },
  {
   "cell_type": "code",
   "execution_count": 131,
   "id": "8855472b",
   "metadata": {},
   "outputs": [],
   "source": [
    "from tensorflow.keras import *\n",
    "from tensorflow.keras.layers import *\n",
    "\n",
    "model = Sequential([\n",
    "    embedding_layer,\n",
    "    Conv1D(128, 5, activation='relu'),\n",
    "    GlobalMaxPooling1D(),\n",
    "    Dense(10, activation='relu'),\n",
    "    Dense(1, activation='sigmoid')\n",
    "])"
   ]
  },
  {
   "cell_type": "code",
   "execution_count": 133,
   "id": "b1c44738",
   "metadata": {},
   "outputs": [],
   "source": [
    "METRICS = [\n",
    "    tf.keras.metrics.BinaryAccuracy(name='accuracy'),\n",
    "    tf.keras.metrics.Precision(name='precision'),\n",
    "    tf.keras.metrics.Recall(name='recall'),\n",
    "]\n",
    "\n",
    "model.compile(optimizer='adam', loss='binary_crossentropy', metrics=[METRICS])"
   ]
  },
  {
   "cell_type": "code",
   "execution_count": 135,
   "id": "6768073f",
   "metadata": {},
   "outputs": [
    {
     "name": "stdout",
     "output_type": "stream",
     "text": [
      "Epoch 1/10\n",
      "110/110 [==============================] - 3s 26ms/step - loss: 0.0577 - accuracy: 0.9971 - precision: 0.9963 - recall: 1.0000 - val_loss: 0.5095 - val_accuracy: 0.8100 - val_precision: 0.8347 - val_recall: 0.9416\n",
      "Epoch 2/10\n",
      "110/110 [==============================] - 3s 26ms/step - loss: 0.0252 - accuracy: 1.0000 - precision: 1.0000 - recall: 1.0000 - val_loss: 0.5896 - val_accuracy: 0.8160 - val_precision: 0.8284 - val_recall: 0.9622\n",
      "Epoch 3/10\n",
      "110/110 [==============================] - 3s 26ms/step - loss: 0.0113 - accuracy: 1.0000 - precision: 1.0000 - recall: 1.0000 - val_loss: 0.6147 - val_accuracy: 0.8140 - val_precision: 0.8340 - val_recall: 0.9493\n",
      "Epoch 4/10\n",
      "110/110 [==============================] - 3s 26ms/step - loss: 0.0061 - accuracy: 1.0000 - precision: 1.0000 - recall: 1.0000 - val_loss: 0.6292 - val_accuracy: 0.8140 - val_precision: 0.8360 - val_recall: 0.9459\n",
      "Epoch 5/10\n",
      "110/110 [==============================] - 3s 26ms/step - loss: 0.0040 - accuracy: 1.0000 - precision: 1.0000 - recall: 1.0000 - val_loss: 0.6504 - val_accuracy: 0.8167 - val_precision: 0.8380 - val_recall: 0.9467\n",
      "Epoch 6/10\n",
      "110/110 [==============================] - 3s 26ms/step - loss: 0.0029 - accuracy: 1.0000 - precision: 1.0000 - recall: 1.0000 - val_loss: 0.6853 - val_accuracy: 0.8133 - val_precision: 0.8343 - val_recall: 0.9476\n",
      "Epoch 7/10\n",
      "110/110 [==============================] - 3s 26ms/step - loss: 0.0022 - accuracy: 1.0000 - precision: 1.0000 - recall: 1.0000 - val_loss: 0.7083 - val_accuracy: 0.8147 - val_precision: 0.8346 - val_recall: 0.9493\n",
      "Epoch 8/10\n",
      "110/110 [==============================] - 3s 26ms/step - loss: 0.0018 - accuracy: 1.0000 - precision: 1.0000 - recall: 1.0000 - val_loss: 0.7241 - val_accuracy: 0.8153 - val_precision: 0.8362 - val_recall: 0.9476\n",
      "Epoch 9/10\n",
      "110/110 [==============================] - 3s 26ms/step - loss: 0.0014 - accuracy: 1.0000 - precision: 1.0000 - recall: 1.0000 - val_loss: 0.7207 - val_accuracy: 0.8120 - val_precision: 0.8366 - val_recall: 0.9416\n",
      "Epoch 10/10\n",
      "110/110 [==============================] - 3s 26ms/step - loss: 0.0012 - accuracy: 1.0000 - precision: 1.0000 - recall: 1.0000 - val_loss: 0.7423 - val_accuracy: 0.8147 - val_precision: 0.8366 - val_recall: 0.9459\n"
     ]
    }
   ],
   "source": [
    "history = model.fit(padded_train,\n",
    "          y_train,\n",
    "          epochs=10,\n",
    "          batch_size=32,\n",
    "          validation_data=(padded_test, y_test))"
   ]
  },
  {
   "cell_type": "code",
   "execution_count": 136,
   "id": "1e281f61",
   "metadata": {},
   "outputs": [
    {
     "name": "stdout",
     "output_type": "stream",
     "text": [
      "47/47 [==============================] - 0s 9ms/step - loss: 0.7423 - accuracy: 0.8147 - precision: 0.8366 - recall: 0.9459\n",
      "Acurácia:  0.8146666884422302\n",
      "Precisão:  0.8366261124610901\n",
      "F1-Score:  0.8879032155440323\n",
      "Recall:  0.9458763003349304\n"
     ]
    }
   ],
   "source": [
    "loss, accuracy, precision, recall = model.evaluate(padded_test, y_test)\n",
    "\n",
    "f1 = 2 * (precision * recall) / (precision + recall)\n",
    "\n",
    "print(\"Acurácia: \", accuracy)\n",
    "\n",
    "print(\"Precisão: \", precision)\n",
    "print(\"F1-Score: \", f1)\n",
    "print(\"Recall: \", recall)"
   ]
  },
  {
   "cell_type": "markdown",
   "id": "638ece28",
   "metadata": {},
   "source": [
    "## Ajuste de Paramêtros sem Word Embeddings Pré-treinado:"
   ]
  },
  {
   "cell_type": "code",
   "execution_count": 137,
   "id": "b1d4802b",
   "metadata": {},
   "outputs": [],
   "source": [
    "def model_to_optimize(num_filters, kernel_size):\n",
    "    model = Sequential([\n",
    "      Embedding(vocab, embedding, input_length=max_length),\n",
    "      Conv1D(num_filters, kernel_size, activation='relu'),\n",
    "      GlobalMaxPooling1D(),\n",
    "      Dense(10, activation='relu'),\n",
    "      Dense(1, activation='sigmoid')])\n",
    "    \n",
    "    METRICS = [\n",
    "        tf.keras.metrics.BinaryAccuracy(name='accuracy'),\n",
    "        tf.keras.metrics.Precision(name='precision'),\n",
    "        tf.keras.metrics.Recall(name='recall'),\n",
    "    ]\n",
    "\n",
    "    model.compile(optimizer='adam', loss='binary_crossentropy', metrics=[METRICS])\n",
    "\n",
    "    return model"
   ]
  },
  {
   "cell_type": "code",
   "execution_count": 138,
   "id": "8bd72671",
   "metadata": {},
   "outputs": [],
   "source": [
    "num_filters = [32, 64, 128]\n",
    "kernel_size = [3, 5, 7]\n",
    "\n",
    "params = {\n",
    "    \"num_filters\": num_filters,\n",
    "    \"kernel_size\": kernel_size,\n",
    "}\n"
   ]
  },
  {
   "cell_type": "code",
   "execution_count": 140,
   "id": "66d3f47b",
   "metadata": {},
   "outputs": [],
   "source": [
    "from tensorflow.keras.wrappers.scikit_learn import KerasClassifier\n",
    "model = KerasClassifier(build_fn=model_to_optimize,\n",
    "                        epochs=10,\n",
    "                        batch_size=10,\n",
    "                        verbose=False\n",
    ")"
   ]
  },
  {
   "cell_type": "code",
   "execution_count": 141,
   "id": "f37a8818",
   "metadata": {},
   "outputs": [
    {
     "name": "stdout",
     "output_type": "stream",
     "text": [
      "Fitting 5 folds for each of 9 candidates, totalling 45 fits\n"
     ]
    }
   ],
   "source": [
    "#Realizando o GridSearch:\n",
    "from sklearn.model_selection import GridSearchCV\n",
    "gridSearch = GridSearchCV(estimator=model, param_grid=params,\n",
    "                              cv=5, verbose=1)\n",
    "search_result = gridSearch.fit(padded_train, y_train)"
   ]
  },
  {
   "cell_type": "code",
   "execution_count": 142,
   "id": "874b2dde",
   "metadata": {},
   "outputs": [
    {
     "name": "stdout",
     "output_type": "stream",
     "text": [
      "0.809333324432373\n"
     ]
    },
    {
     "data": {
      "text/plain": [
       "{'kernel_size': 3, 'num_filters': 32}"
      ]
     },
     "execution_count": 142,
     "metadata": {},
     "output_type": "execute_result"
    }
   ],
   "source": [
    "#Descobrindo a acurácia de teste:\n",
    "test_accuracy = gridSearch.score(padded_test, y_test)\n",
    "print(test_accuracy)\n",
    "#Melhores parâmetros\n",
    "gridSearch.best_params_"
   ]
  },
  {
   "cell_type": "code",
   "execution_count": 143,
   "id": "ce5af8cb",
   "metadata": {},
   "outputs": [],
   "source": [
    "model = Sequential([\n",
    "    Embedding(vocab, embedding, input_length=max_length),\n",
    "    Conv1D(gridSearch.best_params_['num_filters'], gridSearch.best_params_['kernel_size'], activation='relu'),\n",
    "    GlobalMaxPooling1D(),\n",
    "    Dense(10, activation='relu'),\n",
    "    Dense(1, activation='sigmoid')])\n",
    "\n",
    "\n",
    "METRICS = [\n",
    "    tf.keras.metrics.BinaryAccuracy(name='accuracy'),\n",
    "    tf.keras.metrics.Precision(name='precision'),\n",
    "    tf.keras.metrics.Recall(name='recall'),\n",
    "]\n",
    "\n",
    "model.compile(optimizer='adam', loss='binary_crossentropy', metrics=[METRICS])"
   ]
  },
  {
   "cell_type": "code",
   "execution_count": 144,
   "id": "b5d9698b",
   "metadata": {},
   "outputs": [
    {
     "name": "stdout",
     "output_type": "stream",
     "text": [
      "Epoch 1/5\n",
      "110/110 [==============================] - 2s 8ms/step - loss: 0.5478 - accuracy: 0.7760 - precision: 0.7760 - recall: 1.0000 - val_loss: 0.5103 - val_accuracy: 0.7760 - val_precision: 0.7760 - val_recall: 1.0000\n",
      "Epoch 2/5\n",
      "110/110 [==============================] - 1s 5ms/step - loss: 0.4886 - accuracy: 0.7760 - precision: 0.7760 - recall: 1.0000 - val_loss: 0.4751 - val_accuracy: 0.7760 - val_precision: 0.7760 - val_recall: 1.0000\n",
      "Epoch 3/5\n",
      "110/110 [==============================] - 1s 5ms/step - loss: 0.4216 - accuracy: 0.8011 - precision: 0.7988 - recall: 0.9941 - val_loss: 0.4246 - val_accuracy: 0.8080 - val_precision: 0.8059 - val_recall: 0.9914\n",
      "Epoch 4/5\n",
      "110/110 [==============================] - 1s 5ms/step - loss: 0.3341 - accuracy: 0.8666 - precision: 0.8674 - recall: 0.9775 - val_loss: 0.3935 - val_accuracy: 0.8340 - val_precision: 0.8555 - val_recall: 0.9459\n",
      "Epoch 5/5\n",
      "110/110 [==============================] - 1s 6ms/step - loss: 0.2513 - accuracy: 0.9074 - precision: 0.9110 - recall: 0.9761 - val_loss: 0.3958 - val_accuracy: 0.8247 - val_precision: 0.8618 - val_recall: 0.9218\n"
     ]
    }
   ],
   "source": [
    "history = model.fit(padded_train,\n",
    "          y_train,\n",
    "          epochs=5,\n",
    "          validation_data=(padded_test, y_test))"
   ]
  },
  {
   "cell_type": "code",
   "execution_count": 145,
   "id": "014a0851",
   "metadata": {},
   "outputs": [
    {
     "name": "stdout",
     "output_type": "stream",
     "text": [
      "47/47 [==============================] - 0s 2ms/step - loss: 0.3958 - accuracy: 0.8247 - precision: 0.8618 - recall: 0.9218\n",
      "Acurácia:  0.8246666789054871\n",
      "Precisão:  0.8618474006652832\n",
      "F1-Score:  0.8908260703463443\n",
      "Recall:  0.9218212962150574\n"
     ]
    }
   ],
   "source": [
    "loss, accuracy, precision, recall = model.evaluate(padded_test, y_test)\n",
    "\n",
    "f1 = 2 * (precision * recall) / (precision + recall)\n",
    "\n",
    "print(\"Acurácia: \", accuracy)\n",
    "\n",
    "print(\"Precisão: \", precision)\n",
    "print(\"F1-Score: \", f1)\n",
    "print(\"Recall: \", recall)"
   ]
  },
  {
   "cell_type": "markdown",
   "id": "42fba95c",
   "metadata": {},
   "source": [
    "## Ajuste de Paramêtros com Word Embeddings Pré-treinado:"
   ]
  },
  {
   "cell_type": "code",
   "execution_count": 146,
   "id": "df382ced",
   "metadata": {},
   "outputs": [],
   "source": [
    "def model_to_optimize(num_filters, kernel_size):\n",
    "    model = Sequential([\n",
    "      embedding_layer,\n",
    "      Conv1D(num_filters, kernel_size, activation='relu'),\n",
    "      GlobalMaxPooling1D(),\n",
    "      Dense(10, activation='relu'),\n",
    "      Dense(1, activation='sigmoid')])\n",
    "    \n",
    "    METRICS = [\n",
    "        tf.keras.metrics.BinaryAccuracy(name='accuracy'),\n",
    "        tf.keras.metrics.Precision(name='precision'),\n",
    "        tf.keras.metrics.Recall(name='recall'),\n",
    "    ]\n",
    "\n",
    "    model.compile(optimizer='adam', loss='binary_crossentropy', metrics=[METRICS])\n",
    "\n",
    "    return model"
   ]
  },
  {
   "cell_type": "code",
   "execution_count": 147,
   "id": "f25fc6ae",
   "metadata": {},
   "outputs": [],
   "source": [
    "num_filters = [32, 64, 128]\n",
    "kernel_size = [3, 5, 7]\n",
    "\n",
    "params = {\n",
    "    \"num_filters\": num_filters,\n",
    "    \"kernel_size\": kernel_size,\n",
    "}\n"
   ]
  },
  {
   "cell_type": "code",
   "execution_count": 157,
   "id": "cc665d51",
   "metadata": {},
   "outputs": [],
   "source": [
    "from tensorflow.keras.wrappers.scikit_learn import KerasClassifier\n",
    "model = KerasClassifier(build_fn=model_to_optimize,\n",
    "                        epochs=10,\n",
    "                        batch_size=32,\n",
    "                        verbose=False\n",
    ")"
   ]
  },
  {
   "cell_type": "code",
   "execution_count": 158,
   "id": "7ea2dae5",
   "metadata": {},
   "outputs": [
    {
     "name": "stdout",
     "output_type": "stream",
     "text": [
      "Fitting 5 folds for each of 9 candidates, totalling 45 fits\n"
     ]
    }
   ],
   "source": [
    "#Realizando o GridSearch:\n",
    "from sklearn.model_selection import GridSearchCV\n",
    "gridSearch = GridSearchCV(estimator=model, param_grid=params,\n",
    "                              cv=5, verbose=1)\n",
    "search_result = gridSearch.fit(padded_train, y_train)"
   ]
  },
  {
   "cell_type": "code",
   "execution_count": 159,
   "id": "589d5b11",
   "metadata": {},
   "outputs": [
    {
     "name": "stdout",
     "output_type": "stream",
     "text": [
      "0.8046666383743286\n"
     ]
    },
    {
     "data": {
      "text/plain": [
       "{'kernel_size': 7, 'num_filters': 128}"
      ]
     },
     "execution_count": 159,
     "metadata": {},
     "output_type": "execute_result"
    }
   ],
   "source": [
    "#Descobrindo a acurácia de teste:\n",
    "test_accuracy = gridSearch.score(padded_test, y_test)\n",
    "print(test_accuracy)\n",
    "#Melhores parâmetros\n",
    "gridSearch.best_params_"
   ]
  },
  {
   "cell_type": "code",
   "execution_count": 160,
   "id": "b79be471",
   "metadata": {},
   "outputs": [
    {
     "data": {
      "text/html": [
       "<div>\n",
       "<style scoped>\n",
       "    .dataframe tbody tr th:only-of-type {\n",
       "        vertical-align: middle;\n",
       "    }\n",
       "\n",
       "    .dataframe tbody tr th {\n",
       "        vertical-align: top;\n",
       "    }\n",
       "\n",
       "    .dataframe thead th {\n",
       "        text-align: right;\n",
       "    }\n",
       "</style>\n",
       "<table border=\"1\" class=\"dataframe\">\n",
       "  <thead>\n",
       "    <tr style=\"text-align: right;\">\n",
       "      <th></th>\n",
       "      <th>mean_fit_time</th>\n",
       "      <th>std_fit_time</th>\n",
       "      <th>mean_score_time</th>\n",
       "      <th>std_score_time</th>\n",
       "      <th>param_kernel_size</th>\n",
       "      <th>param_num_filters</th>\n",
       "      <th>params</th>\n",
       "      <th>split0_test_score</th>\n",
       "      <th>split1_test_score</th>\n",
       "      <th>split2_test_score</th>\n",
       "      <th>split3_test_score</th>\n",
       "      <th>split4_test_score</th>\n",
       "      <th>mean_test_score</th>\n",
       "      <th>std_test_score</th>\n",
       "      <th>rank_test_score</th>\n",
       "    </tr>\n",
       "  </thead>\n",
       "  <tbody>\n",
       "    <tr>\n",
       "      <th>0</th>\n",
       "      <td>6.531836</td>\n",
       "      <td>0.711607</td>\n",
       "      <td>0.328754</td>\n",
       "      <td>0.017909</td>\n",
       "      <td>3</td>\n",
       "      <td>32</td>\n",
       "      <td>{'kernel_size': 3, 'num_filters': 32}</td>\n",
       "      <td>0.784286</td>\n",
       "      <td>0.790000</td>\n",
       "      <td>0.777143</td>\n",
       "      <td>0.772857</td>\n",
       "      <td>0.771429</td>\n",
       "      <td>0.779143</td>\n",
       "      <td>0.007033</td>\n",
       "      <td>8</td>\n",
       "    </tr>\n",
       "    <tr>\n",
       "      <th>1</th>\n",
       "      <td>8.828713</td>\n",
       "      <td>0.934888</td>\n",
       "      <td>0.325986</td>\n",
       "      <td>0.006449</td>\n",
       "      <td>3</td>\n",
       "      <td>64</td>\n",
       "      <td>{'kernel_size': 3, 'num_filters': 64}</td>\n",
       "      <td>0.784286</td>\n",
       "      <td>0.790000</td>\n",
       "      <td>0.785714</td>\n",
       "      <td>0.797143</td>\n",
       "      <td>0.792857</td>\n",
       "      <td>0.790000</td>\n",
       "      <td>0.004695</td>\n",
       "      <td>4</td>\n",
       "    </tr>\n",
       "    <tr>\n",
       "      <th>2</th>\n",
       "      <td>11.142655</td>\n",
       "      <td>0.861579</td>\n",
       "      <td>0.368998</td>\n",
       "      <td>0.000956</td>\n",
       "      <td>3</td>\n",
       "      <td>128</td>\n",
       "      <td>{'kernel_size': 3, 'num_filters': 128}</td>\n",
       "      <td>0.818571</td>\n",
       "      <td>0.787143</td>\n",
       "      <td>0.788571</td>\n",
       "      <td>0.798571</td>\n",
       "      <td>0.782857</td>\n",
       "      <td>0.795143</td>\n",
       "      <td>0.012797</td>\n",
       "      <td>3</td>\n",
       "    </tr>\n",
       "    <tr>\n",
       "      <th>3</th>\n",
       "      <td>7.375367</td>\n",
       "      <td>0.624442</td>\n",
       "      <td>0.344025</td>\n",
       "      <td>0.019040</td>\n",
       "      <td>5</td>\n",
       "      <td>32</td>\n",
       "      <td>{'kernel_size': 5, 'num_filters': 32}</td>\n",
       "      <td>0.788571</td>\n",
       "      <td>0.748571</td>\n",
       "      <td>0.785714</td>\n",
       "      <td>0.771429</td>\n",
       "      <td>0.790000</td>\n",
       "      <td>0.776857</td>\n",
       "      <td>0.015607</td>\n",
       "      <td>9</td>\n",
       "    </tr>\n",
       "    <tr>\n",
       "      <th>4</th>\n",
       "      <td>11.321693</td>\n",
       "      <td>0.857668</td>\n",
       "      <td>0.462188</td>\n",
       "      <td>0.108616</td>\n",
       "      <td>5</td>\n",
       "      <td>64</td>\n",
       "      <td>{'kernel_size': 5, 'num_filters': 64}</td>\n",
       "      <td>0.798571</td>\n",
       "      <td>0.762857</td>\n",
       "      <td>0.785714</td>\n",
       "      <td>0.780000</td>\n",
       "      <td>0.790000</td>\n",
       "      <td>0.783429</td>\n",
       "      <td>0.011939</td>\n",
       "      <td>7</td>\n",
       "    </tr>\n",
       "    <tr>\n",
       "      <th>5</th>\n",
       "      <td>14.413961</td>\n",
       "      <td>1.769237</td>\n",
       "      <td>0.437479</td>\n",
       "      <td>0.015922</td>\n",
       "      <td>5</td>\n",
       "      <td>128</td>\n",
       "      <td>{'kernel_size': 5, 'num_filters': 128}</td>\n",
       "      <td>0.808571</td>\n",
       "      <td>0.777143</td>\n",
       "      <td>0.797143</td>\n",
       "      <td>0.792857</td>\n",
       "      <td>0.805714</td>\n",
       "      <td>0.796286</td>\n",
       "      <td>0.011125</td>\n",
       "      <td>2</td>\n",
       "    </tr>\n",
       "    <tr>\n",
       "      <th>6</th>\n",
       "      <td>8.240844</td>\n",
       "      <td>0.713448</td>\n",
       "      <td>0.450842</td>\n",
       "      <td>0.133541</td>\n",
       "      <td>7</td>\n",
       "      <td>32</td>\n",
       "      <td>{'kernel_size': 7, 'num_filters': 32}</td>\n",
       "      <td>0.778571</td>\n",
       "      <td>0.785714</td>\n",
       "      <td>0.784286</td>\n",
       "      <td>0.804286</td>\n",
       "      <td>0.767143</td>\n",
       "      <td>0.784000</td>\n",
       "      <td>0.012068</td>\n",
       "      <td>6</td>\n",
       "    </tr>\n",
       "    <tr>\n",
       "      <th>7</th>\n",
       "      <td>12.564625</td>\n",
       "      <td>1.033466</td>\n",
       "      <td>0.422121</td>\n",
       "      <td>0.011262</td>\n",
       "      <td>7</td>\n",
       "      <td>64</td>\n",
       "      <td>{'kernel_size': 7, 'num_filters': 64}</td>\n",
       "      <td>0.782857</td>\n",
       "      <td>0.784286</td>\n",
       "      <td>0.797143</td>\n",
       "      <td>0.775714</td>\n",
       "      <td>0.784286</td>\n",
       "      <td>0.784857</td>\n",
       "      <td>0.006916</td>\n",
       "      <td>5</td>\n",
       "    </tr>\n",
       "    <tr>\n",
       "      <th>8</th>\n",
       "      <td>16.461017</td>\n",
       "      <td>1.833255</td>\n",
       "      <td>0.492817</td>\n",
       "      <td>0.026788</td>\n",
       "      <td>7</td>\n",
       "      <td>128</td>\n",
       "      <td>{'kernel_size': 7, 'num_filters': 128}</td>\n",
       "      <td>0.807143</td>\n",
       "      <td>0.790000</td>\n",
       "      <td>0.790000</td>\n",
       "      <td>0.791429</td>\n",
       "      <td>0.812857</td>\n",
       "      <td>0.798286</td>\n",
       "      <td>0.009748</td>\n",
       "      <td>1</td>\n",
       "    </tr>\n",
       "  </tbody>\n",
       "</table>\n",
       "</div>"
      ],
      "text/plain": [
       "   mean_fit_time  std_fit_time  mean_score_time  std_score_time  \\\n",
       "0       6.531836      0.711607         0.328754        0.017909   \n",
       "1       8.828713      0.934888         0.325986        0.006449   \n",
       "2      11.142655      0.861579         0.368998        0.000956   \n",
       "3       7.375367      0.624442         0.344025        0.019040   \n",
       "4      11.321693      0.857668         0.462188        0.108616   \n",
       "5      14.413961      1.769237         0.437479        0.015922   \n",
       "6       8.240844      0.713448         0.450842        0.133541   \n",
       "7      12.564625      1.033466         0.422121        0.011262   \n",
       "8      16.461017      1.833255         0.492817        0.026788   \n",
       "\n",
       "  param_kernel_size param_num_filters                                  params  \\\n",
       "0                 3                32   {'kernel_size': 3, 'num_filters': 32}   \n",
       "1                 3                64   {'kernel_size': 3, 'num_filters': 64}   \n",
       "2                 3               128  {'kernel_size': 3, 'num_filters': 128}   \n",
       "3                 5                32   {'kernel_size': 5, 'num_filters': 32}   \n",
       "4                 5                64   {'kernel_size': 5, 'num_filters': 64}   \n",
       "5                 5               128  {'kernel_size': 5, 'num_filters': 128}   \n",
       "6                 7                32   {'kernel_size': 7, 'num_filters': 32}   \n",
       "7                 7                64   {'kernel_size': 7, 'num_filters': 64}   \n",
       "8                 7               128  {'kernel_size': 7, 'num_filters': 128}   \n",
       "\n",
       "   split0_test_score  split1_test_score  split2_test_score  split3_test_score  \\\n",
       "0           0.784286           0.790000           0.777143           0.772857   \n",
       "1           0.784286           0.790000           0.785714           0.797143   \n",
       "2           0.818571           0.787143           0.788571           0.798571   \n",
       "3           0.788571           0.748571           0.785714           0.771429   \n",
       "4           0.798571           0.762857           0.785714           0.780000   \n",
       "5           0.808571           0.777143           0.797143           0.792857   \n",
       "6           0.778571           0.785714           0.784286           0.804286   \n",
       "7           0.782857           0.784286           0.797143           0.775714   \n",
       "8           0.807143           0.790000           0.790000           0.791429   \n",
       "\n",
       "   split4_test_score  mean_test_score  std_test_score  rank_test_score  \n",
       "0           0.771429         0.779143        0.007033                8  \n",
       "1           0.792857         0.790000        0.004695                4  \n",
       "2           0.782857         0.795143        0.012797                3  \n",
       "3           0.790000         0.776857        0.015607                9  \n",
       "4           0.790000         0.783429        0.011939                7  \n",
       "5           0.805714         0.796286        0.011125                2  \n",
       "6           0.767143         0.784000        0.012068                6  \n",
       "7           0.784286         0.784857        0.006916                5  \n",
       "8           0.812857         0.798286        0.009748                1  "
      ]
     },
     "execution_count": 160,
     "metadata": {},
     "output_type": "execute_result"
    }
   ],
   "source": [
    "pd.DataFrame(gridSearch.cv_results_)"
   ]
  },
  {
   "cell_type": "code",
   "execution_count": 161,
   "id": "9f02f06f",
   "metadata": {},
   "outputs": [],
   "source": [
    "model = Sequential([\n",
    "    embedding_layer,\n",
    "    Conv1D(gridSearch.best_params_['num_filters'], gridSearch.best_params_['kernel_size'], activation='relu'),\n",
    "    GlobalMaxPooling1D(),\n",
    "    Dense(10, activation='relu'),\n",
    "    Dense(1, activation='sigmoid')])\n",
    "\n",
    "\n",
    "METRICS = [\n",
    "    tf.keras.metrics.BinaryAccuracy(name='accuracy'),\n",
    "    tf.keras.metrics.Precision(name='precision'),\n",
    "    tf.keras.metrics.Recall(name='recall'),\n",
    "]\n",
    "\n",
    "model.compile(optimizer='adam', loss='binary_crossentropy', metrics=[METRICS])"
   ]
  },
  {
   "cell_type": "code",
   "execution_count": 162,
   "id": "11449fd9",
   "metadata": {},
   "outputs": [
    {
     "name": "stdout",
     "output_type": "stream",
     "text": [
      "Epoch 1/10\n",
      "110/110 [==============================] - 4s 29ms/step - loss: 0.5305 - accuracy: 0.7743 - precision: 0.7758 - recall: 0.9974 - val_loss: 0.4996 - val_accuracy: 0.7760 - val_precision: 0.7760 - val_recall: 1.0000\n",
      "Epoch 2/10\n",
      "110/110 [==============================] - 3s 26ms/step - loss: 0.4472 - accuracy: 0.7760 - precision: 0.7760 - recall: 1.0000 - val_loss: 0.4575 - val_accuracy: 0.7760 - val_precision: 0.7760 - val_recall: 1.0000\n",
      "Epoch 3/10\n",
      "110/110 [==============================] - 3s 26ms/step - loss: 0.3586 - accuracy: 0.8040 - precision: 0.7996 - recall: 0.9974 - val_loss: 0.4387 - val_accuracy: 0.8033 - val_precision: 0.8119 - val_recall: 0.9716\n",
      "Epoch 4/10\n",
      "110/110 [==============================] - 2s 22ms/step - loss: 0.2277 - accuracy: 0.9257 - precision: 0.9285 - recall: 0.9797 - val_loss: 0.4426 - val_accuracy: 0.8120 - val_precision: 0.8478 - val_recall: 0.9235\n",
      "Epoch 5/10\n",
      "110/110 [==============================] - 3s 23ms/step - loss: 0.0935 - accuracy: 0.9883 - precision: 0.9869 - recall: 0.9982 - val_loss: 0.4702 - val_accuracy: 0.8087 - val_precision: 0.8494 - val_recall: 0.9158\n",
      "Epoch 6/10\n",
      "110/110 [==============================] - 3s 24ms/step - loss: 0.0367 - accuracy: 0.9986 - precision: 0.9985 - recall: 0.9996 - val_loss: 0.5429 - val_accuracy: 0.8153 - val_precision: 0.8297 - val_recall: 0.9588\n",
      "Epoch 7/10\n",
      "110/110 [==============================] - 3s 24ms/step - loss: 0.0149 - accuracy: 1.0000 - precision: 1.0000 - recall: 1.0000 - val_loss: 0.5525 - val_accuracy: 0.8100 - val_precision: 0.8332 - val_recall: 0.9442\n",
      "Epoch 8/10\n",
      "110/110 [==============================] - 3s 24ms/step - loss: 0.0085 - accuracy: 1.0000 - precision: 1.0000 - recall: 1.0000 - val_loss: 0.5793 - val_accuracy: 0.8107 - val_precision: 0.8349 - val_recall: 0.9424\n",
      "Epoch 9/10\n",
      "110/110 [==============================] - 3s 23ms/step - loss: 0.0058 - accuracy: 1.0000 - precision: 1.0000 - recall: 1.0000 - val_loss: 0.6045 - val_accuracy: 0.8107 - val_precision: 0.8343 - val_recall: 0.9433\n",
      "Epoch 10/10\n",
      "110/110 [==============================] - 2s 22ms/step - loss: 0.0042 - accuracy: 1.0000 - precision: 1.0000 - recall: 1.0000 - val_loss: 0.6310 - val_accuracy: 0.8120 - val_precision: 0.8331 - val_recall: 0.9476\n"
     ]
    }
   ],
   "source": [
    "history = model.fit(padded_train,\n",
    "          y_train,\n",
    "          epochs=10,\n",
    "          batch_size=32,          \n",
    "          validation_data=(padded_test, y_test))"
   ]
  },
  {
   "cell_type": "code",
   "execution_count": 163,
   "id": "f7fde591",
   "metadata": {},
   "outputs": [
    {
     "name": "stdout",
     "output_type": "stream",
     "text": [
      "47/47 [==============================] - 0s 9ms/step - loss: 0.6310 - accuracy: 0.8120 - precision: 0.8331 - recall: 0.9476\n",
      "Acurácia:  0.8119999766349792\n",
      "Precisão:  0.8330815434455872\n",
      "F1-Score:  0.8866559424530698\n",
      "Recall:  0.9475945234298706\n"
     ]
    }
   ],
   "source": [
    "loss, accuracy, precision, recall = model.evaluate(padded_test, y_test)\n",
    "\n",
    "f1 = 2 * (precision * recall) / (precision + recall)\n",
    "\n",
    "print(\"Acurácia: \", accuracy)\n",
    "\n",
    "print(\"Precisão: \", precision)\n",
    "print(\"F1-Score: \", f1)\n",
    "print(\"Recall: \", recall)"
   ]
  },
  {
   "cell_type": "code",
   "execution_count": null,
   "id": "20f9c7ce",
   "metadata": {},
   "outputs": [],
   "source": []
  }
 ],
 "metadata": {
  "kernelspec": {
   "display_name": "Python 3 (ipykernel)",
   "language": "python",
   "name": "python3"
  },
  "language_info": {
   "codemirror_mode": {
    "name": "ipython",
    "version": 3
   },
   "file_extension": ".py",
   "mimetype": "text/x-python",
   "name": "python",
   "nbconvert_exporter": "python",
   "pygments_lexer": "ipython3",
   "version": "3.8.12"
  }
 },
 "nbformat": 4,
 "nbformat_minor": 5
}
