{
 "cells": [
  {
   "cell_type": "code",
   "execution_count": 1,
   "id": "01731ae8",
   "metadata": {},
   "outputs": [],
   "source": [
    "# https://www.amazon.com.br/Kindle-10a-gera%C3%A7%C3%A3o-ilumina%C3%A7%C3%A3o-embutida/product-reviews/B07FQK1TS9/ref=cm_cr_arp_d_paging_btm_499?ie=UTF8&pageNumber=499&reviewerType=all_reviews\n",
    "# https://www.amazon.com.br/Kindle-10a-gera%C3%A7%C3%A3o-ilumina%C3%A7%C3%A3o-embutida/product-reviews/B07FQK1TS9/ref=cm_cr_dp_d_show_all_btm?ie=UTF8&reviewerType=all_reviews"
   ]
  },
  {
   "cell_type": "code",
   "execution_count": 2,
   "id": "385d2db6",
   "metadata": {},
   "outputs": [],
   "source": [
    "import requests\n",
    "from bs4 import BeautifulSoup\n",
    "import pandas as pd\n"
   ]
  },
  {
   "cell_type": "code",
   "execution_count": 3,
   "id": "9b8faf66",
   "metadata": {},
   "outputs": [],
   "source": [
    "def web_scraping():\n",
    "    reviews = []\n",
    "    \n",
    "    for i in range(1, 501):\n",
    "        print(i)\n",
    "        v = 0\n",
    "        while (v != 200):\n",
    "            url = f'https://www.amazon.com.br/Kindle-10a-gera%C3%A7%C3%A3o-ilumina%C3%A7%C3%A3o-embutida/product-reviews/B07FQK1TS9/ref=cm_cr_arp_d_paging_btm_{i}?ie=UTF8&pageNumber={i}&reviewerType=all_reviews'\n",
    "\n",
    "            html = requests.get(url)\n",
    "\n",
    "            v = html.status_code\n",
    "\n",
    "            if (v == 200):\n",
    "                soup = BeautifulSoup(html.content, 'html.parser')\n",
    "                \n",
    "                posts = soup.findAll('div', {'data-hook':'review'})\n",
    "\n",
    "                for post in posts:\n",
    "                    nome = post.find('span', {'class': 'a-profile-name'}).text.strip()\n",
    "                    titulo = post.find('a', {'data-hook':'review-title'}).text.strip()\n",
    "                    texto = post.find('span', {'data-hook':'review-body'}).text.replace('Ler mais', '').replace('A mídia não pôde ser carregada.', '').strip()\n",
    "                    data = post.find('span', {'data-hook':'review-date'}).text.strip()\n",
    "                    review = post.find('span', {'class': 'a-icon-alt'}).text.replace('de 5 estrelas', '').replace(',', '.')\n",
    "                    reviews.append([nome, titulo, texto, data, review])\n",
    "    return reviews"
   ]
  },
  {
   "cell_type": "code",
   "execution_count": 4,
   "id": "5fcb5f27",
   "metadata": {},
   "outputs": [],
   "source": [
    "# Executar essa linha apenas se for capturar os reviews\n",
    "\n",
    "#reviews = web_scraping()"
   ]
  },
  {
   "cell_type": "code",
   "execution_count": 5,
   "id": "03a4666c",
   "metadata": {},
   "outputs": [],
   "source": [
    "# Executar para criar um dataset e salvar os dados em um csv\n",
    "# Executar essa linha apenas se for capturar os reviews\n",
    "\n",
    "#dataset = pd.DataFrame(reviews, columns=['Nome', 'Titulo', 'Texto', 'Data', 'Review'])\n",
    "#dataset.shape"
   ]
  },
  {
   "cell_type": "code",
   "execution_count": 6,
   "id": "5da67bda",
   "metadata": {},
   "outputs": [],
   "source": [
    "# Executar apenas para salvar o dataset no csv\n",
    "\n",
    "#dataset.to_csv('reviews_kindle.csv', index=False)"
   ]
  },
  {
   "cell_type": "code",
   "execution_count": 7,
   "id": "83b5a001",
   "metadata": {},
   "outputs": [
    {
     "data": {
      "text/html": [
       "<div>\n",
       "<style scoped>\n",
       "    .dataframe tbody tr th:only-of-type {\n",
       "        vertical-align: middle;\n",
       "    }\n",
       "\n",
       "    .dataframe tbody tr th {\n",
       "        vertical-align: top;\n",
       "    }\n",
       "\n",
       "    .dataframe thead th {\n",
       "        text-align: right;\n",
       "    }\n",
       "</style>\n",
       "<table border=\"1\" class=\"dataframe\">\n",
       "  <thead>\n",
       "    <tr style=\"text-align: right;\">\n",
       "      <th></th>\n",
       "      <th>Nome</th>\n",
       "      <th>Titulo</th>\n",
       "      <th>Texto</th>\n",
       "      <th>Data</th>\n",
       "      <th>Review</th>\n",
       "    </tr>\n",
       "  </thead>\n",
       "  <tbody>\n",
       "    <tr>\n",
       "      <th>0</th>\n",
       "      <td>Anne Naus</td>\n",
       "      <td>Mais barato, bom e bonito. Amei minha escolha.</td>\n",
       "      <td>Apesar de oferecer 4GB, só com sistema ele con...</td>\n",
       "      <td>Avaliado no Brasil em 27 de maio de 2019</td>\n",
       "      <td>5.0</td>\n",
       "    </tr>\n",
       "    <tr>\n",
       "      <th>1</th>\n",
       "      <td>SoldaCosta</td>\n",
       "      <td>Onde está meus 90 dias de leitura grátis?</td>\n",
       "      <td>Adorei. Só não ganhei os 90 dias de leitura gr...</td>\n",
       "      <td>Avaliado no Brasil em 30 de abril de 2019</td>\n",
       "      <td>4.0</td>\n",
       "    </tr>\n",
       "    <tr>\n",
       "      <th>2</th>\n",
       "      <td>Amanda s</td>\n",
       "      <td>Bom produto</td>\n",
       "      <td>Maravilhoso!Mas ainda estou procurando os 4gb ...</td>\n",
       "      <td>Avaliado no Brasil em 3 de maio de 2019</td>\n",
       "      <td>4.0</td>\n",
       "    </tr>\n",
       "    <tr>\n",
       "      <th>3</th>\n",
       "      <td>Allison Silva Resende</td>\n",
       "      <td>Triste compra uma coisa que se diz 4gb e so vi...</td>\n",
       "      <td>Produto é o que é, gostei da experiencia é a p...</td>\n",
       "      <td>Avaliado no Brasil em 6 de maio de 2019</td>\n",
       "      <td>1.0</td>\n",
       "    </tr>\n",
       "    <tr>\n",
       "      <th>4</th>\n",
       "      <td>Laura Marodin De Bacco</td>\n",
       "      <td>Maravilhoso</td>\n",
       "      <td>Não posso comparar com as outras geração pois ...</td>\n",
       "      <td>Avaliado no Brasil em 4 de maio de 2019</td>\n",
       "      <td>5.0</td>\n",
       "    </tr>\n",
       "  </tbody>\n",
       "</table>\n",
       "</div>"
      ],
      "text/plain": [
       "                     Nome                                             Titulo  \\\n",
       "0               Anne Naus     Mais barato, bom e bonito. Amei minha escolha.   \n",
       "1              SoldaCosta          Onde está meus 90 dias de leitura grátis?   \n",
       "2                Amanda s                                        Bom produto   \n",
       "3   Allison Silva Resende  Triste compra uma coisa que se diz 4gb e so vi...   \n",
       "4  Laura Marodin De Bacco                                        Maravilhoso   \n",
       "\n",
       "                                               Texto  \\\n",
       "0  Apesar de oferecer 4GB, só com sistema ele con...   \n",
       "1  Adorei. Só não ganhei os 90 dias de leitura gr...   \n",
       "2  Maravilhoso!Mas ainda estou procurando os 4gb ...   \n",
       "3  Produto é o que é, gostei da experiencia é a p...   \n",
       "4  Não posso comparar com as outras geração pois ...   \n",
       "\n",
       "                                        Data  Review  \n",
       "0   Avaliado no Brasil em 27 de maio de 2019     5.0  \n",
       "1  Avaliado no Brasil em 30 de abril de 2019     4.0  \n",
       "2    Avaliado no Brasil em 3 de maio de 2019     4.0  \n",
       "3    Avaliado no Brasil em 6 de maio de 2019     1.0  \n",
       "4    Avaliado no Brasil em 4 de maio de 2019     5.0  "
      ]
     },
     "execution_count": 7,
     "metadata": {},
     "output_type": "execute_result"
    }
   ],
   "source": [
    "df = pd.read_csv('reviews_kindle.csv')\n",
    "df.head()"
   ]
  },
  {
   "cell_type": "code",
   "execution_count": 8,
   "id": "b956ecfa",
   "metadata": {},
   "outputs": [
    {
     "data": {
      "text/plain": [
       "(5000, 5)"
      ]
     },
     "execution_count": 8,
     "metadata": {},
     "output_type": "execute_result"
    }
   ],
   "source": [
    "df.shape"
   ]
  },
  {
   "cell_type": "code",
   "execution_count": null,
   "id": "725610ad",
   "metadata": {},
   "outputs": [],
   "source": []
  },
  {
   "cell_type": "code",
   "execution_count": null,
   "id": "4d6e7962",
   "metadata": {},
   "outputs": [],
   "source": []
  }
 ],
 "metadata": {
  "kernelspec": {
   "display_name": "Python 3 (ipykernel)",
   "language": "python",
   "name": "python3"
  },
  "language_info": {
   "codemirror_mode": {
    "name": "ipython",
    "version": 3
   },
   "file_extension": ".py",
   "mimetype": "text/x-python",
   "name": "python",
   "nbconvert_exporter": "python",
   "pygments_lexer": "ipython3",
   "version": "3.10.1"
  }
 },
 "nbformat": 4,
 "nbformat_minor": 5
}
