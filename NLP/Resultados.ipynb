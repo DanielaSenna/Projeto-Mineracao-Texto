{
 "cells": [
  {
   "cell_type": "markdown",
   "id": "bab767d3",
   "metadata": {},
   "source": [
    "| **<font color='#F4A460'>Modelo</font>** | **<font color='#F4A460'>Precisão</font>** | **<font color='#F4A460'>Recall</font>**  |  **<font color='#F4A460'>F1-Score</font>**  |\n",
    "| ------------------- | ------------------- | ------------------- | ------------------- |\n",
    "|  Random Forest - Bag-of-Words - Com Stemming |  0.80 |  1.0 |  0.89 |\n",
    "|  Random Forest - Bag-of-Words - Sem Stemming |  0.78 |  1.0 |  0.88 |\n",
    "|  CNN - Word Embedding Pré-Treinado - Com Stemming |  0.83 |  0.94 |  0.88 |\n",
    "|  CNN - Word Embedding Pré-Treinado - Sem Stemming |  0.86 |  0.92 |  0.89 |\n",
    "|  CNN - Word Embedding - Com Stemming |  0.86 |  0.92 |  0.89|\n",
    "|  CNN - Word Embedding - Sem Stemming |  0.83 |  0.93 |  0.88 |\n",
    "|  LSTM - Word Embedding Pré-Treinado - Com Stemming |  0.77 |  0.99 | 0.87 |\n",
    "|  LSTM - Word Embedding Pré-Treinado - Sem Stemming |  0.77 |  1.0 |  0.87 |\n",
    "|  LSMT - Word Embedding - Com Stemming |  0.87 |  0.88 |  0.87 |\n",
    "|  LSTM - Word Embedding - Sem Stemming |  0.85 |  0.93 |  0.89 |\n",
    "|  Bert - Com Stemming |  0.77 |  1.0 |  0.87 |\n",
    "|  **<font color='#F4A460'>Bert - Sem Stemming</font>** |  **<font color='#F4A460'>0.85</font>** |  **<font color='#F4A460'>0.97</font>** |  **<font color='#F4A460'>0.91</font>** |"
   ]
  }
 ],
 "metadata": {
  "kernelspec": {
   "display_name": "Python 3 (ipykernel)",
   "language": "python",
   "name": "python3"
  },
  "language_info": {
   "codemirror_mode": {
    "name": "ipython",
    "version": 3
   },
   "file_extension": ".py",
   "mimetype": "text/x-python",
   "name": "python",
   "nbconvert_exporter": "python",
   "pygments_lexer": "ipython3",
   "version": "3.9.7"
  }
 },
 "nbformat": 4,
 "nbformat_minor": 5
}
